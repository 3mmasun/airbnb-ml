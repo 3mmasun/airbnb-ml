{
 "cells": [
  {
   "cell_type": "code",
   "execution_count": 1,
   "metadata": {},
   "outputs": [
    {
     "name": "stdout",
     "output_type": "stream",
     "text": "/Users/sgemma.sun/Documents/data101/airbnb-ml\n"
    }
   ],
   "source": [
    "cd .."
   ]
  },
  {
   "cell_type": "code",
   "execution_count": 2,
   "metadata": {},
   "outputs": [],
   "source": [
    "import numpy as np\n",
    "import pandas as pd\n",
    "import seaborn as sns\n",
    "import matplotlib.pyplot as plt\n",
    "import src.transform as trans"
   ]
  },
  {
   "cell_type": "code",
   "execution_count": 3,
   "metadata": {},
   "outputs": [],
   "source": [
    "pd.set_option('display.max_colwidth', None)\n",
    "pd.set_option('display.max_columns', None)\n",
    "pd.set_option('display.max_rows', None)"
   ]
  },
  {
   "cell_type": "code",
   "execution_count": 4,
   "metadata": {},
   "outputs": [
    {
     "name": "stdout",
     "output_type": "stream",
     "text": "(20428, 66)\nfloat64    36\nobject     30\ndtype: int64\n"
    }
   ],
   "source": [
    "import s3fs\n",
    "import pyarrow.parquet as pq\n",
    "\n",
    "s3 = s3fs.S3FileSystem()\n",
    "\n",
    "filePath = 's3://airbnb-barcelona/valid/currentDate=2020-03-11'\n",
    "airbnb_df = pq.ParquetDataset(filePath, filesystem=s3).read_pandas().to_pandas()\n",
    "\n",
    "airbnb = airbnb_df.drop(columns=[\n",
    "    'rowId',\n",
    "    'id',\n",
    "    'host_location',\n",
    "    'host_neighbourhood',\n",
    "    'street',\n",
    "    'neighbourhood',\n",
    "    'neighbourhood_cleansed',\n",
    "    'market',\n",
    "    'license',\n",
    "    'zipcode'\n",
    "])\n",
    "\n",
    "print(airbnb_df.shape)\n",
    "print(airbnb_df.dtypes.value_counts())"
   ]
  },
  {
   "cell_type": "code",
   "execution_count": 9,
   "metadata": {},
   "outputs": [
    {
     "data": {
      "text/html": "<div>\n<style scoped>\n    .dataframe tbody tr th:only-of-type {\n        vertical-align: middle;\n    }\n\n    .dataframe tbody tr th {\n        vertical-align: top;\n    }\n\n    .dataframe thead th {\n        text-align: right;\n    }\n</style>\n<table border=\"1\" class=\"dataframe\">\n  <thead>\n    <tr style=\"text-align: right;\">\n      <th></th>\n      <th>host_since</th>\n      <th>host_response_time</th>\n      <th>host_is_superhost</th>\n      <th>host_verifications</th>\n      <th>host_has_profile_pic</th>\n      <th>host_identity_verified</th>\n      <th>neighbourhood_group_cleansed</th>\n      <th>is_location_exact</th>\n      <th>property_type</th>\n      <th>room_type</th>\n      <th>bed_type</th>\n      <th>amenities</th>\n      <th>calendar_updated</th>\n      <th>has_availability</th>\n      <th>first_review</th>\n      <th>last_review</th>\n      <th>instant_bookable</th>\n      <th>cancellation_policy</th>\n      <th>require_guest_profile_picture</th>\n      <th>require_guest_phone_verification</th>\n    </tr>\n  </thead>\n  <tbody>\n    <tr>\n      <th>0</th>\n      <td>2010-01-19</td>\n      <td>within an hour</td>\n      <td>False</td>\n      <td>['email', 'phone', 'reviews', 'jumio', 'government_id']</td>\n      <td>True</td>\n      <td>True</td>\n      <td>Sant Martí</td>\n      <td>True</td>\n      <td>Apartment</td>\n      <td>Entire home/apt</td>\n      <td>Real Bed</td>\n      <td>{TV,Internet,Wifi,\"Air conditioning\",\"Wheelchair accessible\",Kitchen,Elevator,\"Free street parking\",Heating,\"Family/kid friendly\",Washer,Dryer,Essentials,Shampoo,\"Hair dryer\",\"Hot water\",\"Host greets you\",\"Paid parking on premises\"}</td>\n      <td>3 months ago</td>\n      <td>True</td>\n      <td>2015-10-10</td>\n      <td>2015-10-10</td>\n      <td>False</td>\n      <td>flexible</td>\n      <td>False</td>\n      <td>False</td>\n    </tr>\n  </tbody>\n</table>\n</div>",
      "text/plain": "   host_since host_response_time host_is_superhost  \\\n0  2010-01-19     within an hour             False   \n\n                                        host_verifications  \\\n0  ['email', 'phone', 'reviews', 'jumio', 'government_id']   \n\n  host_has_profile_pic host_identity_verified neighbourhood_group_cleansed  \\\n0                 True                   True                   Sant Martí   \n\n  is_location_exact property_type        room_type  bed_type  \\\n0              True     Apartment  Entire home/apt  Real Bed   \n\n                                                                                                                                                                                                                                  amenities  \\\n0  {TV,Internet,Wifi,\"Air conditioning\",\"Wheelchair accessible\",Kitchen,Elevator,\"Free street parking\",Heating,\"Family/kid friendly\",Washer,Dryer,Essentials,Shampoo,\"Hair dryer\",\"Hot water\",\"Host greets you\",\"Paid parking on premises\"}   \n\n  calendar_updated has_availability first_review last_review instant_bookable  \\\n0     3 months ago             True   2015-10-10  2015-10-10            False   \n\n  cancellation_policy require_guest_profile_picture  \\\n0            flexible                         False   \n\n  require_guest_phone_verification  \n0                            False  "
     },
     "execution_count": 9,
     "metadata": {},
     "output_type": "execute_result"
    }
   ],
   "source": [
    "cat_df = airbnb.select_dtypes(include=['object']).copy()\n",
    "cat_df.head(1)"
   ]
  },
  {
   "cell_type": "code",
   "execution_count": 24,
   "metadata": {},
   "outputs": [
    {
     "data": {
      "text/html": "<div>\n<style scoped>\n    .dataframe tbody tr th:only-of-type {\n        vertical-align: middle;\n    }\n\n    .dataframe tbody tr th {\n        vertical-align: top;\n    }\n\n    .dataframe thead th {\n        text-align: right;\n    }\n</style>\n<table border=\"1\" class=\"dataframe\">\n  <thead>\n    <tr style=\"text-align: right;\">\n      <th></th>\n      <th>first_review_year</th>\n      <th>first_review_month</th>\n    </tr>\n  </thead>\n  <tbody>\n    <tr>\n      <th>0</th>\n      <td>2015.0</td>\n      <td>10.0</td>\n    </tr>\n    <tr>\n      <th>1</th>\n      <td>2013.0</td>\n      <td>5.0</td>\n    </tr>\n    <tr>\n      <th>2</th>\n      <td>2011.0</td>\n      <td>3.0</td>\n    </tr>\n    <tr>\n      <th>3</th>\n      <td>2010.0</td>\n      <td>8.0</td>\n    </tr>\n    <tr>\n      <th>4</th>\n      <td>2011.0</td>\n      <td>2.0</td>\n    </tr>\n    <tr>\n      <th>5</th>\n      <td>2011.0</td>\n      <td>1.0</td>\n    </tr>\n    <tr>\n      <th>6</th>\n      <td>2010.0</td>\n      <td>8.0</td>\n    </tr>\n    <tr>\n      <th>7</th>\n      <td>2011.0</td>\n      <td>7.0</td>\n    </tr>\n    <tr>\n      <th>8</th>\n      <td>2010.0</td>\n      <td>7.0</td>\n    </tr>\n    <tr>\n      <th>9</th>\n      <td>2010.0</td>\n      <td>10.0</td>\n    </tr>\n  </tbody>\n</table>\n</div>",
      "text/plain": "   first_review_year  first_review_month\n0             2015.0                10.0\n1             2013.0                 5.0\n2             2011.0                 3.0\n3             2010.0                 8.0\n4             2011.0                 2.0\n5             2011.0                 1.0\n6             2010.0                 8.0\n7             2011.0                 7.0\n8             2010.0                 7.0\n9             2010.0                10.0"
     },
     "execution_count": 24,
     "metadata": {},
     "output_type": "execute_result"
    }
   ],
   "source": [
    "cat_df[\"first_review\"].value_counts()\n",
    "# cat_df.sort_values([\"first_review\"], ascending=True).head(10)\n",
    "# cat_df[\"first_review\"] = pd.to_datetime(cat_df[\"first_review\"], format = '%Y-%m-%d')\n",
    "cat_df[\"first_review_year\"] = cat_df[\"first_review\"].dt.year\n",
    "cat_df[\"first_review_month\"] = cat_df[\"first_review\"].dt.month\n",
    "cat_df[[\"first_review_year\", \"first_review_month\"]].head(10)"
   ]
  },
  {
   "cell_type": "code",
   "execution_count": 7,
   "metadata": {},
   "outputs": [],
   "source": [
    "# drop outliers\n",
    "cat_df = trans.drop_rows_occurs_less_than(cat_df, \"cancellation_policy\", 2)\n",
    "cat_df = trans.drop_rows_occurs_less_than(cat_df, \"host_response_time\", 1)\n",
    "# boolean to float\n",
    "cat_df = trans.encode_boolean_to_float(cat_df, \"host_is_superhost\")\n",
    "cat_df = trans.encode_boolean_to_float(cat_df, \"host_has_profile_pic\")\n",
    "cat_df = trans.encode_boolean_to_float(cat_df, \"host_identity_verified\")\n",
    "cat_df = trans.encode_boolean_to_float(cat_df, \"is_location_exact\")\n",
    "cat_df = trans.encode_boolean_to_float(cat_df, \"has_availability\")\n",
    "cat_df = trans.encode_boolean_to_float(cat_df, \"instant_bookable\")\n",
    "cat_df = trans.encode_boolean_to_float(cat_df, \"require_guest_profile_picture\")\n",
    "cat_df = trans.encode_boolean_to_float(cat_df, \"require_guest_phone_verification\")\n",
    "# fillna\n",
    "cat_df = trans.fillna_with_lowest_occurance(cat_df, \"host_since\")\n",
    "cat_df = trans.fillna_with_lowest_occurance(cat_df, \"host_response_time\")\n",
    "cat_df = trans.fillna_with_lowest_occurance(cat_df, \"host_is_superhost\")\n",
    "cat_df = trans.fillna_with_lowest_occurance(cat_df, \"host_has_profile_pic\")\n",
    "cat_df = trans.fillna_with_lowest_occurance(cat_df, \"host_identity_verified\")\n",
    "cat_df = trans.fillna_with_lowest_occurance(cat_df, \"first_review\")\n",
    "cat_df = trans.fillna_with_lowest_occurance(cat_df, \"last_review\")\n",
    "# category encode\n",
    "dic_host_response_time = {'host_response_time': {'N/A': 1, 'a few days or more': 2, 'within a day': 3, 'within a few hours': 4, 'within an hour': 5}}\n",
    "cat_df = cat_df.replace(dic_host_response_time)\n",
    "# special transform\n",
    "cat_df = trans.extract_num_of_items_for_column(cat_df, \"host_verifications\")\n",
    "cat_df = trans.extract_num_of_items_for_column(cat_df, \"amenities\")"
   ]
  },
  {
   "cell_type": "code",
   "execution_count": 8,
   "metadata": {},
   "outputs": [
    {
     "data": {
      "text/html": "<div>\n<style scoped>\n    .dataframe tbody tr th:only-of-type {\n        vertical-align: middle;\n    }\n\n    .dataframe tbody tr th {\n        vertical-align: top;\n    }\n\n    .dataframe thead th {\n        text-align: right;\n    }\n</style>\n<table border=\"1\" class=\"dataframe\">\n  <thead>\n    <tr style=\"text-align: right;\">\n      <th></th>\n      <th>host_since</th>\n      <th>host_response_time</th>\n      <th>host_is_superhost</th>\n      <th>host_verifications</th>\n      <th>host_has_profile_pic</th>\n      <th>host_identity_verified</th>\n      <th>neighbourhood_group_cleansed</th>\n      <th>is_location_exact</th>\n      <th>property_type</th>\n      <th>room_type</th>\n      <th>bed_type</th>\n      <th>amenities</th>\n      <th>calendar_updated</th>\n      <th>has_availability</th>\n      <th>first_review</th>\n      <th>last_review</th>\n      <th>instant_bookable</th>\n      <th>cancellation_policy</th>\n      <th>require_guest_profile_picture</th>\n      <th>require_guest_phone_verification</th>\n    </tr>\n  </thead>\n  <tbody>\n    <tr>\n      <th>0</th>\n      <td>2010-01-19</td>\n      <td>within an hour</td>\n      <td>0</td>\n      <td>['email', 'phone', 'reviews', 'jumio', 'government_id']</td>\n      <td>1</td>\n      <td>1</td>\n      <td>Sant Martí</td>\n      <td>1.0</td>\n      <td>Apartment</td>\n      <td>Entire home/apt</td>\n      <td>Real Bed</td>\n      <td>{TV,Internet,Wifi,\"Air conditioning\",\"Wheelchair accessible\",Kitchen,Elevator,\"Free street parking\",Heating,\"Family/kid friendly\",Washer,Dryer,Essentials,Shampoo,\"Hair dryer\",\"Hot water\",\"Host greets you\",\"Paid parking on premises\"}</td>\n      <td>3 months ago</td>\n      <td>1.0</td>\n      <td>2015-10-10</td>\n      <td>2015-10-10</td>\n      <td>0.0</td>\n      <td>flexible</td>\n      <td>0.0</td>\n      <td>0.0</td>\n    </tr>\n  </tbody>\n</table>\n</div>",
      "text/plain": "   host_since host_response_time host_is_superhost  \\\n0  2010-01-19     within an hour                 0   \n\n                                        host_verifications  \\\n0  ['email', 'phone', 'reviews', 'jumio', 'government_id']   \n\n  host_has_profile_pic host_identity_verified neighbourhood_group_cleansed  \\\n0                    1                      1                   Sant Martí   \n\n   is_location_exact property_type        room_type  bed_type  \\\n0                1.0     Apartment  Entire home/apt  Real Bed   \n\n                                                                                                                                                                                                                                  amenities  \\\n0  {TV,Internet,Wifi,\"Air conditioning\",\"Wheelchair accessible\",Kitchen,Elevator,\"Free street parking\",Heating,\"Family/kid friendly\",Washer,Dryer,Essentials,Shampoo,\"Hair dryer\",\"Hot water\",\"Host greets you\",\"Paid parking on premises\"}   \n\n  calendar_updated  has_availability first_review last_review  \\\n0     3 months ago               1.0   2015-10-10  2015-10-10   \n\n   instant_bookable cancellation_policy  require_guest_profile_picture  \\\n0               0.0            flexible                            0.0   \n\n   require_guest_phone_verification  \n0                               0.0  "
     },
     "execution_count": 8,
     "metadata": {},
     "output_type": "execute_result"
    }
   ],
   "source": [
    "cat_df.head(1)"
   ]
  },
  {
   "cell_type": "code",
   "execution_count": 6,
   "metadata": {},
   "outputs": [
    {
     "data": {
      "text/plain": "{'neighbourhood_group_cleansed': {'1.0': 1,\n  'Ciutat Vella': 2,\n  'Eixample': 3,\n  'Gràcia': 4,\n  'Horta-Guinardó': 5,\n  'Les Corts': 6,\n  'Nou Barris': 7,\n  'Sant Andreu': 8,\n  'Sant Martí': 9,\n  'Sants-Montjuïc': 10,\n  'Sarrià-Sant Gervasi': 11},\n 'property_type': {'1': 1,\n  '2.15484': 2,\n  'Aparthotel': 3,\n  'Apartment': 4,\n  'Barn': 5,\n  'Bed and breakfast': 6,\n  'Boat': 7,\n  'Boutique hotel': 8,\n  'Cabin': 9,\n  'Camper/RV': 10,\n  'Casa particular (Cuba)': 11,\n  'Castle': 12,\n  'Chalet': 13,\n  'Condominium': 14,\n  'Cottage': 15,\n  'Dome house': 16,\n  'Farm stay': 17,\n  'Guest suite': 18,\n  'Guesthouse': 19,\n  'Hostel': 20,\n  'Hotel': 21,\n  'House': 22,\n  'Houseboat': 23,\n  'Island': 24,\n  'Loft': 25,\n  'Nature lodge': 26,\n  'Other': 27,\n  'Serviced apartment': 28,\n  'Tiny house': 29,\n  'Townhouse': 30,\n  'Treehouse': 31,\n  'Villa': 32},\n 'room_type': {'$0.00': 1,\n  'Entire home/apt': 2,\n  'Hotel room': 3,\n  'Private room': 4,\n  'Shared room': 5,\n  't': 6},\n 'bed_type': {'0': 1,\n  '1125': 2,\n  'Airbed': 3,\n  'Couch': 4,\n  'Futon': 5,\n  'Pull-out Sofa': 6,\n  'Real Bed': 7}}"
     },
     "execution_count": 6,
     "metadata": {},
     "output_type": "execute_result"
    }
   ],
   "source": [
    "import src.transform as trans\n",
    "category_encoder = trans.encode_category_dic(airbnb)\n",
    "category_columns = [\n",
    "    \"neighbourhood_group_cleansed\",\n",
    "    \"property_type\",\n",
    "    \"room_type\",\n",
    "    \"bed_type\"\n",
    "]\n",
    "category_dic = trans.foldleft(category_encoder, {}, category_columns)\n",
    "category_dic"
   ]
  },
  {
   "cell_type": "code",
   "execution_count": null,
   "metadata": {},
   "outputs": [],
   "source": [
    "numeric_df = airbnb_df.select_dtypes(include=['float64', 'int32']).copy()"
   ]
  },
  {
   "cell_type": "code",
   "execution_count": null,
   "metadata": {},
   "outputs": [],
   "source": [
    "replace_map = foldleft(airbnb_replace, {}, category_columns)\n",
    "replace_map"
   ]
  },
  {
   "cell_type": "code",
   "execution_count": null,
   "metadata": {},
   "outputs": [],
   "source": [
    "cat_airbnb = airbnb_drop.replace(mapp)"
   ]
  }
 ],
 "metadata": {
  "kernelspec": {
   "display_name": "Python 3",
   "language": "python",
   "name": "python3"
  },
  "language_info": {
   "codemirror_mode": {
    "name": "ipython",
    "version": 3
   },
   "file_extension": ".py",
   "mimetype": "text/x-python",
   "name": "python",
   "nbconvert_exporter": "python",
   "pygments_lexer": "ipython3",
   "version": "3.7.6-final"
  }
 },
 "nbformat": 4,
 "nbformat_minor": 4
}