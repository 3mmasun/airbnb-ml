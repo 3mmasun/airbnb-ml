{
 "cells": [
  {
   "cell_type": "code",
   "execution_count": 1,
   "metadata": {},
   "outputs": [
    {
     "name": "stdout",
     "output_type": "stream",
     "text": "/Users/sgemma.sun/Documents/data101/airbnb-ml\n"
    }
   ],
   "source": [
    "cd .."
   ]
  },
  {
   "cell_type": "code",
   "execution_count": 2,
   "metadata": {},
   "outputs": [],
   "source": [
    "import numpy as np\n",
    "import pandas as pd\n",
    "import seaborn as sns\n",
    "import matplotlib.pyplot as plt\n",
    "import src.transform as trans\n",
    "\n",
    "pd.set_option('display.max_colwidth', None)\n",
    "pd.set_option('display.max_columns', None)\n",
    "pd.set_option('display.max_rows', None)"
   ]
  },
  {
   "cell_type": "code",
   "execution_count": null,
   "metadata": {},
   "outputs": [],
   "source": [
    "import s3fs\n",
    "import pyarrow.parquet as pq\n",
    "import src.const as const\n",
    "\n",
    "s3 = s3fs.S3FileSystem()\n",
    "\n",
    "filePath = 's3://airbnb-barcelona/valid/currentDate=2020-03-13'\n",
    "airbnb_df = pq.ParquetDataset(filePath, filesystem=s3).read_pandas().to_pandas()\n",
    "airbnb_df = airbnb_df.drop(columns=const.drop_cat_columns)\n",
    "airbnb = airbnb_df.drop(columns=const.drop_num_columns)"
   ]
  },
  {
   "cell_type": "markdown",
   "metadata": {},
   "source": [
    "# Transformation"
   ]
  },
  {
   "cell_type": "code",
   "execution_count": 3,
   "metadata": {},
   "outputs": [
    {
     "ename": "NameError",
     "evalue": "name 'airbnb' is not defined",
     "output_type": "error",
     "traceback": [
      "\u001b[0;31m---------------------------------------------------------------------------\u001b[0m",
      "\u001b[0;31mNameError\u001b[0m                                 Traceback (most recent call last)",
      "\u001b[0;32m<ipython-input-3-072fddeec5f7>\u001b[0m in \u001b[0;36m<module>\u001b[0;34m\u001b[0m\n\u001b[0;32m----> 1\u001b[0;31m \u001b[0mcat_df\u001b[0m \u001b[0;34m=\u001b[0m \u001b[0mairbnb\u001b[0m\u001b[0;34m.\u001b[0m\u001b[0mselect_dtypes\u001b[0m\u001b[0;34m(\u001b[0m\u001b[0minclude\u001b[0m\u001b[0;34m=\u001b[0m\u001b[0;34m[\u001b[0m\u001b[0;34m'object'\u001b[0m\u001b[0;34m]\u001b[0m\u001b[0;34m)\u001b[0m\u001b[0;34m.\u001b[0m\u001b[0mcopy\u001b[0m\u001b[0;34m(\u001b[0m\u001b[0;34m)\u001b[0m\u001b[0;34m\u001b[0m\u001b[0;34m\u001b[0m\u001b[0m\n\u001b[0m",
      "\u001b[0;31mNameError\u001b[0m: name 'airbnb' is not defined"
     ]
    }
   ],
   "source": [
    "cat_df = airbnb.select_dtypes(include=['object']).copy()"
   ]
  },
  {
   "cell_type": "code",
   "execution_count": null,
   "metadata": {},
   "outputs": [],
   "source": [
    "# drop outliers\n",
    "airbnb = trans.drop_rows_occurs_less_than(airbnb, \"cancellation_policy\", 2)\n",
    "airbnb = trans.drop_rows_occurs_less_than(airbnb, \"neighbourhood_group_cleansed\", 1)\n",
    "airbnb = trans.drop_rows_occurs_less_than(airbnb, \"host_response_time\", 1)"
   ]
  },
  {
   "cell_type": "code",
   "execution_count": null,
   "metadata": {},
   "outputs": [],
   "source": [
    "# fillna\n",
    "airbnb = airbnb.fillna(value={\"host_is_superhost\": False})\n",
    "airbnb = airbnb.fillna(value={\"host_has_profile_pic\": False})\n",
    "airbnb = airbnb.fillna(value={\"host_identity_verified\": False})\n",
    "airbnb = airbnb.fillna(value={\"host_response_time\": \"N/A\"})\n",
    "airbnb = trans.fillna_with_lowest_occurance(airbnb, \"last_review\")"
   ]
  },
  {
   "cell_type": "code",
   "execution_count": null,
   "metadata": {},
   "outputs": [],
   "source": [
    "# boolean_to_float\n",
    "airbnb = trans.foldleft(trans.encode_boolean_to_float, airbnb, const.boolean_to_float_cols)"
   ]
  },
  {
   "cell_type": "code",
   "execution_count": null,
   "metadata": {},
   "outputs": [],
   "source": [
    "# element count\n",
    "airbnb = trans.extract_num_of_items_for_column(airbnb, \"host_verifications\")\n",
    "airbnb = trans.extract_num_of_items_for_column(airbnb, \"amenities\")"
   ]
  },
  {
   "cell_type": "code",
   "execution_count": null,
   "metadata": {},
   "outputs": [],
   "source": [
    "# numeric value\n",
    "airbnb = airbnb.fillna(airbnb.mean())"
   ]
  },
  {
   "cell_type": "code",
   "execution_count": null,
   "metadata": {},
   "outputs": [],
   "source": [
    "# date columns\n",
    "ymd_to_time = trans.string_to_timestamp('%Y-%m-%d')\n",
    "airbnb[\"last_review\"] = airbnb[\"last_review\"].apply(ymd_to_time)\n",
    "days_from_2020_03_11 = trans.days_from_date(compare_date=pd.to_datetime('2020-03-11', format='%Y-%m-%d'))\n",
    "airbnb[\"last_review_days_fr_20200311\"] = airbnb[\"last_review\"].apply(days_from_2020_03_11)"
   ]
  },
  {
   "cell_type": "markdown",
   "metadata": {},
   "source": [
    "# Visualization"
   ]
  },
  {
   "cell_type": "code",
   "execution_count": 12,
   "metadata": {},
   "outputs": [
    {
     "data": {
      "text/html": "<div>\n<style scoped>\n    .dataframe tbody tr th:only-of-type {\n        vertical-align: middle;\n    }\n\n    .dataframe tbody tr th {\n        vertical-align: top;\n    }\n\n    .dataframe thead th {\n        text-align: right;\n    }\n</style>\n<table border=\"1\" class=\"dataframe\">\n  <thead>\n    <tr style=\"text-align: right;\">\n      <th></th>\n      <th>host_id</th>\n      <th>host_response_time</th>\n      <th>host_response_rate</th>\n      <th>host_is_superhost</th>\n      <th>host_verifications</th>\n      <th>host_has_profile_pic</th>\n      <th>host_identity_verified</th>\n      <th>neighbourhood_group_cleansed</th>\n      <th>latitude</th>\n      <th>longitude</th>\n      <th>is_location_exact</th>\n      <th>property_type</th>\n      <th>room_type</th>\n      <th>accommodates</th>\n      <th>bathrooms</th>\n      <th>bedrooms</th>\n      <th>beds</th>\n      <th>bed_type</th>\n      <th>amenities</th>\n      <th>price</th>\n      <th>security_deposit</th>\n      <th>cleaning_fee</th>\n      <th>guests_included</th>\n      <th>extra_people</th>\n      <th>has_availability</th>\n      <th>availability_365</th>\n      <th>number_of_reviews</th>\n      <th>last_review</th>\n      <th>review_scores_rating</th>\n      <th>review_scores_accuracy</th>\n      <th>review_scores_cleanliness</th>\n      <th>review_scores_checkin</th>\n      <th>review_scores_communication</th>\n      <th>review_scores_location</th>\n      <th>review_scores_value</th>\n      <th>instant_bookable</th>\n      <th>cancellation_policy</th>\n      <th>require_guest_profile_picture</th>\n      <th>require_guest_phone_verification</th>\n      <th>calculated_host_listings_count</th>\n      <th>calculated_host_listings_count_entire_homes</th>\n      <th>calculated_host_listings_count_private_rooms</th>\n      <th>calculated_host_listings_count_shared_rooms</th>\n      <th>reviews_per_month</th>\n      <th>last_review_days_fr_20200311</th>\n    </tr>\n  </thead>\n  <tbody>\n    <tr>\n      <th>0</th>\n      <td>71615</td>\n      <td>within an hour</td>\n      <td>0.990000</td>\n      <td>0.0</td>\n      <td>5</td>\n      <td>1.0</td>\n      <td>1.0</td>\n      <td>Sant Martí</td>\n      <td>41.40889</td>\n      <td>2.18555</td>\n      <td>1.0</td>\n      <td>Apartment</td>\n      <td>Entire home/apt</td>\n      <td>6.0</td>\n      <td>1.0</td>\n      <td>2.0</td>\n      <td>4.0</td>\n      <td>Real Bed</td>\n      <td>18</td>\n      <td>130.0</td>\n      <td>150.000000</td>\n      <td>42.000000</td>\n      <td>2.0</td>\n      <td>25.0</td>\n      <td>1.0</td>\n      <td>304.0</td>\n      <td>1.0</td>\n      <td>2015-10-10</td>\n      <td>80.0</td>\n      <td>10.0</td>\n      <td>10.0</td>\n      <td>2.0</td>\n      <td>10.0</td>\n      <td>10.0</td>\n      <td>8.0</td>\n      <td>0.0</td>\n      <td>flexible</td>\n      <td>0.0</td>\n      <td>0.0</td>\n      <td>30.0</td>\n      <td>30.0</td>\n      <td>0.0</td>\n      <td>0.0</td>\n      <td>0.02</td>\n      <td>1614</td>\n    </tr>\n    <tr>\n      <th>1</th>\n      <td>71615</td>\n      <td>within an hour</td>\n      <td>0.990000</td>\n      <td>0.0</td>\n      <td>5</td>\n      <td>1.0</td>\n      <td>1.0</td>\n      <td>Eixample</td>\n      <td>41.40420</td>\n      <td>2.17306</td>\n      <td>1.0</td>\n      <td>Apartment</td>\n      <td>Entire home/apt</td>\n      <td>8.0</td>\n      <td>2.0</td>\n      <td>3.0</td>\n      <td>6.0</td>\n      <td>Real Bed</td>\n      <td>22</td>\n      <td>60.0</td>\n      <td>150.000000</td>\n      <td>50.000000</td>\n      <td>2.0</td>\n      <td>30.0</td>\n      <td>1.0</td>\n      <td>312.0</td>\n      <td>20.0</td>\n      <td>2019-10-19</td>\n      <td>87.0</td>\n      <td>9.0</td>\n      <td>9.0</td>\n      <td>10.0</td>\n      <td>10.0</td>\n      <td>9.0</td>\n      <td>9.0</td>\n      <td>1.0</td>\n      <td>strict_14_with_grace_period</td>\n      <td>0.0</td>\n      <td>0.0</td>\n      <td>30.0</td>\n      <td>30.0</td>\n      <td>0.0</td>\n      <td>0.0</td>\n      <td>0.25</td>\n      <td>144</td>\n    </tr>\n    <tr>\n      <th>2</th>\n      <td>90417</td>\n      <td>within an hour</td>\n      <td>1.000000</td>\n      <td>1.0</td>\n      <td>8</td>\n      <td>1.0</td>\n      <td>1.0</td>\n      <td>Sant Martí</td>\n      <td>41.41203</td>\n      <td>2.22114</td>\n      <td>0.0</td>\n      <td>Apartment</td>\n      <td>Entire home/apt</td>\n      <td>6.0</td>\n      <td>2.0</td>\n      <td>3.0</td>\n      <td>5.0</td>\n      <td>Real Bed</td>\n      <td>46</td>\n      <td>210.0</td>\n      <td>300.000000</td>\n      <td>80.000000</td>\n      <td>3.0</td>\n      <td>10.0</td>\n      <td>1.0</td>\n      <td>359.0</td>\n      <td>51.0</td>\n      <td>2019-09-29</td>\n      <td>95.0</td>\n      <td>10.0</td>\n      <td>10.0</td>\n      <td>10.0</td>\n      <td>10.0</td>\n      <td>9.0</td>\n      <td>9.0</td>\n      <td>1.0</td>\n      <td>strict_14_with_grace_period</td>\n      <td>0.0</td>\n      <td>1.0</td>\n      <td>2.0</td>\n      <td>2.0</td>\n      <td>0.0</td>\n      <td>0.0</td>\n      <td>0.48</td>\n      <td>164</td>\n    </tr>\n    <tr>\n      <th>3</th>\n      <td>108310</td>\n      <td>within an hour</td>\n      <td>1.000000</td>\n      <td>1.0</td>\n      <td>8</td>\n      <td>1.0</td>\n      <td>1.0</td>\n      <td>Gràcia</td>\n      <td>41.40145</td>\n      <td>2.15645</td>\n      <td>1.0</td>\n      <td>Apartment</td>\n      <td>Private room</td>\n      <td>2.0</td>\n      <td>1.0</td>\n      <td>1.0</td>\n      <td>1.0</td>\n      <td>Real Bed</td>\n      <td>17</td>\n      <td>32.0</td>\n      <td>166.427606</td>\n      <td>43.103105</td>\n      <td>1.0</td>\n      <td>25.0</td>\n      <td>1.0</td>\n      <td>46.0</td>\n      <td>268.0</td>\n      <td>2019-11-06</td>\n      <td>95.0</td>\n      <td>10.0</td>\n      <td>9.0</td>\n      <td>10.0</td>\n      <td>10.0</td>\n      <td>10.0</td>\n      <td>10.0</td>\n      <td>1.0</td>\n      <td>strict_14_with_grace_period</td>\n      <td>1.0</td>\n      <td>1.0</td>\n      <td>1.0</td>\n      <td>0.0</td>\n      <td>1.0</td>\n      <td>0.0</td>\n      <td>2.38</td>\n      <td>126</td>\n    </tr>\n    <tr>\n      <th>4</th>\n      <td>136853</td>\n      <td>within an hour</td>\n      <td>0.920000</td>\n      <td>0.0</td>\n      <td>8</td>\n      <td>1.0</td>\n      <td>0.0</td>\n      <td>Gràcia</td>\n      <td>41.40950</td>\n      <td>2.15938</td>\n      <td>1.0</td>\n      <td>Apartment</td>\n      <td>Entire home/apt</td>\n      <td>4.0</td>\n      <td>1.0</td>\n      <td>1.0</td>\n      <td>1.0</td>\n      <td>Real Bed</td>\n      <td>10</td>\n      <td>60.0</td>\n      <td>200.000000</td>\n      <td>58.000000</td>\n      <td>4.0</td>\n      <td>0.0</td>\n      <td>1.0</td>\n      <td>324.0</td>\n      <td>182.0</td>\n      <td>2019-10-16</td>\n      <td>92.0</td>\n      <td>9.0</td>\n      <td>9.0</td>\n      <td>8.0</td>\n      <td>9.0</td>\n      <td>9.0</td>\n      <td>9.0</td>\n      <td>1.0</td>\n      <td>strict_14_with_grace_period</td>\n      <td>0.0</td>\n      <td>0.0</td>\n      <td>39.0</td>\n      <td>39.0</td>\n      <td>0.0</td>\n      <td>0.0</td>\n      <td>1.71</td>\n      <td>147</td>\n    </tr>\n    <tr>\n      <th>5</th>\n      <td>136853</td>\n      <td>within an hour</td>\n      <td>0.920000</td>\n      <td>0.0</td>\n      <td>8</td>\n      <td>1.0</td>\n      <td>0.0</td>\n      <td>Gràcia</td>\n      <td>41.40928</td>\n      <td>2.16112</td>\n      <td>1.0</td>\n      <td>Apartment</td>\n      <td>Entire home/apt</td>\n      <td>5.0</td>\n      <td>1.5</td>\n      <td>3.0</td>\n      <td>3.0</td>\n      <td>Real Bed</td>\n      <td>10</td>\n      <td>70.0</td>\n      <td>200.000000</td>\n      <td>108.000000</td>\n      <td>5.0</td>\n      <td>0.0</td>\n      <td>1.0</td>\n      <td>326.0</td>\n      <td>90.0</td>\n      <td>2019-11-05</td>\n      <td>88.0</td>\n      <td>9.0</td>\n      <td>9.0</td>\n      <td>9.0</td>\n      <td>9.0</td>\n      <td>9.0</td>\n      <td>9.0</td>\n      <td>1.0</td>\n      <td>strict_14_with_grace_period</td>\n      <td>0.0</td>\n      <td>0.0</td>\n      <td>39.0</td>\n      <td>39.0</td>\n      <td>0.0</td>\n      <td>0.0</td>\n      <td>0.84</td>\n      <td>127</td>\n    </tr>\n    <tr>\n      <th>6</th>\n      <td>141199</td>\n      <td>N/A</td>\n      <td>0.941213</td>\n      <td>0.0</td>\n      <td>4</td>\n      <td>1.0</td>\n      <td>0.0</td>\n      <td>Les Corts</td>\n      <td>41.38720</td>\n      <td>2.14088</td>\n      <td>1.0</td>\n      <td>Apartment</td>\n      <td>Private room</td>\n      <td>1.0</td>\n      <td>1.0</td>\n      <td>1.0</td>\n      <td>1.0</td>\n      <td>Real Bed</td>\n      <td>25</td>\n      <td>30.0</td>\n      <td>0.000000</td>\n      <td>0.000000</td>\n      <td>1.0</td>\n      <td>15.0</td>\n      <td>1.0</td>\n      <td>144.0</td>\n      <td>19.0</td>\n      <td>2014-05-12</td>\n      <td>99.0</td>\n      <td>10.0</td>\n      <td>10.0</td>\n      <td>10.0</td>\n      <td>10.0</td>\n      <td>9.0</td>\n      <td>9.0</td>\n      <td>0.0</td>\n      <td>moderate</td>\n      <td>0.0</td>\n      <td>0.0</td>\n      <td>1.0</td>\n      <td>0.0</td>\n      <td>1.0</td>\n      <td>0.0</td>\n      <td>0.17</td>\n      <td>2130</td>\n    </tr>\n    <tr>\n      <th>7</th>\n      <td>135703</td>\n      <td>within an hour</td>\n      <td>1.000000</td>\n      <td>0.0</td>\n      <td>8</td>\n      <td>1.0</td>\n      <td>1.0</td>\n      <td>Gràcia</td>\n      <td>41.40464</td>\n      <td>2.16954</td>\n      <td>1.0</td>\n      <td>Apartment</td>\n      <td>Entire home/apt</td>\n      <td>6.0</td>\n      <td>1.5</td>\n      <td>2.0</td>\n      <td>3.0</td>\n      <td>Real Bed</td>\n      <td>36</td>\n      <td>140.0</td>\n      <td>200.000000</td>\n      <td>75.000000</td>\n      <td>4.0</td>\n      <td>20.0</td>\n      <td>1.0</td>\n      <td>350.0</td>\n      <td>59.0</td>\n      <td>2019-10-19</td>\n      <td>86.0</td>\n      <td>8.0</td>\n      <td>9.0</td>\n      <td>10.0</td>\n      <td>9.0</td>\n      <td>10.0</td>\n      <td>9.0</td>\n      <td>1.0</td>\n      <td>flexible</td>\n      <td>0.0</td>\n      <td>0.0</td>\n      <td>14.0</td>\n      <td>14.0</td>\n      <td>0.0</td>\n      <td>0.0</td>\n      <td>0.58</td>\n      <td>144</td>\n    </tr>\n    <tr>\n      <th>8</th>\n      <td>73163</td>\n      <td>within a few hours</td>\n      <td>1.000000</td>\n      <td>0.0</td>\n      <td>8</td>\n      <td>1.0</td>\n      <td>1.0</td>\n      <td>Ciutat Vella</td>\n      <td>41.37916</td>\n      <td>2.17535</td>\n      <td>1.0</td>\n      <td>Apartment</td>\n      <td>Private room</td>\n      <td>2.0</td>\n      <td>1.0</td>\n      <td>1.0</td>\n      <td>1.0</td>\n      <td>Real Bed</td>\n      <td>17</td>\n      <td>100.0</td>\n      <td>150.000000</td>\n      <td>40.000000</td>\n      <td>1.0</td>\n      <td>0.0</td>\n      <td>1.0</td>\n      <td>180.0</td>\n      <td>8.0</td>\n      <td>2013-07-15</td>\n      <td>68.0</td>\n      <td>8.0</td>\n      <td>8.0</td>\n      <td>7.0</td>\n      <td>9.0</td>\n      <td>8.0</td>\n      <td>7.0</td>\n      <td>0.0</td>\n      <td>moderate</td>\n      <td>0.0</td>\n      <td>0.0</td>\n      <td>2.0</td>\n      <td>1.0</td>\n      <td>1.0</td>\n      <td>0.0</td>\n      <td>0.07</td>\n      <td>2431</td>\n    </tr>\n    <tr>\n      <th>9</th>\n      <td>73163</td>\n      <td>within a few hours</td>\n      <td>1.000000</td>\n      <td>0.0</td>\n      <td>8</td>\n      <td>1.0</td>\n      <td>1.0</td>\n      <td>Ciutat Vella</td>\n      <td>41.37859</td>\n      <td>2.17730</td>\n      <td>1.0</td>\n      <td>Apartment</td>\n      <td>Entire home/apt</td>\n      <td>8.0</td>\n      <td>3.0</td>\n      <td>4.0</td>\n      <td>6.0</td>\n      <td>Real Bed</td>\n      <td>38</td>\n      <td>250.0</td>\n      <td>240.000000</td>\n      <td>78.000000</td>\n      <td>6.0</td>\n      <td>50.0</td>\n      <td>1.0</td>\n      <td>165.0</td>\n      <td>142.0</td>\n      <td>2019-10-08</td>\n      <td>90.0</td>\n      <td>10.0</td>\n      <td>9.0</td>\n      <td>10.0</td>\n      <td>10.0</td>\n      <td>10.0</td>\n      <td>9.0</td>\n      <td>1.0</td>\n      <td>strict_14_with_grace_period</td>\n      <td>0.0</td>\n      <td>0.0</td>\n      <td>2.0</td>\n      <td>1.0</td>\n      <td>1.0</td>\n      <td>0.0</td>\n      <td>1.28</td>\n      <td>155</td>\n    </tr>\n  </tbody>\n</table>\n</div>",
      "text/plain": "  host_id  host_response_time  host_response_rate  host_is_superhost  \\\n0   71615      within an hour            0.990000                0.0   \n1   71615      within an hour            0.990000                0.0   \n2   90417      within an hour            1.000000                1.0   \n3  108310      within an hour            1.000000                1.0   \n4  136853      within an hour            0.920000                0.0   \n5  136853      within an hour            0.920000                0.0   \n6  141199                 N/A            0.941213                0.0   \n7  135703      within an hour            1.000000                0.0   \n8   73163  within a few hours            1.000000                0.0   \n9   73163  within a few hours            1.000000                0.0   \n\n   host_verifications  host_has_profile_pic  host_identity_verified  \\\n0                   5                   1.0                     1.0   \n1                   5                   1.0                     1.0   \n2                   8                   1.0                     1.0   \n3                   8                   1.0                     1.0   \n4                   8                   1.0                     0.0   \n5                   8                   1.0                     0.0   \n6                   4                   1.0                     0.0   \n7                   8                   1.0                     1.0   \n8                   8                   1.0                     1.0   \n9                   8                   1.0                     1.0   \n\n  neighbourhood_group_cleansed  latitude  longitude  is_location_exact  \\\n0                   Sant Martí  41.40889    2.18555                1.0   \n1                     Eixample  41.40420    2.17306                1.0   \n2                   Sant Martí  41.41203    2.22114                0.0   \n3                       Gràcia  41.40145    2.15645                1.0   \n4                       Gràcia  41.40950    2.15938                1.0   \n5                       Gràcia  41.40928    2.16112                1.0   \n6                    Les Corts  41.38720    2.14088                1.0   \n7                       Gràcia  41.40464    2.16954                1.0   \n8                 Ciutat Vella  41.37916    2.17535                1.0   \n9                 Ciutat Vella  41.37859    2.17730                1.0   \n\n  property_type        room_type  accommodates  bathrooms  bedrooms  beds  \\\n0     Apartment  Entire home/apt           6.0        1.0       2.0   4.0   \n1     Apartment  Entire home/apt           8.0        2.0       3.0   6.0   \n2     Apartment  Entire home/apt           6.0        2.0       3.0   5.0   \n3     Apartment     Private room           2.0        1.0       1.0   1.0   \n4     Apartment  Entire home/apt           4.0        1.0       1.0   1.0   \n5     Apartment  Entire home/apt           5.0        1.5       3.0   3.0   \n6     Apartment     Private room           1.0        1.0       1.0   1.0   \n7     Apartment  Entire home/apt           6.0        1.5       2.0   3.0   \n8     Apartment     Private room           2.0        1.0       1.0   1.0   \n9     Apartment  Entire home/apt           8.0        3.0       4.0   6.0   \n\n   bed_type  amenities  price  security_deposit  cleaning_fee  \\\n0  Real Bed         18  130.0        150.000000     42.000000   \n1  Real Bed         22   60.0        150.000000     50.000000   \n2  Real Bed         46  210.0        300.000000     80.000000   \n3  Real Bed         17   32.0        166.427606     43.103105   \n4  Real Bed         10   60.0        200.000000     58.000000   \n5  Real Bed         10   70.0        200.000000    108.000000   \n6  Real Bed         25   30.0          0.000000      0.000000   \n7  Real Bed         36  140.0        200.000000     75.000000   \n8  Real Bed         17  100.0        150.000000     40.000000   \n9  Real Bed         38  250.0        240.000000     78.000000   \n\n   guests_included  extra_people  has_availability  availability_365  \\\n0              2.0          25.0               1.0             304.0   \n1              2.0          30.0               1.0             312.0   \n2              3.0          10.0               1.0             359.0   \n3              1.0          25.0               1.0              46.0   \n4              4.0           0.0               1.0             324.0   \n5              5.0           0.0               1.0             326.0   \n6              1.0          15.0               1.0             144.0   \n7              4.0          20.0               1.0             350.0   \n8              1.0           0.0               1.0             180.0   \n9              6.0          50.0               1.0             165.0   \n\n   number_of_reviews last_review  review_scores_rating  \\\n0                1.0  2015-10-10                  80.0   \n1               20.0  2019-10-19                  87.0   \n2               51.0  2019-09-29                  95.0   \n3              268.0  2019-11-06                  95.0   \n4              182.0  2019-10-16                  92.0   \n5               90.0  2019-11-05                  88.0   \n6               19.0  2014-05-12                  99.0   \n7               59.0  2019-10-19                  86.0   \n8                8.0  2013-07-15                  68.0   \n9              142.0  2019-10-08                  90.0   \n\n   review_scores_accuracy  review_scores_cleanliness  review_scores_checkin  \\\n0                    10.0                       10.0                    2.0   \n1                     9.0                        9.0                   10.0   \n2                    10.0                       10.0                   10.0   \n3                    10.0                        9.0                   10.0   \n4                     9.0                        9.0                    8.0   \n5                     9.0                        9.0                    9.0   \n6                    10.0                       10.0                   10.0   \n7                     8.0                        9.0                   10.0   \n8                     8.0                        8.0                    7.0   \n9                    10.0                        9.0                   10.0   \n\n   review_scores_communication  review_scores_location  review_scores_value  \\\n0                         10.0                    10.0                  8.0   \n1                         10.0                     9.0                  9.0   \n2                         10.0                     9.0                  9.0   \n3                         10.0                    10.0                 10.0   \n4                          9.0                     9.0                  9.0   \n5                          9.0                     9.0                  9.0   \n6                         10.0                     9.0                  9.0   \n7                          9.0                    10.0                  9.0   \n8                          9.0                     8.0                  7.0   \n9                         10.0                    10.0                  9.0   \n\n   instant_bookable          cancellation_policy  \\\n0               0.0                     flexible   \n1               1.0  strict_14_with_grace_period   \n2               1.0  strict_14_with_grace_period   \n3               1.0  strict_14_with_grace_period   \n4               1.0  strict_14_with_grace_period   \n5               1.0  strict_14_with_grace_period   \n6               0.0                     moderate   \n7               1.0                     flexible   \n8               0.0                     moderate   \n9               1.0  strict_14_with_grace_period   \n\n   require_guest_profile_picture  require_guest_phone_verification  \\\n0                            0.0                               0.0   \n1                            0.0                               0.0   \n2                            0.0                               1.0   \n3                            1.0                               1.0   \n4                            0.0                               0.0   \n5                            0.0                               0.0   \n6                            0.0                               0.0   \n7                            0.0                               0.0   \n8                            0.0                               0.0   \n9                            0.0                               0.0   \n\n   calculated_host_listings_count  \\\n0                            30.0   \n1                            30.0   \n2                             2.0   \n3                             1.0   \n4                            39.0   \n5                            39.0   \n6                             1.0   \n7                            14.0   \n8                             2.0   \n9                             2.0   \n\n   calculated_host_listings_count_entire_homes  \\\n0                                         30.0   \n1                                         30.0   \n2                                          2.0   \n3                                          0.0   \n4                                         39.0   \n5                                         39.0   \n6                                          0.0   \n7                                         14.0   \n8                                          1.0   \n9                                          1.0   \n\n   calculated_host_listings_count_private_rooms  \\\n0                                           0.0   \n1                                           0.0   \n2                                           0.0   \n3                                           1.0   \n4                                           0.0   \n5                                           0.0   \n6                                           1.0   \n7                                           0.0   \n8                                           1.0   \n9                                           1.0   \n\n   calculated_host_listings_count_shared_rooms  reviews_per_month  \\\n0                                          0.0               0.02   \n1                                          0.0               0.25   \n2                                          0.0               0.48   \n3                                          0.0               2.38   \n4                                          0.0               1.71   \n5                                          0.0               0.84   \n6                                          0.0               0.17   \n7                                          0.0               0.58   \n8                                          0.0               0.07   \n9                                          0.0               1.28   \n\n   last_review_days_fr_20200311  \n0                          1614  \n1                           144  \n2                           164  \n3                           126  \n4                           147  \n5                           127  \n6                          2130  \n7                           144  \n8                          2431  \n9                           155  "
     },
     "execution_count": 12,
     "metadata": {},
     "output_type": "execute_result"
    }
   ],
   "source": [
    "airbnb.head(10)"
   ]
  },
  {
   "cell_type": "code",
   "execution_count": null,
   "metadata": {},
   "outputs": [],
   "source": []
  },
  {
   "cell_type": "markdown",
   "metadata": {},
   "source": [
    "# Encode category before training model"
   ]
  },
  {
   "cell_type": "code",
   "execution_count": 19,
   "metadata": {},
   "outputs": [],
   "source": [
    "# category encode\n",
    "category_encoder = trans.encode_category_dic(airbnb)\n",
    "category_dic = trans.foldleft(category_encoder, {}, const.category_columns)\n",
    "dic_host_response_time = {'host_response_time': {'N/A': 1, 'a few days or more': 2, 'within a day': 3, 'within a few hours': 4, 'within an hour': 5}}\n",
    "category_dic = dict(dic_host_response_time, **category_dic)\n",
    "airbnb = airbnb.replace(category_dic)"
   ]
  },
  {
   "cell_type": "markdown",
   "metadata": {},
   "source": [
    "# Price prediction"
   ]
  },
  {
   "cell_type": "code",
   "execution_count": 9,
   "metadata": {},
   "outputs": [],
   "source": [
    "y = airbnb[\"price\"]\n",
    "X = airbnb.drop(columns=['price'])"
   ]
  },
  {
   "cell_type": "code",
   "execution_count": 14,
   "metadata": {},
   "outputs": [
    {
     "data": {
      "text/plain": "array([[ 0.6673665 ,  0.3464109 , -0.47385002, ...,  2.25404242,\n         2.25404242,  2.25404242],\n       [ 0.6673665 ,  0.3464109 , -0.47385002, ...,  2.25404242,\n         2.25404242,  2.25404242],\n       [ 0.6673665 ,  0.41741589,  2.11037238, ...,  2.20208554,\n         2.20208554,  2.20208554],\n       ...,\n       [-0.04380398, -0.15062408, -0.47385002, ..., -1.38399938,\n        -1.38399938, -1.38399938],\n       [ 0.6673665 ,  0.41741589,  2.11037238, ..., -1.30553389,\n        -1.30553389, -1.30553389],\n       [-0.75497446, -1.49971904, -0.47385002, ..., -1.52184415,\n        -1.52184415, -1.52184415]])"
     },
     "execution_count": 14,
     "metadata": {},
     "output_type": "execute_result"
    }
   ],
   "source": [
    "from sklearn.preprocessing import StandardScaler\n",
    "scaler = StandardScaler()\n",
    "scaler.fit(X)\n",
    "scaler.transform(X)"
   ]
  },
  {
   "cell_type": "code",
   "execution_count": 15,
   "metadata": {},
   "outputs": [],
   "source": [
    "from sklearn.model_selection import train_test_split\n",
    "x_train, x_test, y_train, y_test = train_test_split(X, y, test_size=0.2, random_state=42)"
   ]
  },
  {
   "cell_type": "code",
   "execution_count": 16,
   "metadata": {},
   "outputs": [
    {
     "data": {
      "text/plain": "GridSearchCV(cv=5, error_score=nan,\n             estimator=LinearRegression(copy_X=True, fit_intercept=False,\n                                        n_jobs=None, normalize=False),\n             iid='deprecated', n_jobs=None, param_grid={},\n             pre_dispatch='2*n_jobs', refit=True, return_train_score=False,\n             scoring='r2', verbose=0)"
     },
     "execution_count": 16,
     "metadata": {},
     "output_type": "execute_result"
    }
   ],
   "source": [
    "from sklearn.linear_model import LinearRegression\n",
    "from sklearn.model_selection import GridSearchCV\n",
    "params = {}\n",
    "model = LinearRegression(fit_intercept=False)\n",
    "grid_search = GridSearchCV(model, params, cv=5, scoring=('r2'))\n",
    "grid_search.fit(x_train, y_train)"
   ]
  },
  {
   "cell_type": "code",
   "execution_count": 17,
   "metadata": {},
   "outputs": [],
   "source": [
    "best_model = grid_search.best_estimator_\n"
   ]
  },
  {
   "cell_type": "code",
   "execution_count": 1,
   "metadata": {},
   "outputs": [],
   "source": [
    "from sklearn.metrics import r2_score\n",
    "\n",
    "def compute_mse_r2 (_model, x_test, y_test):\n",
    "    y_predict = _model.predict(x_test)\n",
    "    r2 = r2_score(y_test, y_predict)\n",
    "    mse = mean_squared_error(y_test, y_predict)\n",
    "    return (r2, mse)"
   ]
  }
 ],
 "metadata": {
  "kernelspec": {
   "display_name": "Python 3",
   "language": "python",
   "name": "python3"
  },
  "language_info": {
   "codemirror_mode": {
    "name": "ipython",
    "version": 3
   },
   "file_extension": ".py",
   "mimetype": "text/x-python",
   "name": "python",
   "nbconvert_exporter": "python",
   "pygments_lexer": "ipython3",
   "version": "3.7.6-final"
  }
 },
 "nbformat": 4,
 "nbformat_minor": 4
}