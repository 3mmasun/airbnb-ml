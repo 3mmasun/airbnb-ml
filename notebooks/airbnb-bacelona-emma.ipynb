{
 "cells": [
  {
   "cell_type": "code",
   "execution_count": 3,
   "metadata": {},
   "outputs": [
    {
     "name": "stdout",
     "output_type": "stream",
     "text": "/Users/sgemma.sun/Documents/data101/airbnb-ml\n"
    }
   ],
   "source": [
    "cd .."
   ]
  },
  {
   "cell_type": "code",
   "execution_count": 4,
   "metadata": {},
   "outputs": [],
   "source": [
    "import numpy as np\n",
    "import pandas as pd\n",
    "import seaborn as sns\n",
    "import matplotlib.pyplot as plt\n",
    "import src.transform as trans"
   ]
  },
  {
   "cell_type": "code",
   "execution_count": 3,
   "metadata": {},
   "outputs": [],
   "source": [
    "pd.set_option('display.max_colwidth', None)\n",
    "pd.set_option('display.max_columns', None)\n",
    "pd.set_option('display.max_rows', None)"
   ]
  },
  {
   "cell_type": "code",
   "execution_count": 20,
   "metadata": {},
   "outputs": [
    {
     "name": "stdout",
     "output_type": "stream",
     "text": "(20428, 55)\n"
    }
   ],
   "source": [
    "import s3fs\n",
    "import pyarrow.parquet as pq\n",
    "\n",
    "s3 = s3fs.S3FileSystem()\n",
    "\n",
    "filePath = 's3://airbnb-barcelona/valid/currentDate=2020-03-11'\n",
    "airbnb_df = pq.ParquetDataset(filePath, filesystem=s3).read_pandas().to_pandas()\n",
    "\n",
    "airbnb = airbnb_df.drop(columns=[\n",
    "    'rowId',\n",
    "    'id',\n",
    "    'host_location',\n",
    "    'host_neighbourhood',\n",
    "    'street',\n",
    "    'neighbourhood',\n",
    "    'neighbourhood_cleansed',\n",
    "    'market',\n",
    "    'license',\n",
    "    'zipcode',\n",
    "    'calendar_updated'\n",
    "])\n",
    "\n",
    "print(airbnb.shape)"
   ]
  },
  {
   "cell_type": "code",
   "execution_count": 21,
   "metadata": {},
   "outputs": [],
   "source": [
    "cat_df = airbnb.select_dtypes(include=['object']).copy()"
   ]
  },
  {
   "cell_type": "code",
   "execution_count": 22,
   "metadata": {},
   "outputs": [],
   "source": [
    "# drop outliers\n",
    "airbnb = trans.drop_rows_occurs_less_than(airbnb, \"cancellation_policy\", 2)\n",
    "airbnb = trans.drop_rows_occurs_less_than(airbnb, \"host_response_time\", 1)\n",
    "# boolean to float\n",
    "airbnb = trans.encode_boolean_to_float(airbnb, \"host_is_superhost\")\n",
    "airbnb = trans.encode_boolean_to_float(airbnb, \"host_has_profile_pic\")\n",
    "airbnb = trans.encode_boolean_to_float(airbnb, \"host_identity_verified\")\n",
    "airbnb = trans.encode_boolean_to_float(airbnb, \"is_location_exact\")\n",
    "airbnb = trans.encode_boolean_to_float(airbnb, \"has_availability\")\n",
    "airbnb = trans.encode_boolean_to_float(airbnb, \"instant_bookable\")\n",
    "airbnb = trans.encode_boolean_to_float(airbnb, \"require_guest_profile_picture\")\n",
    "airbnb = trans.encode_boolean_to_float(airbnb, \"require_guest_phone_verification\")\n",
    "# fillna\n",
    "airbnb = trans.fillna_with_lowest_occurance(airbnb, \"host_since\")\n",
    "airbnb = trans.fillna_with_lowest_occurance(airbnb, \"host_response_time\")\n",
    "airbnb = trans.fillna_with_lowest_occurance(airbnb, \"host_is_superhost\")\n",
    "airbnb = trans.fillna_with_lowest_occurance(airbnb, \"host_has_profile_pic\")\n",
    "airbnb = trans.fillna_with_lowest_occurance(airbnb, \"host_identity_verified\")\n",
    "airbnb = trans.fillna_with_lowest_occurance(airbnb, \"first_review\")\n",
    "airbnb = trans.fillna_with_lowest_occurance(airbnb, \"last_review\")\n",
    "# element count\n",
    "airbnb = trans.extract_num_of_items_for_column(airbnb, \"host_verifications\")\n",
    "airbnb = trans.extract_num_of_items_for_column(airbnb, \"amenities\")\n",
    "# category encode\n",
    "category_encoder = trans.encode_category_dic(airbnb)\n",
    "category_columns = [\n",
    "    \"neighbourhood_group_cleansed\",\n",
    "    \"property_type\",\n",
    "    \"room_type\",\n",
    "    \"bed_type\",\n",
    "    \"cancellation_policy\"\n",
    "]\n",
    "category_dic = trans.foldleft(category_encoder, {}, category_columns)\n",
    "dic_host_response_time = {'host_response_time': {'N/A': 1, 'a few days or more': 2, 'within a day': 3, 'within a few hours': 4, 'within an hour': 5}}\n",
    "category_dic = dict(dic_host_response_time, **category_dic)\n",
    "airbnb = airbnb.replace(category_dic)"
   ]
  },
  {
   "cell_type": "code",
   "execution_count": 23,
   "metadata": {},
   "outputs": [],
   "source": [
    "# date columns\n",
    "ymd_to_time = trans.string_to_timestamp('%Y-%m-%d')\n",
    "airbnb[\"host_since_dt\"] = airbnb[\"host_since\"].apply(ymd_to_time)\n",
    "airbnb[\"first_review_dt\"] = airbnb[\"first_review\"].apply(ymd_to_time)\n",
    "airbnb[\"last_review_dt\"] = airbnb[\"last_review\"].apply(ymd_to_time)\n",
    "\n",
    "days_from_2020_03_11 = trans.days_from_date(compare_date=pd.to_datetime('2020-03-11', format='%Y-%m-%d'))\n",
    "airbnb[\"host_since_2020_03_11\"] = airbnb[\"host_since_dt\"].apply(days_from_2020_03_11)\n",
    "airbnb[\"first_review_2020_03_11\"] = airbnb[\"host_since_dt\"].apply(days_from_2020_03_11)\n",
    "airbnb[\"last_review_2020_03_11\"] = airbnb[\"host_since_dt\"].apply(days_from_2020_03_11)"
   ]
  },
  {
   "cell_type": "code",
   "execution_count": 24,
   "metadata": {},
   "outputs": [
    {
     "data": {
      "text/html": "<div>\n<style scoped>\n    .dataframe tbody tr th:only-of-type {\n        vertical-align: middle;\n    }\n\n    .dataframe tbody tr th {\n        vertical-align: top;\n    }\n\n    .dataframe thead th {\n        text-align: right;\n    }\n</style>\n<table border=\"1\" class=\"dataframe\">\n  <thead>\n    <tr style=\"text-align: right;\">\n      <th></th>\n      <th>host_response_time</th>\n      <th>host_response_rate</th>\n      <th>host_is_superhost</th>\n      <th>host_listings_count</th>\n      <th>host_total_listings_count</th>\n      <th>host_verifications</th>\n      <th>host_has_profile_pic</th>\n      <th>host_identity_verified</th>\n      <th>neighbourhood_group_cleansed</th>\n      <th>latitude</th>\n      <th>...</th>\n      <th>require_guest_profile_picture</th>\n      <th>require_guest_phone_verification</th>\n      <th>calculated_host_listings_count</th>\n      <th>calculated_host_listings_count_entire_homes</th>\n      <th>calculated_host_listings_count_private_rooms</th>\n      <th>calculated_host_listings_count_shared_rooms</th>\n      <th>reviews_per_month</th>\n      <th>host_since_2020_03_11</th>\n      <th>first_review_2020_03_11</th>\n      <th>last_review_2020_03_11</th>\n    </tr>\n  </thead>\n  <tbody>\n    <tr>\n      <th>0</th>\n      <td>5</td>\n      <td>0.99</td>\n      <td>0.0</td>\n      <td>46.0</td>\n      <td>46.0</td>\n      <td>5</td>\n      <td>1.0</td>\n      <td>1.0</td>\n      <td>8</td>\n      <td>41.40889</td>\n      <td>...</td>\n      <td>0.0</td>\n      <td>0.0</td>\n      <td>30.0</td>\n      <td>30.0</td>\n      <td>0.0</td>\n      <td>0.0</td>\n      <td>0.02</td>\n      <td>3704</td>\n      <td>3704</td>\n      <td>3704</td>\n    </tr>\n    <tr>\n      <th>1</th>\n      <td>5</td>\n      <td>0.99</td>\n      <td>0.0</td>\n      <td>46.0</td>\n      <td>46.0</td>\n      <td>5</td>\n      <td>1.0</td>\n      <td>1.0</td>\n      <td>2</td>\n      <td>41.40420</td>\n      <td>...</td>\n      <td>0.0</td>\n      <td>0.0</td>\n      <td>30.0</td>\n      <td>30.0</td>\n      <td>0.0</td>\n      <td>0.0</td>\n      <td>0.25</td>\n      <td>3704</td>\n      <td>3704</td>\n      <td>3704</td>\n    </tr>\n    <tr>\n      <th>2</th>\n      <td>5</td>\n      <td>1.00</td>\n      <td>1.0</td>\n      <td>5.0</td>\n      <td>5.0</td>\n      <td>8</td>\n      <td>1.0</td>\n      <td>1.0</td>\n      <td>8</td>\n      <td>41.41203</td>\n      <td>...</td>\n      <td>0.0</td>\n      <td>1.0</td>\n      <td>2.0</td>\n      <td>2.0</td>\n      <td>0.0</td>\n      <td>0.0</td>\n      <td>0.48</td>\n      <td>3655</td>\n      <td>3655</td>\n      <td>3655</td>\n    </tr>\n    <tr>\n      <th>3</th>\n      <td>5</td>\n      <td>1.00</td>\n      <td>1.0</td>\n      <td>1.0</td>\n      <td>1.0</td>\n      <td>8</td>\n      <td>1.0</td>\n      <td>1.0</td>\n      <td>3</td>\n      <td>41.40145</td>\n      <td>...</td>\n      <td>1.0</td>\n      <td>1.0</td>\n      <td>1.0</td>\n      <td>0.0</td>\n      <td>1.0</td>\n      <td>0.0</td>\n      <td>2.38</td>\n      <td>3619</td>\n      <td>3619</td>\n      <td>3619</td>\n    </tr>\n    <tr>\n      <th>4</th>\n      <td>5</td>\n      <td>0.92</td>\n      <td>0.0</td>\n      <td>39.0</td>\n      <td>39.0</td>\n      <td>8</td>\n      <td>1.0</td>\n      <td>0.0</td>\n      <td>3</td>\n      <td>41.40950</td>\n      <td>...</td>\n      <td>0.0</td>\n      <td>0.0</td>\n      <td>39.0</td>\n      <td>39.0</td>\n      <td>0.0</td>\n      <td>0.0</td>\n      <td>1.71</td>\n      <td>3570</td>\n      <td>3570</td>\n      <td>3570</td>\n    </tr>\n    <tr>\n      <th>5</th>\n      <td>5</td>\n      <td>0.92</td>\n      <td>0.0</td>\n      <td>39.0</td>\n      <td>39.0</td>\n      <td>8</td>\n      <td>1.0</td>\n      <td>0.0</td>\n      <td>3</td>\n      <td>41.40928</td>\n      <td>...</td>\n      <td>0.0</td>\n      <td>0.0</td>\n      <td>39.0</td>\n      <td>39.0</td>\n      <td>0.0</td>\n      <td>0.0</td>\n      <td>0.84</td>\n      <td>3570</td>\n      <td>3570</td>\n      <td>3570</td>\n    </tr>\n    <tr>\n      <th>6</th>\n      <td>1</td>\n      <td>NaN</td>\n      <td>0.0</td>\n      <td>1.0</td>\n      <td>1.0</td>\n      <td>4</td>\n      <td>1.0</td>\n      <td>0.0</td>\n      <td>5</td>\n      <td>41.38720</td>\n      <td>...</td>\n      <td>0.0</td>\n      <td>0.0</td>\n      <td>1.0</td>\n      <td>0.0</td>\n      <td>1.0</td>\n      <td>0.0</td>\n      <td>0.17</td>\n      <td>3563</td>\n      <td>3563</td>\n      <td>3563</td>\n    </tr>\n    <tr>\n      <th>7</th>\n      <td>5</td>\n      <td>1.00</td>\n      <td>0.0</td>\n      <td>13.0</td>\n      <td>13.0</td>\n      <td>8</td>\n      <td>1.0</td>\n      <td>1.0</td>\n      <td>3</td>\n      <td>41.40464</td>\n      <td>...</td>\n      <td>0.0</td>\n      <td>0.0</td>\n      <td>14.0</td>\n      <td>14.0</td>\n      <td>0.0</td>\n      <td>0.0</td>\n      <td>0.58</td>\n      <td>3572</td>\n      <td>3572</td>\n      <td>3572</td>\n    </tr>\n    <tr>\n      <th>8</th>\n      <td>4</td>\n      <td>1.00</td>\n      <td>0.0</td>\n      <td>3.0</td>\n      <td>3.0</td>\n      <td>8</td>\n      <td>1.0</td>\n      <td>1.0</td>\n      <td>1</td>\n      <td>41.37916</td>\n      <td>...</td>\n      <td>0.0</td>\n      <td>0.0</td>\n      <td>2.0</td>\n      <td>1.0</td>\n      <td>1.0</td>\n      <td>0.0</td>\n      <td>0.07</td>\n      <td>3699</td>\n      <td>3699</td>\n      <td>3699</td>\n    </tr>\n    <tr>\n      <th>9</th>\n      <td>4</td>\n      <td>1.00</td>\n      <td>0.0</td>\n      <td>3.0</td>\n      <td>3.0</td>\n      <td>8</td>\n      <td>1.0</td>\n      <td>1.0</td>\n      <td>1</td>\n      <td>41.37859</td>\n      <td>...</td>\n      <td>0.0</td>\n      <td>0.0</td>\n      <td>2.0</td>\n      <td>1.0</td>\n      <td>1.0</td>\n      <td>0.0</td>\n      <td>1.28</td>\n      <td>3699</td>\n      <td>3699</td>\n      <td>3699</td>\n    </tr>\n  </tbody>\n</table>\n<p>10 rows × 55 columns</p>\n</div>",
      "text/plain": "   host_response_time  host_response_rate  host_is_superhost  \\\n0                   5                0.99                0.0   \n1                   5                0.99                0.0   \n2                   5                1.00                1.0   \n3                   5                1.00                1.0   \n4                   5                0.92                0.0   \n5                   5                0.92                0.0   \n6                   1                 NaN                0.0   \n7                   5                1.00                0.0   \n8                   4                1.00                0.0   \n9                   4                1.00                0.0   \n\n   host_listings_count  host_total_listings_count  host_verifications  \\\n0                 46.0                       46.0                   5   \n1                 46.0                       46.0                   5   \n2                  5.0                        5.0                   8   \n3                  1.0                        1.0                   8   \n4                 39.0                       39.0                   8   \n5                 39.0                       39.0                   8   \n6                  1.0                        1.0                   4   \n7                 13.0                       13.0                   8   \n8                  3.0                        3.0                   8   \n9                  3.0                        3.0                   8   \n\n   host_has_profile_pic  host_identity_verified  neighbourhood_group_cleansed  \\\n0                   1.0                     1.0                             8   \n1                   1.0                     1.0                             2   \n2                   1.0                     1.0                             8   \n3                   1.0                     1.0                             3   \n4                   1.0                     0.0                             3   \n5                   1.0                     0.0                             3   \n6                   1.0                     0.0                             5   \n7                   1.0                     1.0                             3   \n8                   1.0                     1.0                             1   \n9                   1.0                     1.0                             1   \n\n   latitude  ...  require_guest_profile_picture  \\\n0  41.40889  ...                            0.0   \n1  41.40420  ...                            0.0   \n2  41.41203  ...                            0.0   \n3  41.40145  ...                            1.0   \n4  41.40950  ...                            0.0   \n5  41.40928  ...                            0.0   \n6  41.38720  ...                            0.0   \n7  41.40464  ...                            0.0   \n8  41.37916  ...                            0.0   \n9  41.37859  ...                            0.0   \n\n   require_guest_phone_verification  calculated_host_listings_count  \\\n0                               0.0                            30.0   \n1                               0.0                            30.0   \n2                               1.0                             2.0   \n3                               1.0                             1.0   \n4                               0.0                            39.0   \n5                               0.0                            39.0   \n6                               0.0                             1.0   \n7                               0.0                            14.0   \n8                               0.0                             2.0   \n9                               0.0                             2.0   \n\n   calculated_host_listings_count_entire_homes  \\\n0                                         30.0   \n1                                         30.0   \n2                                          2.0   \n3                                          0.0   \n4                                         39.0   \n5                                         39.0   \n6                                          0.0   \n7                                         14.0   \n8                                          1.0   \n9                                          1.0   \n\n   calculated_host_listings_count_private_rooms  \\\n0                                           0.0   \n1                                           0.0   \n2                                           0.0   \n3                                           1.0   \n4                                           0.0   \n5                                           0.0   \n6                                           1.0   \n7                                           0.0   \n8                                           1.0   \n9                                           1.0   \n\n   calculated_host_listings_count_shared_rooms  reviews_per_month  \\\n0                                          0.0               0.02   \n1                                          0.0               0.25   \n2                                          0.0               0.48   \n3                                          0.0               2.38   \n4                                          0.0               1.71   \n5                                          0.0               0.84   \n6                                          0.0               0.17   \n7                                          0.0               0.58   \n8                                          0.0               0.07   \n9                                          0.0               1.28   \n\n   host_since_2020_03_11  first_review_2020_03_11  last_review_2020_03_11  \n0                   3704                     3704                    3704  \n1                   3704                     3704                    3704  \n2                   3655                     3655                    3655  \n3                   3619                     3619                    3619  \n4                   3570                     3570                    3570  \n5                   3570                     3570                    3570  \n6                   3563                     3563                    3563  \n7                   3572                     3572                    3572  \n8                   3699                     3699                    3699  \n9                   3699                     3699                    3699  \n\n[10 rows x 55 columns]"
     },
     "execution_count": 24,
     "metadata": {},
     "output_type": "execute_result"
    }
   ],
   "source": [
    "airbnb = airbnb.drop(columns=[\n",
    "    'host_since',\n",
    "    'first_review',\n",
    "    'last_review',\n",
    "    'host_since_dt',\n",
    "    'first_review_dt',\n",
    "    'last_review_dt',\n",
    "])\n",
    "airbnb.head(10)"
   ]
  },
  {
   "cell_type": "markdown",
   "metadata": {},
   "source": [
    "# Numeric values"
   ]
  },
  {
   "cell_type": "code",
   "execution_count": 26,
   "metadata": {},
   "outputs": [
    {
     "data": {
      "text/html": "<div>\n<style scoped>\n    .dataframe tbody tr th:only-of-type {\n        vertical-align: middle;\n    }\n\n    .dataframe tbody tr th {\n        vertical-align: top;\n    }\n\n    .dataframe thead th {\n        text-align: right;\n    }\n</style>\n<table border=\"1\" class=\"dataframe\">\n  <thead>\n    <tr style=\"text-align: right;\">\n      <th></th>\n      <th>host_response_rate</th>\n      <th>host_listings_count</th>\n      <th>host_total_listings_count</th>\n      <th>latitude</th>\n      <th>longitude</th>\n      <th>accommodates</th>\n      <th>bathrooms</th>\n      <th>bedrooms</th>\n      <th>beds</th>\n      <th>price</th>\n      <th>...</th>\n      <th>review_scores_cleanliness</th>\n      <th>review_scores_checkin</th>\n      <th>review_scores_communication</th>\n      <th>review_scores_location</th>\n      <th>review_scores_value</th>\n      <th>calculated_host_listings_count</th>\n      <th>calculated_host_listings_count_entire_homes</th>\n      <th>calculated_host_listings_count_private_rooms</th>\n      <th>calculated_host_listings_count_shared_rooms</th>\n      <th>reviews_per_month</th>\n    </tr>\n  </thead>\n  <tbody>\n    <tr>\n      <th>0</th>\n      <td>0.99</td>\n      <td>46.0</td>\n      <td>46.0</td>\n      <td>41.40889</td>\n      <td>2.18555</td>\n      <td>6.0</td>\n      <td>1.0</td>\n      <td>2.0</td>\n      <td>4.0</td>\n      <td>130.0</td>\n      <td>...</td>\n      <td>10.0</td>\n      <td>2.0</td>\n      <td>10.0</td>\n      <td>10.0</td>\n      <td>8.0</td>\n      <td>30.0</td>\n      <td>30.0</td>\n      <td>0.0</td>\n      <td>0.0</td>\n      <td>0.02</td>\n    </tr>\n  </tbody>\n</table>\n<p>1 rows × 36 columns</p>\n</div>",
      "text/plain": "   host_response_rate  host_listings_count  host_total_listings_count  \\\n0                0.99                 46.0                       46.0   \n\n   latitude  longitude  accommodates  bathrooms  bedrooms  beds  price  ...  \\\n0  41.40889    2.18555           6.0        1.0       2.0   4.0  130.0  ...   \n\n   review_scores_cleanliness  review_scores_checkin  \\\n0                       10.0                    2.0   \n\n   review_scores_communication  review_scores_location  review_scores_value  \\\n0                         10.0                    10.0                  8.0   \n\n   calculated_host_listings_count  \\\n0                            30.0   \n\n   calculated_host_listings_count_entire_homes  \\\n0                                         30.0   \n\n   calculated_host_listings_count_private_rooms  \\\n0                                           0.0   \n\n   calculated_host_listings_count_shared_rooms  reviews_per_month  \n0                                          0.0               0.02  \n\n[1 rows x 36 columns]"
     },
     "execution_count": 26,
     "metadata": {},
     "output_type": "execute_result"
    }
   ],
   "source": [
    "numeric_df = airbnb_df.select_dtypes(include=['float64', 'int32']).copy()\n",
    "numeric_df.head(1)"
   ]
  },
  {
   "cell_type": "code",
   "execution_count": 27,
   "metadata": {},
   "outputs": [
    {
     "data": {
      "text/plain": "host_response_rate                              2745\nhost_listings_count                               19\nhost_total_listings_count                         19\nlatitude                                           2\nlongitude                                          2\naccommodates                                       1\nbathrooms                                          6\nbedrooms                                          24\nbeds                                              39\nprice                                              1\nsecurity_deposit                                6807\ncleaning_fee                                    4160\nguests_included                                    1\nextra_people                                       0\nminimum_nights                                     1\nmaximum_nights                                     1\nminimum_nights_avg_ntm                             0\nmaximum_nights_avg_ntm                             0\navailability_30                                    1\navailability_60                                    1\navailability_90                                    1\navailability_365                                   1\nnumber_of_reviews                                  1\nnumber_of_reviews_ltm                              2\nreview_scores_rating                            4483\nreview_scores_accuracy                          4491\nreview_scores_cleanliness                       4489\nreview_scores_checkin                           4496\nreview_scores_communication                     4485\nreview_scores_location                          4494\nreview_scores_value                             4494\ncalculated_host_listings_count                     2\ncalculated_host_listings_count_entire_homes        2\ncalculated_host_listings_count_private_rooms       1\ncalculated_host_listings_count_shared_rooms        1\nreviews_per_month                               4277\ndtype: int64"
     },
     "execution_count": 27,
     "metadata": {},
     "output_type": "execute_result"
    }
   ],
   "source": [
    "numeric_df.isnull().sum()"
   ]
  },
  {
   "cell_type": "code",
   "execution_count": null,
   "metadata": {},
   "outputs": [],
   "source": []
  }
 ],
 "metadata": {
  "kernelspec": {
   "display_name": "Python 3",
   "language": "python",
   "name": "python3"
  },
  "language_info": {
   "codemirror_mode": {
    "name": "ipython",
    "version": 3
   },
   "file_extension": ".py",
   "mimetype": "text/x-python",
   "name": "python",
   "nbconvert_exporter": "python",
   "pygments_lexer": "ipython3",
   "version": "3.7.6-final"
  }
 },
 "nbformat": 4,
 "nbformat_minor": 4
}