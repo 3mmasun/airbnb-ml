{
 "cells": [
  {
   "cell_type": "code",
   "execution_count": 1,
   "metadata": {},
   "outputs": [
    {
     "name": "stdout",
     "output_type": "stream",
     "text": "/Users/sgemma.sun/Documents/data101/airbnb-ml\n"
    }
   ],
   "source": [
    "cd .."
   ]
  },
  {
   "cell_type": "code",
   "execution_count": 2,
   "metadata": {},
   "outputs": [],
   "source": [
    "import numpy as np\n",
    "import pandas as pd\n",
    "import seaborn as sns\n",
    "import matplotlib.pyplot as plt\n",
    "import src.transform as trans"
   ]
  },
  {
   "cell_type": "code",
   "execution_count": 3,
   "metadata": {},
   "outputs": [],
   "source": [
    "pd.set_option('display.max_colwidth', None)\n",
    "pd.set_option('display.max_columns', None)\n",
    "pd.set_option('display.max_rows', None)"
   ]
  },
  {
   "cell_type": "code",
   "execution_count": 4,
   "metadata": {},
   "outputs": [
    {
     "name": "stdout",
     "output_type": "stream",
     "text": "(20428, 66)\nfloat64    36\nobject     30\ndtype: int64\n"
    }
   ],
   "source": [
    "import s3fs\n",
    "import pyarrow.parquet as pq\n",
    "\n",
    "s3 = s3fs.S3FileSystem()\n",
    "\n",
    "filePath = 's3://airbnb-barcelona/valid/currentDate=2020-03-11'\n",
    "airbnb_df = pq.ParquetDataset(filePath, filesystem=s3).read_pandas().to_pandas()\n",
    "\n",
    "airbnb = airbnb_df.drop(columns=[\n",
    "    'rowId',\n",
    "    'id',\n",
    "    'host_location',\n",
    "    'host_neighbourhood',\n",
    "    'street',\n",
    "    'neighbourhood',\n",
    "    'neighbourhood_cleansed',\n",
    "    'market',\n",
    "    'license',\n",
    "    'zipcode'\n",
    "])\n",
    "\n",
    "print(airbnb_df.shape)\n",
    "print(airbnb_df.dtypes.value_counts())"
   ]
  },
  {
   "cell_type": "code",
   "execution_count": 49,
   "metadata": {},
   "outputs": [
    {
     "data": {
      "text/html": "<div>\n<style scoped>\n    .dataframe tbody tr th:only-of-type {\n        vertical-align: middle;\n    }\n\n    .dataframe tbody tr th {\n        vertical-align: top;\n    }\n\n    .dataframe thead th {\n        text-align: right;\n    }\n</style>\n<table border=\"1\" class=\"dataframe\">\n  <thead>\n    <tr style=\"text-align: right;\">\n      <th></th>\n      <th>host_since</th>\n      <th>host_response_time</th>\n      <th>host_is_superhost</th>\n      <th>host_verifications</th>\n      <th>host_has_profile_pic</th>\n      <th>host_identity_verified</th>\n      <th>neighbourhood_group_cleansed</th>\n      <th>is_location_exact</th>\n      <th>property_type</th>\n      <th>room_type</th>\n      <th>bed_type</th>\n      <th>amenities</th>\n      <th>calendar_updated</th>\n      <th>has_availability</th>\n      <th>first_review</th>\n      <th>last_review</th>\n      <th>instant_bookable</th>\n      <th>cancellation_policy</th>\n      <th>require_guest_profile_picture</th>\n      <th>require_guest_phone_verification</th>\n    </tr>\n  </thead>\n  <tbody>\n    <tr>\n      <th>0</th>\n      <td>2010-01-19</td>\n      <td>within an hour</td>\n      <td>False</td>\n      <td>['email', 'phone', 'reviews', 'jumio', 'government_id']</td>\n      <td>True</td>\n      <td>True</td>\n      <td>Sant Martí</td>\n      <td>True</td>\n      <td>Apartment</td>\n      <td>Entire home/apt</td>\n      <td>Real Bed</td>\n      <td>{TV,Internet,Wifi,\"Air conditioning\",\"Wheelchair accessible\",Kitchen,Elevator,\"Free street parking\",Heating,\"Family/kid friendly\",Washer,Dryer,Essentials,Shampoo,\"Hair dryer\",\"Hot water\",\"Host greets you\",\"Paid parking on premises\"}</td>\n      <td>3 months ago</td>\n      <td>True</td>\n      <td>2015-10-10</td>\n      <td>2015-10-10</td>\n      <td>False</td>\n      <td>flexible</td>\n      <td>False</td>\n      <td>False</td>\n    </tr>\n  </tbody>\n</table>\n</div>",
      "text/plain": "   host_since host_response_time host_is_superhost  \\\n0  2010-01-19     within an hour             False   \n\n                                        host_verifications  \\\n0  ['email', 'phone', 'reviews', 'jumio', 'government_id']   \n\n  host_has_profile_pic host_identity_verified neighbourhood_group_cleansed  \\\n0                 True                   True                   Sant Martí   \n\n  is_location_exact property_type        room_type  bed_type  \\\n0              True     Apartment  Entire home/apt  Real Bed   \n\n                                                                                                                                                                                                                                  amenities  \\\n0  {TV,Internet,Wifi,\"Air conditioning\",\"Wheelchair accessible\",Kitchen,Elevator,\"Free street parking\",Heating,\"Family/kid friendly\",Washer,Dryer,Essentials,Shampoo,\"Hair dryer\",\"Hot water\",\"Host greets you\",\"Paid parking on premises\"}   \n\n  calendar_updated has_availability first_review last_review instant_bookable  \\\n0     3 months ago             True   2015-10-10  2015-10-10            False   \n\n  cancellation_policy require_guest_profile_picture  \\\n0            flexible                         False   \n\n  require_guest_phone_verification  \n0                            False  "
     },
     "execution_count": 49,
     "metadata": {},
     "output_type": "execute_result"
    }
   ],
   "source": [
    "cat_df = airbnb.select_dtypes(include=['object']).copy()\n",
    "cat_df.head(1)"
   ]
  },
  {
   "cell_type": "code",
   "execution_count": 39,
   "metadata": {},
   "outputs": [
    {
     "data": {
      "text/plain": "datetime.date(2015, 10, 10)"
     },
     "execution_count": 39,
     "metadata": {},
     "output_type": "execute_result"
    }
   ],
   "source": [
    "cat_df[\"first_review\"]"
   ]
  },
  {
   "cell_type": "code",
   "execution_count": 50,
   "metadata": {},
   "outputs": [],
   "source": [
    "# drop outliers\n",
    "cat_df = trans.drop_rows_occurs_less_than(cat_df, \"cancellation_policy\", 2)\n",
    "cat_df = trans.drop_rows_occurs_less_than(cat_df, \"host_response_time\", 1)\n",
    "# boolean to float\n",
    "cat_df = trans.encode_boolean_to_float(cat_df, \"host_is_superhost\")\n",
    "cat_df = trans.encode_boolean_to_float(cat_df, \"host_has_profile_pic\")\n",
    "cat_df = trans.encode_boolean_to_float(cat_df, \"host_identity_verified\")\n",
    "cat_df = trans.encode_boolean_to_float(cat_df, \"is_location_exact\")\n",
    "cat_df = trans.encode_boolean_to_float(cat_df, \"has_availability\")\n",
    "cat_df = trans.encode_boolean_to_float(cat_df, \"instant_bookable\")\n",
    "cat_df = trans.encode_boolean_to_float(cat_df, \"require_guest_profile_picture\")\n",
    "cat_df = trans.encode_boolean_to_float(cat_df, \"require_guest_phone_verification\")\n",
    "# fillna\n",
    "cat_df = trans.fillna_with_lowest_occurance(cat_df, \"host_since\")\n",
    "cat_df = trans.fillna_with_lowest_occurance(cat_df, \"host_response_time\")\n",
    "cat_df = trans.fillna_with_lowest_occurance(cat_df, \"host_is_superhost\")\n",
    "cat_df = trans.fillna_with_lowest_occurance(cat_df, \"host_has_profile_pic\")\n",
    "cat_df = trans.fillna_with_lowest_occurance(cat_df, \"host_identity_verified\")\n",
    "cat_df = trans.fillna_with_lowest_occurance(cat_df, \"first_review\")\n",
    "cat_df = trans.fillna_with_lowest_occurance(cat_df, \"last_review\")\n",
    "# category encode\n",
    "dic_host_response_time = {'host_response_time': {'N/A': 1, 'a few days or more': 2, 'within a day': 3, 'within a few hours': 4, 'within an hour': 5}}\n",
    "cat_df = cat_df.replace(dic_host_response_time)\n",
    "cat_df = trans.extract_num_of_items_for_column(cat_df, \"host_verifications\")\n",
    "cat_df = trans.extract_num_of_items_for_column(cat_df, \"amenities\")"
   ]
  },
  {
   "cell_type": "code",
   "execution_count": 51,
   "metadata": {},
   "outputs": [],
   "source": [
    "# date columns\n",
    "ymd_to_time = trans.string_to_timestamp('%Y-%m-%d')\n",
    "cat_df[\"host_since_dt\"] = cat_df[\"host_since\"].apply(ymd_to_time)\n",
    "cat_df[\"first_review_dt\"] = cat_df[\"first_review\"].apply(ymd_to_time)\n",
    "cat_df[\"last_review_dt\"] = cat_df[\"last_review\"].apply(ymd_to_time)\n",
    "\n",
    "days_from_2020_03_11 = trans.days_from_date(\n",
    "            compare_date=pd.to_datetime('2020-03-11', format='%Y-%m-%d'))\n",
    "cat_df[\"host_since_2020_03_11\"] = cat_df[\"host_since_dt\"].apply(days_from_2020_03_11)\n",
    "cat_df[\"first_review_2020_03_11\"] = cat_df[\"host_since_dt\"].apply(days_from_2020_03_11)\n",
    "cat_df[\"last_review_2020_03_11\"] = cat_df[\"host_since_dt\"].apply(days_from_2020_03_11)"
   ]
  },
  {
   "cell_type": "code",
   "execution_count": 52,
   "metadata": {},
   "outputs": [
    {
     "data": {
      "text/html": "<div>\n<style scoped>\n    .dataframe tbody tr th:only-of-type {\n        vertical-align: middle;\n    }\n\n    .dataframe tbody tr th {\n        vertical-align: top;\n    }\n\n    .dataframe thead th {\n        text-align: right;\n    }\n</style>\n<table border=\"1\" class=\"dataframe\">\n  <thead>\n    <tr style=\"text-align: right;\">\n      <th></th>\n      <th>host_since</th>\n      <th>host_response_time</th>\n      <th>host_is_superhost</th>\n      <th>host_verifications</th>\n      <th>host_has_profile_pic</th>\n      <th>host_identity_verified</th>\n      <th>neighbourhood_group_cleansed</th>\n      <th>is_location_exact</th>\n      <th>property_type</th>\n      <th>room_type</th>\n      <th>bed_type</th>\n      <th>amenities</th>\n      <th>calendar_updated</th>\n      <th>has_availability</th>\n      <th>first_review</th>\n      <th>last_review</th>\n      <th>instant_bookable</th>\n      <th>cancellation_policy</th>\n      <th>require_guest_profile_picture</th>\n      <th>require_guest_phone_verification</th>\n      <th>host_since_dt</th>\n      <th>first_review_dt</th>\n      <th>last_review_dt</th>\n      <th>host_since_2020_03_11</th>\n      <th>first_review_2020_03_11</th>\n      <th>last_review_2020_03_11</th>\n    </tr>\n  </thead>\n  <tbody>\n    <tr>\n      <th>0</th>\n      <td>2010-01-19</td>\n      <td>5</td>\n      <td>0.0</td>\n      <td>5</td>\n      <td>1.0</td>\n      <td>1.0</td>\n      <td>Sant Martí</td>\n      <td>1.0</td>\n      <td>Apartment</td>\n      <td>Entire home/apt</td>\n      <td>Real Bed</td>\n      <td>18</td>\n      <td>3 months ago</td>\n      <td>1.0</td>\n      <td>2015-10-10</td>\n      <td>2015-10-10</td>\n      <td>0.0</td>\n      <td>flexible</td>\n      <td>0.0</td>\n      <td>0.0</td>\n      <td>2010-01-19</td>\n      <td>2015-10-10</td>\n      <td>2015-10-10</td>\n      <td>3704</td>\n      <td>3704</td>\n      <td>3704</td>\n    </tr>\n    <tr>\n      <th>1</th>\n      <td>2010-01-19</td>\n      <td>5</td>\n      <td>0.0</td>\n      <td>5</td>\n      <td>1.0</td>\n      <td>1.0</td>\n      <td>Eixample</td>\n      <td>1.0</td>\n      <td>Apartment</td>\n      <td>Entire home/apt</td>\n      <td>Real Bed</td>\n      <td>22</td>\n      <td>today</td>\n      <td>1.0</td>\n      <td>2013-05-27</td>\n      <td>2019-10-19</td>\n      <td>1.0</td>\n      <td>strict_14_with_grace_period</td>\n      <td>0.0</td>\n      <td>0.0</td>\n      <td>2010-01-19</td>\n      <td>2013-05-27</td>\n      <td>2019-10-19</td>\n      <td>3704</td>\n      <td>3704</td>\n      <td>3704</td>\n    </tr>\n    <tr>\n      <th>2</th>\n      <td>2010-03-09</td>\n      <td>5</td>\n      <td>1.0</td>\n      <td>8</td>\n      <td>1.0</td>\n      <td>1.0</td>\n      <td>Sant Martí</td>\n      <td>0.0</td>\n      <td>Apartment</td>\n      <td>Entire home/apt</td>\n      <td>Real Bed</td>\n      <td>46</td>\n      <td>a week ago</td>\n      <td>1.0</td>\n      <td>2011-03-15</td>\n      <td>2019-09-29</td>\n      <td>1.0</td>\n      <td>strict_14_with_grace_period</td>\n      <td>0.0</td>\n      <td>1.0</td>\n      <td>2010-03-09</td>\n      <td>2011-03-15</td>\n      <td>2019-09-29</td>\n      <td>3655</td>\n      <td>3655</td>\n      <td>3655</td>\n    </tr>\n    <tr>\n      <th>3</th>\n      <td>2010-04-14</td>\n      <td>5</td>\n      <td>1.0</td>\n      <td>8</td>\n      <td>1.0</td>\n      <td>1.0</td>\n      <td>Gràcia</td>\n      <td>1.0</td>\n      <td>Apartment</td>\n      <td>Private room</td>\n      <td>Real Bed</td>\n      <td>17</td>\n      <td>5 days ago</td>\n      <td>1.0</td>\n      <td>2010-08-11</td>\n      <td>2019-11-06</td>\n      <td>1.0</td>\n      <td>strict_14_with_grace_period</td>\n      <td>1.0</td>\n      <td>1.0</td>\n      <td>2010-04-14</td>\n      <td>2010-08-11</td>\n      <td>2019-11-06</td>\n      <td>3619</td>\n      <td>3619</td>\n      <td>3619</td>\n    </tr>\n    <tr>\n      <th>4</th>\n      <td>2010-06-02</td>\n      <td>5</td>\n      <td>0.0</td>\n      <td>8</td>\n      <td>1.0</td>\n      <td>0.0</td>\n      <td>Gràcia</td>\n      <td>1.0</td>\n      <td>Apartment</td>\n      <td>Entire home/apt</td>\n      <td>Real Bed</td>\n      <td>10</td>\n      <td>today</td>\n      <td>1.0</td>\n      <td>2011-02-19</td>\n      <td>2019-10-16</td>\n      <td>1.0</td>\n      <td>strict_14_with_grace_period</td>\n      <td>0.0</td>\n      <td>0.0</td>\n      <td>2010-06-02</td>\n      <td>2011-02-19</td>\n      <td>2019-10-16</td>\n      <td>3570</td>\n      <td>3570</td>\n      <td>3570</td>\n    </tr>\n    <tr>\n      <th>5</th>\n      <td>2010-06-02</td>\n      <td>5</td>\n      <td>0.0</td>\n      <td>8</td>\n      <td>1.0</td>\n      <td>0.0</td>\n      <td>Gràcia</td>\n      <td>1.0</td>\n      <td>Apartment</td>\n      <td>Entire home/apt</td>\n      <td>Real Bed</td>\n      <td>10</td>\n      <td>today</td>\n      <td>1.0</td>\n      <td>2011-01-07</td>\n      <td>2019-11-05</td>\n      <td>1.0</td>\n      <td>strict_14_with_grace_period</td>\n      <td>0.0</td>\n      <td>0.0</td>\n      <td>2010-06-02</td>\n      <td>2011-01-07</td>\n      <td>2019-11-05</td>\n      <td>3570</td>\n      <td>3570</td>\n      <td>3570</td>\n    </tr>\n    <tr>\n      <th>6</th>\n      <td>2010-06-09</td>\n      <td>1</td>\n      <td>0.0</td>\n      <td>4</td>\n      <td>1.0</td>\n      <td>0.0</td>\n      <td>Les Corts</td>\n      <td>1.0</td>\n      <td>Apartment</td>\n      <td>Private room</td>\n      <td>Real Bed</td>\n      <td>25</td>\n      <td>5 months ago</td>\n      <td>1.0</td>\n      <td>2010-08-26</td>\n      <td>2014-05-12</td>\n      <td>0.0</td>\n      <td>moderate</td>\n      <td>0.0</td>\n      <td>0.0</td>\n      <td>2010-06-09</td>\n      <td>2010-08-26</td>\n      <td>2014-05-12</td>\n      <td>3563</td>\n      <td>3563</td>\n      <td>3563</td>\n    </tr>\n    <tr>\n      <th>7</th>\n      <td>2010-05-31</td>\n      <td>5</td>\n      <td>0.0</td>\n      <td>8</td>\n      <td>1.0</td>\n      <td>1.0</td>\n      <td>Gràcia</td>\n      <td>1.0</td>\n      <td>Apartment</td>\n      <td>Entire home/apt</td>\n      <td>Real Bed</td>\n      <td>36</td>\n      <td>4 days ago</td>\n      <td>1.0</td>\n      <td>2011-07-17</td>\n      <td>2019-10-19</td>\n      <td>1.0</td>\n      <td>flexible</td>\n      <td>0.0</td>\n      <td>0.0</td>\n      <td>2010-05-31</td>\n      <td>2011-07-17</td>\n      <td>2019-10-19</td>\n      <td>3572</td>\n      <td>3572</td>\n      <td>3572</td>\n    </tr>\n    <tr>\n      <th>8</th>\n      <td>2010-01-24</td>\n      <td>4</td>\n      <td>0.0</td>\n      <td>8</td>\n      <td>1.0</td>\n      <td>1.0</td>\n      <td>Ciutat Vella</td>\n      <td>1.0</td>\n      <td>Apartment</td>\n      <td>Private room</td>\n      <td>Real Bed</td>\n      <td>17</td>\n      <td>4 weeks ago</td>\n      <td>1.0</td>\n      <td>2010-07-10</td>\n      <td>2013-07-15</td>\n      <td>0.0</td>\n      <td>moderate</td>\n      <td>0.0</td>\n      <td>0.0</td>\n      <td>2010-01-24</td>\n      <td>2010-07-10</td>\n      <td>2013-07-15</td>\n      <td>3699</td>\n      <td>3699</td>\n      <td>3699</td>\n    </tr>\n    <tr>\n      <th>9</th>\n      <td>2010-01-24</td>\n      <td>4</td>\n      <td>0.0</td>\n      <td>8</td>\n      <td>1.0</td>\n      <td>1.0</td>\n      <td>Ciutat Vella</td>\n      <td>1.0</td>\n      <td>Apartment</td>\n      <td>Entire home/apt</td>\n      <td>Real Bed</td>\n      <td>38</td>\n      <td>4 days ago</td>\n      <td>1.0</td>\n      <td>2010-10-03</td>\n      <td>2019-10-08</td>\n      <td>1.0</td>\n      <td>strict_14_with_grace_period</td>\n      <td>0.0</td>\n      <td>0.0</td>\n      <td>2010-01-24</td>\n      <td>2010-10-03</td>\n      <td>2019-10-08</td>\n      <td>3699</td>\n      <td>3699</td>\n      <td>3699</td>\n    </tr>\n  </tbody>\n</table>\n</div>",
      "text/plain": "   host_since  host_response_time  host_is_superhost  host_verifications  \\\n0  2010-01-19                   5                0.0                   5   \n1  2010-01-19                   5                0.0                   5   \n2  2010-03-09                   5                1.0                   8   \n3  2010-04-14                   5                1.0                   8   \n4  2010-06-02                   5                0.0                   8   \n5  2010-06-02                   5                0.0                   8   \n6  2010-06-09                   1                0.0                   4   \n7  2010-05-31                   5                0.0                   8   \n8  2010-01-24                   4                0.0                   8   \n9  2010-01-24                   4                0.0                   8   \n\n   host_has_profile_pic  host_identity_verified neighbourhood_group_cleansed  \\\n0                   1.0                     1.0                   Sant Martí   \n1                   1.0                     1.0                     Eixample   \n2                   1.0                     1.0                   Sant Martí   \n3                   1.0                     1.0                       Gràcia   \n4                   1.0                     0.0                       Gràcia   \n5                   1.0                     0.0                       Gràcia   \n6                   1.0                     0.0                    Les Corts   \n7                   1.0                     1.0                       Gràcia   \n8                   1.0                     1.0                 Ciutat Vella   \n9                   1.0                     1.0                 Ciutat Vella   \n\n   is_location_exact property_type        room_type  bed_type  amenities  \\\n0                1.0     Apartment  Entire home/apt  Real Bed         18   \n1                1.0     Apartment  Entire home/apt  Real Bed         22   \n2                0.0     Apartment  Entire home/apt  Real Bed         46   \n3                1.0     Apartment     Private room  Real Bed         17   \n4                1.0     Apartment  Entire home/apt  Real Bed         10   \n5                1.0     Apartment  Entire home/apt  Real Bed         10   \n6                1.0     Apartment     Private room  Real Bed         25   \n7                1.0     Apartment  Entire home/apt  Real Bed         36   \n8                1.0     Apartment     Private room  Real Bed         17   \n9                1.0     Apartment  Entire home/apt  Real Bed         38   \n\n  calendar_updated  has_availability first_review last_review  \\\n0     3 months ago               1.0   2015-10-10  2015-10-10   \n1            today               1.0   2013-05-27  2019-10-19   \n2       a week ago               1.0   2011-03-15  2019-09-29   \n3       5 days ago               1.0   2010-08-11  2019-11-06   \n4            today               1.0   2011-02-19  2019-10-16   \n5            today               1.0   2011-01-07  2019-11-05   \n6     5 months ago               1.0   2010-08-26  2014-05-12   \n7       4 days ago               1.0   2011-07-17  2019-10-19   \n8      4 weeks ago               1.0   2010-07-10  2013-07-15   \n9       4 days ago               1.0   2010-10-03  2019-10-08   \n\n   instant_bookable          cancellation_policy  \\\n0               0.0                     flexible   \n1               1.0  strict_14_with_grace_period   \n2               1.0  strict_14_with_grace_period   \n3               1.0  strict_14_with_grace_period   \n4               1.0  strict_14_with_grace_period   \n5               1.0  strict_14_with_grace_period   \n6               0.0                     moderate   \n7               1.0                     flexible   \n8               0.0                     moderate   \n9               1.0  strict_14_with_grace_period   \n\n   require_guest_profile_picture  require_guest_phone_verification  \\\n0                            0.0                               0.0   \n1                            0.0                               0.0   \n2                            0.0                               1.0   \n3                            1.0                               1.0   \n4                            0.0                               0.0   \n5                            0.0                               0.0   \n6                            0.0                               0.0   \n7                            0.0                               0.0   \n8                            0.0                               0.0   \n9                            0.0                               0.0   \n\n  host_since_dt first_review_dt last_review_dt  host_since_2020_03_11  \\\n0    2010-01-19      2015-10-10     2015-10-10                   3704   \n1    2010-01-19      2013-05-27     2019-10-19                   3704   \n2    2010-03-09      2011-03-15     2019-09-29                   3655   \n3    2010-04-14      2010-08-11     2019-11-06                   3619   \n4    2010-06-02      2011-02-19     2019-10-16                   3570   \n5    2010-06-02      2011-01-07     2019-11-05                   3570   \n6    2010-06-09      2010-08-26     2014-05-12                   3563   \n7    2010-05-31      2011-07-17     2019-10-19                   3572   \n8    2010-01-24      2010-07-10     2013-07-15                   3699   \n9    2010-01-24      2010-10-03     2019-10-08                   3699   \n\n   first_review_2020_03_11  last_review_2020_03_11  \n0                     3704                    3704  \n1                     3704                    3704  \n2                     3655                    3655  \n3                     3619                    3619  \n4                     3570                    3570  \n5                     3570                    3570  \n6                     3563                    3563  \n7                     3572                    3572  \n8                     3699                    3699  \n9                     3699                    3699  "
     },
     "execution_count": 52,
     "metadata": {},
     "output_type": "execute_result"
    }
   ],
   "source": [
    "cat_df.head(10)"
   ]
  },
  {
   "cell_type": "code",
   "execution_count": 6,
   "metadata": {},
   "outputs": [
    {
     "data": {
      "text/plain": "{'neighbourhood_group_cleansed': {'1.0': 1,\n  'Ciutat Vella': 2,\n  'Eixample': 3,\n  'Gràcia': 4,\n  'Horta-Guinardó': 5,\n  'Les Corts': 6,\n  'Nou Barris': 7,\n  'Sant Andreu': 8,\n  'Sant Martí': 9,\n  'Sants-Montjuïc': 10,\n  'Sarrià-Sant Gervasi': 11},\n 'property_type': {'1': 1,\n  '2.15484': 2,\n  'Aparthotel': 3,\n  'Apartment': 4,\n  'Barn': 5,\n  'Bed and breakfast': 6,\n  'Boat': 7,\n  'Boutique hotel': 8,\n  'Cabin': 9,\n  'Camper/RV': 10,\n  'Casa particular (Cuba)': 11,\n  'Castle': 12,\n  'Chalet': 13,\n  'Condominium': 14,\n  'Cottage': 15,\n  'Dome house': 16,\n  'Farm stay': 17,\n  'Guest suite': 18,\n  'Guesthouse': 19,\n  'Hostel': 20,\n  'Hotel': 21,\n  'House': 22,\n  'Houseboat': 23,\n  'Island': 24,\n  'Loft': 25,\n  'Nature lodge': 26,\n  'Other': 27,\n  'Serviced apartment': 28,\n  'Tiny house': 29,\n  'Townhouse': 30,\n  'Treehouse': 31,\n  'Villa': 32},\n 'room_type': {'$0.00': 1,\n  'Entire home/apt': 2,\n  'Hotel room': 3,\n  'Private room': 4,\n  'Shared room': 5,\n  't': 6},\n 'bed_type': {'0': 1,\n  '1125': 2,\n  'Airbed': 3,\n  'Couch': 4,\n  'Futon': 5,\n  'Pull-out Sofa': 6,\n  'Real Bed': 7}}"
     },
     "execution_count": 6,
     "metadata": {},
     "output_type": "execute_result"
    }
   ],
   "source": [
    "import src.transform as trans\n",
    "category_encoder = trans.encode_category_dic(airbnb)\n",
    "category_columns = [\n",
    "    \"neighbourhood_group_cleansed\",\n",
    "    \"property_type\",\n",
    "    \"room_type\",\n",
    "    \"bed_type\"\n",
    "]\n",
    "category_dic = trans.foldleft(category_encoder, {}, category_columns)\n",
    "category_dic"
   ]
  },
  {
   "cell_type": "code",
   "execution_count": null,
   "metadata": {},
   "outputs": [],
   "source": [
    "numeric_df = airbnb_df.select_dtypes(include=['float64', 'int32']).copy()"
   ]
  },
  {
   "cell_type": "code",
   "execution_count": null,
   "metadata": {},
   "outputs": [],
   "source": [
    "replace_map = foldleft(airbnb_replace, {}, category_columns)\n",
    "replace_map"
   ]
  },
  {
   "cell_type": "code",
   "execution_count": null,
   "metadata": {},
   "outputs": [],
   "source": [
    "cat_airbnb = airbnb_drop.replace(mapp)"
   ]
  }
 ],
 "metadata": {
  "kernelspec": {
   "display_name": "Python 3",
   "language": "python",
   "name": "python3"
  },
  "language_info": {
   "codemirror_mode": {
    "name": "ipython",
    "version": 3
   },
   "file_extension": ".py",
   "mimetype": "text/x-python",
   "name": "python",
   "nbconvert_exporter": "python",
   "pygments_lexer": "ipython3",
   "version": "3.7.6-final"
  }
 },
 "nbformat": 4,
 "nbformat_minor": 4
}