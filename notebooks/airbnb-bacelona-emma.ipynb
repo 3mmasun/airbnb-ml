{
 "cells": [
  {
   "cell_type": "code",
   "execution_count": 1,
   "metadata": {},
   "outputs": [
    {
     "name": "stdout",
     "output_type": "stream",
     "text": "/Users/sgemma.sun/Documents/data101/airbnb-ml\n"
    }
   ],
   "source": [
    "cd .."
   ]
  },
  {
   "cell_type": "code",
   "execution_count": 2,
   "metadata": {},
   "outputs": [],
   "source": [
    "import numpy as np\n",
    "import pandas as pd\n",
    "import seaborn as sns\n",
    "import matplotlib.pyplot as plt\n",
    "import src.transform as trans\n",
    "\n",
    "pd.set_option('display.max_colwidth', None)\n",
    "pd.set_option('display.max_columns', None)\n",
    "pd.set_option('display.max_rows', None)"
   ]
  },
  {
   "cell_type": "code",
   "execution_count": 3,
   "metadata": {},
   "outputs": [
    {
     "name": "stdout",
     "output_type": "stream",
     "text": "(20428, 55)\n"
    }
   ],
   "source": [
    "import s3fs\n",
    "import pyarrow.parquet as pq\n",
    "\n",
    "s3 = s3fs.S3FileSystem()\n",
    "\n",
    "filePath = 's3://airbnb-barcelona/valid/currentDate=2020-03-11'\n",
    "airbnb_df = pq.ParquetDataset(filePath, filesystem=s3).read_pandas().to_pandas()\n",
    "\n",
    "airbnb = airbnb_df.drop(columns=[\n",
    "    'rowId',\n",
    "    'id',\n",
    "    'host_location',\n",
    "    'host_neighbourhood',\n",
    "    'street',\n",
    "    'neighbourhood',\n",
    "    'neighbourhood_cleansed',\n",
    "    'market',\n",
    "    'license',\n",
    "    'zipcode',\n",
    "    'calendar_updated'\n",
    "])\n",
    "\n",
    "print(airbnb.shape)"
   ]
  },
  {
   "cell_type": "markdown",
   "metadata": {},
   "source": [
    "# Object values"
   ]
  },
  {
   "cell_type": "code",
   "execution_count": 5,
   "metadata": {},
   "outputs": [],
   "source": [
    "cat_df = airbnb.select_dtypes(include=['object']).copy()"
   ]
  },
  {
   "cell_type": "code",
   "execution_count": 4,
   "metadata": {},
   "outputs": [],
   "source": [
    "# drop outliers\n",
    "airbnb = trans.drop_rows_occurs_less_than(airbnb, \"cancellation_policy\", 2)\n",
    "airbnb = trans.drop_rows_occurs_less_than(airbnb, \"host_response_time\", 1)\n",
    "# boolean to float\n",
    "airbnb = trans.encode_boolean_to_float(airbnb, \"host_is_superhost\")\n",
    "airbnb = trans.encode_boolean_to_float(airbnb, \"host_has_profile_pic\")\n",
    "airbnb = trans.encode_boolean_to_float(airbnb, \"host_identity_verified\")\n",
    "airbnb = trans.encode_boolean_to_float(airbnb, \"is_location_exact\")\n",
    "airbnb = trans.encode_boolean_to_float(airbnb, \"has_availability\")\n",
    "airbnb = trans.encode_boolean_to_float(airbnb, \"instant_bookable\")\n",
    "airbnb = trans.encode_boolean_to_float(airbnb, \"require_guest_profile_picture\")\n",
    "airbnb = trans.encode_boolean_to_float(airbnb, \"require_guest_phone_verification\")\n",
    "# fillna\n",
    "airbnb = trans.fillna_with_lowest_occurance(airbnb, \"host_since\")\n",
    "airbnb = trans.fillna_with_lowest_occurance(airbnb, \"host_response_time\")\n",
    "airbnb = trans.fillna_with_lowest_occurance(airbnb, \"host_is_superhost\")\n",
    "airbnb = trans.fillna_with_lowest_occurance(airbnb, \"host_has_profile_pic\")\n",
    "airbnb = trans.fillna_with_lowest_occurance(airbnb, \"host_identity_verified\")\n",
    "airbnb = trans.fillna_with_lowest_occurance(airbnb, \"first_review\")\n",
    "airbnb = trans.fillna_with_lowest_occurance(airbnb, \"last_review\")\n",
    "# element count\n",
    "airbnb = trans.extract_num_of_items_for_column(airbnb, \"host_verifications\")\n",
    "airbnb = trans.extract_num_of_items_for_column(airbnb, \"amenities\")\n",
    "# category encode\n",
    "category_encoder = trans.encode_category_dic(airbnb)\n",
    "category_columns = [\n",
    "    \"neighbourhood_group_cleansed\",\n",
    "    \"property_type\",\n",
    "    \"room_type\",\n",
    "    \"bed_type\",\n",
    "    \"cancellation_policy\"\n",
    "]\n",
    "category_dic = trans.foldleft(category_encoder, {}, category_columns)\n",
    "dic_host_response_time = {'host_response_time': {'N/A': 1, 'a few days or more': 2, 'within a day': 3, 'within a few hours': 4, 'within an hour': 5}}\n",
    "category_dic = dict(dic_host_response_time, **category_dic)\n",
    "airbnb = airbnb.replace(category_dic)"
   ]
  },
  {
   "cell_type": "code",
   "execution_count": 6,
   "metadata": {},
   "outputs": [],
   "source": [
    "# date columns\n",
    "ymd_to_time = trans.string_to_timestamp('%Y-%m-%d')\n",
    "airbnb[\"host_since_dt\"] = airbnb[\"host_since\"].apply(ymd_to_time)\n",
    "airbnb[\"first_review_dt\"] = airbnb[\"first_review\"].apply(ymd_to_time)\n",
    "airbnb[\"last_review_dt\"] = airbnb[\"last_review\"].apply(ymd_to_time)\n",
    "days_from_2020_03_11 = trans.days_from_date(compare_date=pd.to_datetime('2020-03-11', format='%Y-%m-%d'))\n",
    "airbnb[\"host_since_2020_03_11\"] = airbnb[\"host_since_dt\"].apply(days_from_2020_03_11)\n",
    "airbnb[\"first_review_2020_03_11\"] = airbnb[\"host_since_dt\"].apply(days_from_2020_03_11)\n",
    "airbnb[\"last_review_2020_03_11\"] = airbnb[\"host_since_dt\"].apply(days_from_2020_03_11)\n",
    "# drop unused columns\n",
    "airbnb = airbnb.drop(columns=[\n",
    "    'host_since',\n",
    "    'first_review',\n",
    "    'last_review',\n",
    "    'host_since_dt',\n",
    "    'first_review_dt',\n",
    "    'last_review_dt',\n",
    "])"
   ]
  },
  {
   "cell_type": "markdown",
   "metadata": {},
   "source": [
    "# Numeric values"
   ]
  },
  {
   "cell_type": "code",
   "execution_count": 7,
   "metadata": {},
   "outputs": [
    {
     "data": {
      "text/html": "<div>\n<style scoped>\n    .dataframe tbody tr th:only-of-type {\n        vertical-align: middle;\n    }\n\n    .dataframe tbody tr th {\n        vertical-align: top;\n    }\n\n    .dataframe thead th {\n        text-align: right;\n    }\n</style>\n<table border=\"1\" class=\"dataframe\">\n  <thead>\n    <tr style=\"text-align: right;\">\n      <th></th>\n      <th>host_response_rate</th>\n      <th>host_listings_count</th>\n      <th>host_total_listings_count</th>\n      <th>latitude</th>\n      <th>longitude</th>\n      <th>accommodates</th>\n      <th>bathrooms</th>\n      <th>bedrooms</th>\n      <th>beds</th>\n      <th>price</th>\n      <th>security_deposit</th>\n      <th>cleaning_fee</th>\n      <th>guests_included</th>\n      <th>extra_people</th>\n      <th>minimum_nights</th>\n      <th>maximum_nights</th>\n      <th>minimum_nights_avg_ntm</th>\n      <th>maximum_nights_avg_ntm</th>\n      <th>availability_30</th>\n      <th>availability_60</th>\n      <th>availability_90</th>\n      <th>availability_365</th>\n      <th>number_of_reviews</th>\n      <th>number_of_reviews_ltm</th>\n      <th>review_scores_rating</th>\n      <th>review_scores_accuracy</th>\n      <th>review_scores_cleanliness</th>\n      <th>review_scores_checkin</th>\n      <th>review_scores_communication</th>\n      <th>review_scores_location</th>\n      <th>review_scores_value</th>\n      <th>calculated_host_listings_count</th>\n      <th>calculated_host_listings_count_entire_homes</th>\n      <th>calculated_host_listings_count_private_rooms</th>\n      <th>calculated_host_listings_count_shared_rooms</th>\n      <th>reviews_per_month</th>\n    </tr>\n  </thead>\n  <tbody>\n    <tr>\n      <th>0</th>\n      <td>0.99</td>\n      <td>46.0</td>\n      <td>46.0</td>\n      <td>41.40889</td>\n      <td>2.18555</td>\n      <td>6.0</td>\n      <td>1.0</td>\n      <td>2.0</td>\n      <td>4.0</td>\n      <td>130.0</td>\n      <td>150.0</td>\n      <td>42.0</td>\n      <td>2.0</td>\n      <td>25.0</td>\n      <td>3.0</td>\n      <td>730.0</td>\n      <td>3.0</td>\n      <td>730.0</td>\n      <td>0.0</td>\n      <td>0.0</td>\n      <td>29.0</td>\n      <td>304.0</td>\n      <td>1.0</td>\n      <td>0.0</td>\n      <td>80.0</td>\n      <td>10.0</td>\n      <td>10.0</td>\n      <td>2.0</td>\n      <td>10.0</td>\n      <td>10.0</td>\n      <td>8.0</td>\n      <td>30.0</td>\n      <td>30.0</td>\n      <td>0.0</td>\n      <td>0.0</td>\n      <td>0.02</td>\n    </tr>\n  </tbody>\n</table>\n</div>",
      "text/plain": "   host_response_rate  host_listings_count  host_total_listings_count  \\\n0                0.99                 46.0                       46.0   \n\n   latitude  longitude  accommodates  bathrooms  bedrooms  beds  price  \\\n0  41.40889    2.18555           6.0        1.0       2.0   4.0  130.0   \n\n   security_deposit  cleaning_fee  guests_included  extra_people  \\\n0             150.0          42.0              2.0          25.0   \n\n   minimum_nights  maximum_nights  minimum_nights_avg_ntm  \\\n0             3.0           730.0                     3.0   \n\n   maximum_nights_avg_ntm  availability_30  availability_60  availability_90  \\\n0                   730.0              0.0              0.0             29.0   \n\n   availability_365  number_of_reviews  number_of_reviews_ltm  \\\n0             304.0                1.0                    0.0   \n\n   review_scores_rating  review_scores_accuracy  review_scores_cleanliness  \\\n0                  80.0                    10.0                       10.0   \n\n   review_scores_checkin  review_scores_communication  review_scores_location  \\\n0                    2.0                         10.0                    10.0   \n\n   review_scores_value  calculated_host_listings_count  \\\n0                  8.0                            30.0   \n\n   calculated_host_listings_count_entire_homes  \\\n0                                         30.0   \n\n   calculated_host_listings_count_private_rooms  \\\n0                                           0.0   \n\n   calculated_host_listings_count_shared_rooms  reviews_per_month  \n0                                          0.0               0.02  "
     },
     "execution_count": 7,
     "metadata": {},
     "output_type": "execute_result"
    }
   ],
   "source": [
    "numeric_df = airbnb_df.select_dtypes(include=['float64', 'int32']).copy()\n",
    "numeric_df.head(1)"
   ]
  },
  {
   "cell_type": "code",
   "execution_count": 8,
   "metadata": {},
   "outputs": [
    {
     "data": {
      "text/html": "<div>\n<style scoped>\n    .dataframe tbody tr th:only-of-type {\n        vertical-align: middle;\n    }\n\n    .dataframe tbody tr th {\n        vertical-align: top;\n    }\n\n    .dataframe thead th {\n        text-align: right;\n    }\n</style>\n<table border=\"1\" class=\"dataframe\">\n  <thead>\n    <tr style=\"text-align: right;\">\n      <th></th>\n      <th>host_response_time</th>\n      <th>host_response_rate</th>\n      <th>host_is_superhost</th>\n      <th>host_listings_count</th>\n      <th>host_total_listings_count</th>\n      <th>host_verifications</th>\n      <th>host_has_profile_pic</th>\n      <th>host_identity_verified</th>\n      <th>neighbourhood_group_cleansed</th>\n      <th>latitude</th>\n      <th>longitude</th>\n      <th>is_location_exact</th>\n      <th>property_type</th>\n      <th>room_type</th>\n      <th>accommodates</th>\n      <th>bathrooms</th>\n      <th>bedrooms</th>\n      <th>beds</th>\n      <th>bed_type</th>\n      <th>amenities</th>\n      <th>price</th>\n      <th>security_deposit</th>\n      <th>cleaning_fee</th>\n      <th>guests_included</th>\n      <th>extra_people</th>\n      <th>minimum_nights</th>\n      <th>maximum_nights</th>\n      <th>minimum_nights_avg_ntm</th>\n      <th>maximum_nights_avg_ntm</th>\n      <th>has_availability</th>\n      <th>availability_30</th>\n      <th>availability_60</th>\n      <th>availability_90</th>\n      <th>availability_365</th>\n      <th>number_of_reviews</th>\n      <th>number_of_reviews_ltm</th>\n      <th>review_scores_rating</th>\n      <th>review_scores_accuracy</th>\n      <th>review_scores_cleanliness</th>\n      <th>review_scores_checkin</th>\n      <th>review_scores_communication</th>\n      <th>review_scores_location</th>\n      <th>review_scores_value</th>\n      <th>instant_bookable</th>\n      <th>cancellation_policy</th>\n      <th>require_guest_profile_picture</th>\n      <th>require_guest_phone_verification</th>\n      <th>calculated_host_listings_count</th>\n      <th>calculated_host_listings_count_entire_homes</th>\n      <th>calculated_host_listings_count_private_rooms</th>\n      <th>calculated_host_listings_count_shared_rooms</th>\n      <th>reviews_per_month</th>\n      <th>host_since_2020_03_11</th>\n      <th>first_review_2020_03_11</th>\n      <th>last_review_2020_03_11</th>\n    </tr>\n  </thead>\n  <tbody>\n    <tr>\n      <th>0</th>\n      <td>5</td>\n      <td>0.990000</td>\n      <td>0.0</td>\n      <td>46.0</td>\n      <td>46.0</td>\n      <td>5</td>\n      <td>1.0</td>\n      <td>1.0</td>\n      <td>8</td>\n      <td>41.40889</td>\n      <td>2.18555</td>\n      <td>1.0</td>\n      <td>2</td>\n      <td>1</td>\n      <td>6.0</td>\n      <td>1.0</td>\n      <td>2.0</td>\n      <td>4.0</td>\n      <td>5</td>\n      <td>18</td>\n      <td>130.0</td>\n      <td>150.000000</td>\n      <td>42.000000</td>\n      <td>2.0</td>\n      <td>25.0</td>\n      <td>3.0</td>\n      <td>730.0</td>\n      <td>3.0</td>\n      <td>730.0</td>\n      <td>1.0</td>\n      <td>0.0</td>\n      <td>0.0</td>\n      <td>29.0</td>\n      <td>304.0</td>\n      <td>1.0</td>\n      <td>0.0</td>\n      <td>80.0</td>\n      <td>10.0</td>\n      <td>10.0</td>\n      <td>2.0</td>\n      <td>10.0</td>\n      <td>10.0</td>\n      <td>8.0</td>\n      <td>0.0</td>\n      <td>1</td>\n      <td>0.0</td>\n      <td>0.0</td>\n      <td>30.0</td>\n      <td>30.0</td>\n      <td>0.0</td>\n      <td>0.0</td>\n      <td>0.02</td>\n      <td>3704</td>\n      <td>3704</td>\n      <td>3704</td>\n    </tr>\n    <tr>\n      <th>1</th>\n      <td>5</td>\n      <td>0.990000</td>\n      <td>0.0</td>\n      <td>46.0</td>\n      <td>46.0</td>\n      <td>5</td>\n      <td>1.0</td>\n      <td>1.0</td>\n      <td>2</td>\n      <td>41.40420</td>\n      <td>2.17306</td>\n      <td>1.0</td>\n      <td>2</td>\n      <td>1</td>\n      <td>8.0</td>\n      <td>2.0</td>\n      <td>3.0</td>\n      <td>6.0</td>\n      <td>5</td>\n      <td>22</td>\n      <td>60.0</td>\n      <td>150.000000</td>\n      <td>50.000000</td>\n      <td>2.0</td>\n      <td>30.0</td>\n      <td>1.0</td>\n      <td>1125.0</td>\n      <td>3.9</td>\n      <td>1125.0</td>\n      <td>1.0</td>\n      <td>15.0</td>\n      <td>24.0</td>\n      <td>50.0</td>\n      <td>312.0</td>\n      <td>20.0</td>\n      <td>15.0</td>\n      <td>87.0</td>\n      <td>9.0</td>\n      <td>9.0</td>\n      <td>10.0</td>\n      <td>10.0</td>\n      <td>9.0</td>\n      <td>9.0</td>\n      <td>1.0</td>\n      <td>3</td>\n      <td>0.0</td>\n      <td>0.0</td>\n      <td>30.0</td>\n      <td>30.0</td>\n      <td>0.0</td>\n      <td>0.0</td>\n      <td>0.25</td>\n      <td>3704</td>\n      <td>3704</td>\n      <td>3704</td>\n    </tr>\n    <tr>\n      <th>2</th>\n      <td>5</td>\n      <td>1.000000</td>\n      <td>1.0</td>\n      <td>5.0</td>\n      <td>5.0</td>\n      <td>8</td>\n      <td>1.0</td>\n      <td>1.0</td>\n      <td>8</td>\n      <td>41.41203</td>\n      <td>2.22114</td>\n      <td>0.0</td>\n      <td>2</td>\n      <td>1</td>\n      <td>6.0</td>\n      <td>2.0</td>\n      <td>3.0</td>\n      <td>5.0</td>\n      <td>5</td>\n      <td>46</td>\n      <td>210.0</td>\n      <td>300.000000</td>\n      <td>80.000000</td>\n      <td>3.0</td>\n      <td>10.0</td>\n      <td>3.0</td>\n      <td>30.0</td>\n      <td>3.1</td>\n      <td>1125.0</td>\n      <td>1.0</td>\n      <td>29.0</td>\n      <td>59.0</td>\n      <td>89.0</td>\n      <td>359.0</td>\n      <td>51.0</td>\n      <td>17.0</td>\n      <td>95.0</td>\n      <td>10.0</td>\n      <td>10.0</td>\n      <td>10.0</td>\n      <td>10.0</td>\n      <td>9.0</td>\n      <td>9.0</td>\n      <td>1.0</td>\n      <td>3</td>\n      <td>0.0</td>\n      <td>1.0</td>\n      <td>2.0</td>\n      <td>2.0</td>\n      <td>0.0</td>\n      <td>0.0</td>\n      <td>0.48</td>\n      <td>3655</td>\n      <td>3655</td>\n      <td>3655</td>\n    </tr>\n    <tr>\n      <th>3</th>\n      <td>5</td>\n      <td>1.000000</td>\n      <td>1.0</td>\n      <td>1.0</td>\n      <td>1.0</td>\n      <td>8</td>\n      <td>1.0</td>\n      <td>1.0</td>\n      <td>3</td>\n      <td>41.40145</td>\n      <td>2.15645</td>\n      <td>1.0</td>\n      <td>2</td>\n      <td>3</td>\n      <td>2.0</td>\n      <td>1.0</td>\n      <td>1.0</td>\n      <td>1.0</td>\n      <td>5</td>\n      <td>17</td>\n      <td>32.0</td>\n      <td>166.427606</td>\n      <td>43.103105</td>\n      <td>1.0</td>\n      <td>25.0</td>\n      <td>1.0</td>\n      <td>730.0</td>\n      <td>1.0</td>\n      <td>730.0</td>\n      <td>1.0</td>\n      <td>13.0</td>\n      <td>13.0</td>\n      <td>13.0</td>\n      <td>46.0</td>\n      <td>268.0</td>\n      <td>44.0</td>\n      <td>95.0</td>\n      <td>10.0</td>\n      <td>9.0</td>\n      <td>10.0</td>\n      <td>10.0</td>\n      <td>10.0</td>\n      <td>10.0</td>\n      <td>1.0</td>\n      <td>3</td>\n      <td>1.0</td>\n      <td>1.0</td>\n      <td>1.0</td>\n      <td>0.0</td>\n      <td>1.0</td>\n      <td>0.0</td>\n      <td>2.38</td>\n      <td>3619</td>\n      <td>3619</td>\n      <td>3619</td>\n    </tr>\n    <tr>\n      <th>4</th>\n      <td>5</td>\n      <td>0.920000</td>\n      <td>0.0</td>\n      <td>39.0</td>\n      <td>39.0</td>\n      <td>8</td>\n      <td>1.0</td>\n      <td>0.0</td>\n      <td>3</td>\n      <td>41.40950</td>\n      <td>2.15938</td>\n      <td>1.0</td>\n      <td>2</td>\n      <td>1</td>\n      <td>4.0</td>\n      <td>1.0</td>\n      <td>1.0</td>\n      <td>1.0</td>\n      <td>5</td>\n      <td>10</td>\n      <td>60.0</td>\n      <td>200.000000</td>\n      <td>58.000000</td>\n      <td>4.0</td>\n      <td>0.0</td>\n      <td>1.0</td>\n      <td>27.0</td>\n      <td>2.1</td>\n      <td>27.0</td>\n      <td>1.0</td>\n      <td>16.0</td>\n      <td>33.0</td>\n      <td>58.0</td>\n      <td>324.0</td>\n      <td>182.0</td>\n      <td>32.0</td>\n      <td>92.0</td>\n      <td>9.0</td>\n      <td>9.0</td>\n      <td>8.0</td>\n      <td>9.0</td>\n      <td>9.0</td>\n      <td>9.0</td>\n      <td>1.0</td>\n      <td>3</td>\n      <td>0.0</td>\n      <td>0.0</td>\n      <td>39.0</td>\n      <td>39.0</td>\n      <td>0.0</td>\n      <td>0.0</td>\n      <td>1.71</td>\n      <td>3570</td>\n      <td>3570</td>\n      <td>3570</td>\n    </tr>\n    <tr>\n      <th>5</th>\n      <td>5</td>\n      <td>0.920000</td>\n      <td>0.0</td>\n      <td>39.0</td>\n      <td>39.0</td>\n      <td>8</td>\n      <td>1.0</td>\n      <td>0.0</td>\n      <td>3</td>\n      <td>41.40928</td>\n      <td>2.16112</td>\n      <td>1.0</td>\n      <td>2</td>\n      <td>1</td>\n      <td>5.0</td>\n      <td>1.5</td>\n      <td>3.0</td>\n      <td>3.0</td>\n      <td>5</td>\n      <td>10</td>\n      <td>70.0</td>\n      <td>200.000000</td>\n      <td>108.000000</td>\n      <td>5.0</td>\n      <td>0.0</td>\n      <td>1.0</td>\n      <td>27.0</td>\n      <td>2.1</td>\n      <td>27.0</td>\n      <td>1.0</td>\n      <td>12.0</td>\n      <td>28.0</td>\n      <td>58.0</td>\n      <td>326.0</td>\n      <td>90.0</td>\n      <td>23.0</td>\n      <td>88.0</td>\n      <td>9.0</td>\n      <td>9.0</td>\n      <td>9.0</td>\n      <td>9.0</td>\n      <td>9.0</td>\n      <td>9.0</td>\n      <td>1.0</td>\n      <td>3</td>\n      <td>0.0</td>\n      <td>0.0</td>\n      <td>39.0</td>\n      <td>39.0</td>\n      <td>0.0</td>\n      <td>0.0</td>\n      <td>0.84</td>\n      <td>3570</td>\n      <td>3570</td>\n      <td>3570</td>\n    </tr>\n    <tr>\n      <th>6</th>\n      <td>1</td>\n      <td>0.941213</td>\n      <td>0.0</td>\n      <td>1.0</td>\n      <td>1.0</td>\n      <td>4</td>\n      <td>1.0</td>\n      <td>0.0</td>\n      <td>5</td>\n      <td>41.38720</td>\n      <td>2.14088</td>\n      <td>1.0</td>\n      <td>2</td>\n      <td>3</td>\n      <td>1.0</td>\n      <td>1.0</td>\n      <td>1.0</td>\n      <td>1.0</td>\n      <td>5</td>\n      <td>25</td>\n      <td>30.0</td>\n      <td>0.000000</td>\n      <td>0.000000</td>\n      <td>1.0</td>\n      <td>15.0</td>\n      <td>29.0</td>\n      <td>60.0</td>\n      <td>29.0</td>\n      <td>60.0</td>\n      <td>1.0</td>\n      <td>0.0</td>\n      <td>24.0</td>\n      <td>54.0</td>\n      <td>144.0</td>\n      <td>19.0</td>\n      <td>0.0</td>\n      <td>99.0</td>\n      <td>10.0</td>\n      <td>10.0</td>\n      <td>10.0</td>\n      <td>10.0</td>\n      <td>9.0</td>\n      <td>9.0</td>\n      <td>0.0</td>\n      <td>2</td>\n      <td>0.0</td>\n      <td>0.0</td>\n      <td>1.0</td>\n      <td>0.0</td>\n      <td>1.0</td>\n      <td>0.0</td>\n      <td>0.17</td>\n      <td>3563</td>\n      <td>3563</td>\n      <td>3563</td>\n    </tr>\n    <tr>\n      <th>7</th>\n      <td>5</td>\n      <td>1.000000</td>\n      <td>0.0</td>\n      <td>13.0</td>\n      <td>13.0</td>\n      <td>8</td>\n      <td>1.0</td>\n      <td>1.0</td>\n      <td>3</td>\n      <td>41.40464</td>\n      <td>2.16954</td>\n      <td>1.0</td>\n      <td>2</td>\n      <td>1</td>\n      <td>6.0</td>\n      <td>1.5</td>\n      <td>2.0</td>\n      <td>3.0</td>\n      <td>5</td>\n      <td>36</td>\n      <td>140.0</td>\n      <td>200.000000</td>\n      <td>75.000000</td>\n      <td>4.0</td>\n      <td>20.0</td>\n      <td>2.0</td>\n      <td>365.0</td>\n      <td>2.0</td>\n      <td>31.0</td>\n      <td>1.0</td>\n      <td>28.0</td>\n      <td>56.0</td>\n      <td>86.0</td>\n      <td>350.0</td>\n      <td>59.0</td>\n      <td>12.0</td>\n      <td>86.0</td>\n      <td>8.0</td>\n      <td>9.0</td>\n      <td>10.0</td>\n      <td>9.0</td>\n      <td>10.0</td>\n      <td>9.0</td>\n      <td>1.0</td>\n      <td>1</td>\n      <td>0.0</td>\n      <td>0.0</td>\n      <td>14.0</td>\n      <td>14.0</td>\n      <td>0.0</td>\n      <td>0.0</td>\n      <td>0.58</td>\n      <td>3572</td>\n      <td>3572</td>\n      <td>3572</td>\n    </tr>\n    <tr>\n      <th>8</th>\n      <td>4</td>\n      <td>1.000000</td>\n      <td>0.0</td>\n      <td>3.0</td>\n      <td>3.0</td>\n      <td>8</td>\n      <td>1.0</td>\n      <td>1.0</td>\n      <td>1</td>\n      <td>41.37916</td>\n      <td>2.17535</td>\n      <td>1.0</td>\n      <td>2</td>\n      <td>3</td>\n      <td>2.0</td>\n      <td>1.0</td>\n      <td>1.0</td>\n      <td>1.0</td>\n      <td>5</td>\n      <td>17</td>\n      <td>100.0</td>\n      <td>150.000000</td>\n      <td>40.000000</td>\n      <td>1.0</td>\n      <td>0.0</td>\n      <td>5.0</td>\n      <td>730.0</td>\n      <td>5.0</td>\n      <td>730.0</td>\n      <td>1.0</td>\n      <td>30.0</td>\n      <td>60.0</td>\n      <td>90.0</td>\n      <td>180.0</td>\n      <td>8.0</td>\n      <td>0.0</td>\n      <td>68.0</td>\n      <td>8.0</td>\n      <td>8.0</td>\n      <td>7.0</td>\n      <td>9.0</td>\n      <td>8.0</td>\n      <td>7.0</td>\n      <td>0.0</td>\n      <td>2</td>\n      <td>0.0</td>\n      <td>0.0</td>\n      <td>2.0</td>\n      <td>1.0</td>\n      <td>1.0</td>\n      <td>0.0</td>\n      <td>0.07</td>\n      <td>3699</td>\n      <td>3699</td>\n      <td>3699</td>\n    </tr>\n    <tr>\n      <th>9</th>\n      <td>4</td>\n      <td>1.000000</td>\n      <td>0.0</td>\n      <td>3.0</td>\n      <td>3.0</td>\n      <td>8</td>\n      <td>1.0</td>\n      <td>1.0</td>\n      <td>1</td>\n      <td>41.37859</td>\n      <td>2.17730</td>\n      <td>1.0</td>\n      <td>2</td>\n      <td>1</td>\n      <td>8.0</td>\n      <td>3.0</td>\n      <td>4.0</td>\n      <td>6.0</td>\n      <td>5</td>\n      <td>38</td>\n      <td>250.0</td>\n      <td>240.000000</td>\n      <td>78.000000</td>\n      <td>6.0</td>\n      <td>50.0</td>\n      <td>4.0</td>\n      <td>365.0</td>\n      <td>3.8</td>\n      <td>365.0</td>\n      <td>1.0</td>\n      <td>15.0</td>\n      <td>45.0</td>\n      <td>75.0</td>\n      <td>165.0</td>\n      <td>142.0</td>\n      <td>16.0</td>\n      <td>90.0</td>\n      <td>10.0</td>\n      <td>9.0</td>\n      <td>10.0</td>\n      <td>10.0</td>\n      <td>10.0</td>\n      <td>9.0</td>\n      <td>1.0</td>\n      <td>3</td>\n      <td>0.0</td>\n      <td>0.0</td>\n      <td>2.0</td>\n      <td>1.0</td>\n      <td>1.0</td>\n      <td>0.0</td>\n      <td>1.28</td>\n      <td>3699</td>\n      <td>3699</td>\n      <td>3699</td>\n    </tr>\n  </tbody>\n</table>\n</div>",
      "text/plain": "   host_response_time  host_response_rate  host_is_superhost  \\\n0                   5            0.990000                0.0   \n1                   5            0.990000                0.0   \n2                   5            1.000000                1.0   \n3                   5            1.000000                1.0   \n4                   5            0.920000                0.0   \n5                   5            0.920000                0.0   \n6                   1            0.941213                0.0   \n7                   5            1.000000                0.0   \n8                   4            1.000000                0.0   \n9                   4            1.000000                0.0   \n\n   host_listings_count  host_total_listings_count  host_verifications  \\\n0                 46.0                       46.0                   5   \n1                 46.0                       46.0                   5   \n2                  5.0                        5.0                   8   \n3                  1.0                        1.0                   8   \n4                 39.0                       39.0                   8   \n5                 39.0                       39.0                   8   \n6                  1.0                        1.0                   4   \n7                 13.0                       13.0                   8   \n8                  3.0                        3.0                   8   \n9                  3.0                        3.0                   8   \n\n   host_has_profile_pic  host_identity_verified  neighbourhood_group_cleansed  \\\n0                   1.0                     1.0                             8   \n1                   1.0                     1.0                             2   \n2                   1.0                     1.0                             8   \n3                   1.0                     1.0                             3   \n4                   1.0                     0.0                             3   \n5                   1.0                     0.0                             3   \n6                   1.0                     0.0                             5   \n7                   1.0                     1.0                             3   \n8                   1.0                     1.0                             1   \n9                   1.0                     1.0                             1   \n\n   latitude  longitude  is_location_exact  property_type  room_type  \\\n0  41.40889    2.18555                1.0              2          1   \n1  41.40420    2.17306                1.0              2          1   \n2  41.41203    2.22114                0.0              2          1   \n3  41.40145    2.15645                1.0              2          3   \n4  41.40950    2.15938                1.0              2          1   \n5  41.40928    2.16112                1.0              2          1   \n6  41.38720    2.14088                1.0              2          3   \n7  41.40464    2.16954                1.0              2          1   \n8  41.37916    2.17535                1.0              2          3   \n9  41.37859    2.17730                1.0              2          1   \n\n   accommodates  bathrooms  bedrooms  beds  bed_type  amenities  price  \\\n0           6.0        1.0       2.0   4.0         5         18  130.0   \n1           8.0        2.0       3.0   6.0         5         22   60.0   \n2           6.0        2.0       3.0   5.0         5         46  210.0   \n3           2.0        1.0       1.0   1.0         5         17   32.0   \n4           4.0        1.0       1.0   1.0         5         10   60.0   \n5           5.0        1.5       3.0   3.0         5         10   70.0   \n6           1.0        1.0       1.0   1.0         5         25   30.0   \n7           6.0        1.5       2.0   3.0         5         36  140.0   \n8           2.0        1.0       1.0   1.0         5         17  100.0   \n9           8.0        3.0       4.0   6.0         5         38  250.0   \n\n   security_deposit  cleaning_fee  guests_included  extra_people  \\\n0        150.000000     42.000000              2.0          25.0   \n1        150.000000     50.000000              2.0          30.0   \n2        300.000000     80.000000              3.0          10.0   \n3        166.427606     43.103105              1.0          25.0   \n4        200.000000     58.000000              4.0           0.0   \n5        200.000000    108.000000              5.0           0.0   \n6          0.000000      0.000000              1.0          15.0   \n7        200.000000     75.000000              4.0          20.0   \n8        150.000000     40.000000              1.0           0.0   \n9        240.000000     78.000000              6.0          50.0   \n\n   minimum_nights  maximum_nights  minimum_nights_avg_ntm  \\\n0             3.0           730.0                     3.0   \n1             1.0          1125.0                     3.9   \n2             3.0            30.0                     3.1   \n3             1.0           730.0                     1.0   \n4             1.0            27.0                     2.1   \n5             1.0            27.0                     2.1   \n6            29.0            60.0                    29.0   \n7             2.0           365.0                     2.0   \n8             5.0           730.0                     5.0   \n9             4.0           365.0                     3.8   \n\n   maximum_nights_avg_ntm  has_availability  availability_30  availability_60  \\\n0                   730.0               1.0              0.0              0.0   \n1                  1125.0               1.0             15.0             24.0   \n2                  1125.0               1.0             29.0             59.0   \n3                   730.0               1.0             13.0             13.0   \n4                    27.0               1.0             16.0             33.0   \n5                    27.0               1.0             12.0             28.0   \n6                    60.0               1.0              0.0             24.0   \n7                    31.0               1.0             28.0             56.0   \n8                   730.0               1.0             30.0             60.0   \n9                   365.0               1.0             15.0             45.0   \n\n   availability_90  availability_365  number_of_reviews  \\\n0             29.0             304.0                1.0   \n1             50.0             312.0               20.0   \n2             89.0             359.0               51.0   \n3             13.0              46.0              268.0   \n4             58.0             324.0              182.0   \n5             58.0             326.0               90.0   \n6             54.0             144.0               19.0   \n7             86.0             350.0               59.0   \n8             90.0             180.0                8.0   \n9             75.0             165.0              142.0   \n\n   number_of_reviews_ltm  review_scores_rating  review_scores_accuracy  \\\n0                    0.0                  80.0                    10.0   \n1                   15.0                  87.0                     9.0   \n2                   17.0                  95.0                    10.0   \n3                   44.0                  95.0                    10.0   \n4                   32.0                  92.0                     9.0   \n5                   23.0                  88.0                     9.0   \n6                    0.0                  99.0                    10.0   \n7                   12.0                  86.0                     8.0   \n8                    0.0                  68.0                     8.0   \n9                   16.0                  90.0                    10.0   \n\n   review_scores_cleanliness  review_scores_checkin  \\\n0                       10.0                    2.0   \n1                        9.0                   10.0   \n2                       10.0                   10.0   \n3                        9.0                   10.0   \n4                        9.0                    8.0   \n5                        9.0                    9.0   \n6                       10.0                   10.0   \n7                        9.0                   10.0   \n8                        8.0                    7.0   \n9                        9.0                   10.0   \n\n   review_scores_communication  review_scores_location  review_scores_value  \\\n0                         10.0                    10.0                  8.0   \n1                         10.0                     9.0                  9.0   \n2                         10.0                     9.0                  9.0   \n3                         10.0                    10.0                 10.0   \n4                          9.0                     9.0                  9.0   \n5                          9.0                     9.0                  9.0   \n6                         10.0                     9.0                  9.0   \n7                          9.0                    10.0                  9.0   \n8                          9.0                     8.0                  7.0   \n9                         10.0                    10.0                  9.0   \n\n   instant_bookable  cancellation_policy  require_guest_profile_picture  \\\n0               0.0                    1                            0.0   \n1               1.0                    3                            0.0   \n2               1.0                    3                            0.0   \n3               1.0                    3                            1.0   \n4               1.0                    3                            0.0   \n5               1.0                    3                            0.0   \n6               0.0                    2                            0.0   \n7               1.0                    1                            0.0   \n8               0.0                    2                            0.0   \n9               1.0                    3                            0.0   \n\n   require_guest_phone_verification  calculated_host_listings_count  \\\n0                               0.0                            30.0   \n1                               0.0                            30.0   \n2                               1.0                             2.0   \n3                               1.0                             1.0   \n4                               0.0                            39.0   \n5                               0.0                            39.0   \n6                               0.0                             1.0   \n7                               0.0                            14.0   \n8                               0.0                             2.0   \n9                               0.0                             2.0   \n\n   calculated_host_listings_count_entire_homes  \\\n0                                         30.0   \n1                                         30.0   \n2                                          2.0   \n3                                          0.0   \n4                                         39.0   \n5                                         39.0   \n6                                          0.0   \n7                                         14.0   \n8                                          1.0   \n9                                          1.0   \n\n   calculated_host_listings_count_private_rooms  \\\n0                                           0.0   \n1                                           0.0   \n2                                           0.0   \n3                                           1.0   \n4                                           0.0   \n5                                           0.0   \n6                                           1.0   \n7                                           0.0   \n8                                           1.0   \n9                                           1.0   \n\n   calculated_host_listings_count_shared_rooms  reviews_per_month  \\\n0                                          0.0               0.02   \n1                                          0.0               0.25   \n2                                          0.0               0.48   \n3                                          0.0               2.38   \n4                                          0.0               1.71   \n5                                          0.0               0.84   \n6                                          0.0               0.17   \n7                                          0.0               0.58   \n8                                          0.0               0.07   \n9                                          0.0               1.28   \n\n   host_since_2020_03_11  first_review_2020_03_11  last_review_2020_03_11  \n0                   3704                     3704                    3704  \n1                   3704                     3704                    3704  \n2                   3655                     3655                    3655  \n3                   3619                     3619                    3619  \n4                   3570                     3570                    3570  \n5                   3570                     3570                    3570  \n6                   3563                     3563                    3563  \n7                   3572                     3572                    3572  \n8                   3699                     3699                    3699  \n9                   3699                     3699                    3699  "
     },
     "execution_count": 8,
     "metadata": {},
     "output_type": "execute_result"
    }
   ],
   "source": [
    "airbnb = airbnb.fillna(airbnb.mean())\n",
    "airbnb.head(10)"
   ]
  },
  {
   "cell_type": "markdown",
   "metadata": {},
   "source": [
    "# Price prediction"
   ]
  },
  {
   "cell_type": "code",
   "execution_count": 9,
   "metadata": {},
   "outputs": [],
   "source": [
    "y = airbnb[\"price\"]\n",
    "X = airbnb.drop(columns=['price'])"
   ]
  },
  {
   "cell_type": "code",
   "execution_count": 14,
   "metadata": {},
   "outputs": [
    {
     "data": {
      "text/plain": "array([[ 0.6673665 ,  0.3464109 , -0.47385002, ...,  2.25404242,\n         2.25404242,  2.25404242],\n       [ 0.6673665 ,  0.3464109 , -0.47385002, ...,  2.25404242,\n         2.25404242,  2.25404242],\n       [ 0.6673665 ,  0.41741589,  2.11037238, ...,  2.20208554,\n         2.20208554,  2.20208554],\n       ...,\n       [-0.04380398, -0.15062408, -0.47385002, ..., -1.38399938,\n        -1.38399938, -1.38399938],\n       [ 0.6673665 ,  0.41741589,  2.11037238, ..., -1.30553389,\n        -1.30553389, -1.30553389],\n       [-0.75497446, -1.49971904, -0.47385002, ..., -1.52184415,\n        -1.52184415, -1.52184415]])"
     },
     "execution_count": 14,
     "metadata": {},
     "output_type": "execute_result"
    }
   ],
   "source": [
    "from sklearn.preprocessing import StandardScaler\n",
    "scaler = StandardScaler()\n",
    "scaler.fit(X)\n",
    "scaler.transform(X)"
   ]
  },
  {
   "cell_type": "code",
   "execution_count": 15,
   "metadata": {},
   "outputs": [],
   "source": [
    "from sklearn.model_selection import train_test_split\n",
    "x_train, x_test, y_train, y_test = train_test_split(X, y, test_size=0.2, random_state=42)"
   ]
  },
  {
   "cell_type": "code",
   "execution_count": 16,
   "metadata": {},
   "outputs": [
    {
     "data": {
      "text/plain": "GridSearchCV(cv=5, error_score=nan,\n             estimator=LinearRegression(copy_X=True, fit_intercept=False,\n                                        n_jobs=None, normalize=False),\n             iid='deprecated', n_jobs=None, param_grid={},\n             pre_dispatch='2*n_jobs', refit=True, return_train_score=False,\n             scoring='r2', verbose=0)"
     },
     "execution_count": 16,
     "metadata": {},
     "output_type": "execute_result"
    }
   ],
   "source": [
    "from sklearn.linear_model import LinearRegression\n",
    "from sklearn.model_selection import GridSearchCV\n",
    "params = {}\n",
    "model = LinearRegression(fit_intercept=False)\n",
    "grid_search = GridSearchCV(model, params, cv=5, scoring=('r2'))\n",
    "grid_search.fit(x_train, y_train)"
   ]
  },
  {
   "cell_type": "code",
   "execution_count": 17,
   "metadata": {},
   "outputs": [],
   "source": [
    "best_model = grid_search.best_estimator_"
   ]
  },
  {
   "cell_type": "code",
   "execution_count": 18,
   "metadata": {},
   "outputs": [
    {
     "data": {
      "text/plain": "0.09379032163946688"
     },
     "execution_count": 18,
     "metadata": {},
     "output_type": "execute_result"
    }
   ],
   "source": [
    "from sklearn.metrics import r2_score\n",
    "y_predict = best_model.predict(x_test)\n",
    "r2_score(y_test, y_predict)"
   ]
  },
  {
   "cell_type": "code",
   "execution_count": 19,
   "metadata": {},
   "outputs": [
    {
     "data": {
      "text/plain": "225972.71853650658"
     },
     "execution_count": 19,
     "metadata": {},
     "output_type": "execute_result"
    }
   ],
   "source": [
    "from sklearn.metrics import mean_squared_error\n",
    "mean_squared_error(y_test, y_predict)"
   ]
  }
 ],
 "metadata": {
  "kernelspec": {
   "display_name": "Python 3",
   "language": "python",
   "name": "python3"
  },
  "language_info": {
   "codemirror_mode": {
    "name": "ipython",
    "version": 3
   },
   "file_extension": ".py",
   "mimetype": "text/x-python",
   "name": "python",
   "nbconvert_exporter": "python",
   "pygments_lexer": "ipython3",
   "version": "3.7.6-final"
  }
 },
 "nbformat": 4,
 "nbformat_minor": 4
}