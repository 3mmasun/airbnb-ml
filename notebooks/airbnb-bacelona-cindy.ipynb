{
 "cells": [
  {
   "cell_type": "code",
   "execution_count": 1,
   "metadata": {},
   "outputs": [],
   "source": [
    "# cd .."
   ]
  },
  {
   "cell_type": "code",
   "execution_count": 2,
   "metadata": {},
   "outputs": [],
   "source": [
    "import s3fs\n",
    "import pyarrow.parquet as pq\n",
    "# import missingno as msno\n",
    "\n",
    "\n",
    "s3 = s3fs.S3FileSystem()\n",
    "\n",
    "df = pq.ParquetDataset('s3://airbnb-barcelona/valid/currentDate=2020-03-11', filesystem=s3).read_pandas().to_pandas()"
   ]
  },
  {
   "cell_type": "code",
   "execution_count": 3,
   "metadata": {},
   "outputs": [],
   "source": [
    "import pandas as pd\n",
    "pd.set_option('display.max_columns', None)\n",
    "pd.set_option('display.max_rows', None)"
   ]
  },
  {
   "cell_type": "code",
   "execution_count": 4,
   "metadata": {},
   "outputs": [],
   "source": [
    "def removeRowsWithValues(df , col, values):\n",
    "    return df[~df[col].isin(values)]"
   ]
  },
  {
   "cell_type": "code",
   "execution_count": 5,
   "metadata": {},
   "outputs": [],
   "source": [
    "# df.head()"
   ]
  },
  {
   "cell_type": "code",
   "execution_count": 6,
   "metadata": {},
   "outputs": [],
   "source": [
    "# has_availability: True, same value\n",
    "# license: TODO\n",
    "# amenities: TODO\n",
    "# property_type: TODO\n",
    "# host_verifications: TODO"
   ]
  },
  {
   "cell_type": "code",
   "execution_count": 7,
   "metadata": {},
   "outputs": [],
   "source": [
    "def only_barcelona_market():\n",
    "    return df.loc[df['market'] == \"Barcelona\"]\n",
    "df = only_barcelona_market()"
   ]
  },
  {
   "cell_type": "code",
   "execution_count": 8,
   "metadata": {},
   "outputs": [],
   "source": [
    "def drop_columns():\n",
    "    dropped_columns = [\"first_review\", \"last_review\", \"has_availability\", \"market\",'rowId','id','host_location','host_neighbourhood','street','neighbourhood','neighbourhood_cleansed','calendar_updated','license', 'amenities','property_type','zipcode','neighbourhood_group_cleansed','host_verifications','host_since','reviews_per_month']\n",
    "    return df.drop(dropped_columns, axis=1)"
   ]
  },
  {
   "cell_type": "code",
   "execution_count": 9,
   "metadata": {},
   "outputs": [
    {
     "data": {
      "text/plain": "(20406, 66)"
     },
     "execution_count": 9,
     "metadata": {},
     "output_type": "execute_result"
    }
   ],
   "source": [
    "df.shape"
   ]
  },
  {
   "cell_type": "code",
   "execution_count": 10,
   "metadata": {},
   "outputs": [
    {
     "data": {
      "text/plain": "(20406, 46)"
     },
     "execution_count": 10,
     "metadata": {},
     "output_type": "execute_result"
    }
   ],
   "source": [
    "dropped_cols_df = drop_columns()\n",
    "dropped_cols_df.shape"
   ]
  },
  {
   "cell_type": "code",
   "execution_count": 11,
   "metadata": {},
   "outputs": [],
   "source": [
    "def drop_rows():\n",
    "    dropped_cols_rows_df = dropped_cols_df.dropna(subset=[\"bedrooms\", \"host_listings_count\",\"host_total_listings_count\"])\n",
    "    \n",
    "    dropped_host_response_time = [\"ES\",\"el Barri Gòtic\"]\n",
    "\n",
    "    dropped_cols_rows_df = removeRowsWithValues(dropped_cols_rows_df, \"host_response_time\", dropped_host_response_time)\n",
    "\n",
    "    # dropped_cols_rows_df = removeRowsWithValues(dropped_cols_rows_df, \"license\", [\"Example\"])\n",
    "    return dropped_cols_rows_df\n",
    "\n",
    "dropped_cols_rows_df = drop_rows()"
   ]
  },
  {
   "cell_type": "code",
   "execution_count": 12,
   "metadata": {},
   "outputs": [
    {
     "data": {
      "text/plain": "(20365, 46)"
     },
     "execution_count": 12,
     "metadata": {},
     "output_type": "execute_result"
    }
   ],
   "source": [
    "dropped_cols_rows_df.shape"
   ]
  },
  {
   "cell_type": "code",
   "execution_count": 13,
   "metadata": {},
   "outputs": [],
   "source": [
    "def fill_missing_data():\n",
    "    values = {'security_deposit': 0, 'cleaning_fee': 0, \"host_response_time\":\"N/A\", \"host_response_rate\": 0, \"host_has_profile_pic\": 0, \"host_identity_verified\": 0, \"host_is_superhost\": 0}\n",
    "    return dropped_cols_rows_df.fillna(value=values)\n",
    "\n",
    "dropped_cols_rows_df = fill_missing_data()"
   ]
  },
  {
   "cell_type": "code",
   "execution_count": 14,
   "metadata": {},
   "outputs": [],
   "source": [
    "# dropped_cols_rows_df[\"host_total_listings_count\"].isna().sum() \n"
   ]
  },
  {
   "cell_type": "code",
   "execution_count": 15,
   "metadata": {},
   "outputs": [],
   "source": [
    "# dropped_cols_rows_df[\"host_total_listings_count\"].value_counts()"
   ]
  },
  {
   "cell_type": "code",
   "execution_count": 16,
   "metadata": {},
   "outputs": [],
   "source": [
    "# df[\"neighbourhood_group_cleansed\"].value_counts()"
   ]
  },
  {
   "cell_type": "code",
   "execution_count": 17,
   "metadata": {},
   "outputs": [],
   "source": [
    "# dropped_cols_rows_df[\"security_deposit\"].value_counts()"
   ]
  },
  {
   "cell_type": "code",
   "execution_count": 18,
   "metadata": {},
   "outputs": [
    {
     "data": {
      "text/plain": "0    13871\n1     6494\nName: host_identity_verified, dtype: int64"
     },
     "execution_count": 18,
     "metadata": {},
     "output_type": "execute_result"
    }
   ],
   "source": [
    "cols = [\"host_has_profile_pic\",\"host_identity_verified\"]\n",
    "for col in cols:\n",
    "    dropped_cols_rows_df[col] = pd.to_numeric(dropped_cols_rows_df[col]).astype('int64')\n",
    "# dropped_cols_rows_df[\"host_has_profile_pic\"] = pd.to_numeric(dropped_cols_rows_df[\"host_has_profile_pic\"])\n",
    "# dropped_cols_rows_df[\"host_has_profile_pic\"].value_counts()\n",
    "\n",
    "dropped_cols_rows_df[\"host_identity_verified\"].value_counts()"
   ]
  },
  {
   "cell_type": "code",
   "execution_count": 19,
   "metadata": {},
   "outputs": [],
   "source": [
    "def convert_boolean_to_float():\n",
    "    cols = [\"host_has_profile_pic\",\"host_identity_verified\", \"host_is_superhost\", \"is_location_exact\", \"instant_bookable\", \"require_guest_profile_picture\", \"require_guest_phone_verification\"]\n",
    "    for col in cols:\n",
    "        dropped_cols_rows_df[col] = pd.to_numeric(dropped_cols_rows_df[col]).astype('int64')\n",
    "\n",
    "convert_boolean_to_float()"
   ]
  },
  {
   "cell_type": "code",
   "execution_count": 20,
   "metadata": {},
   "outputs": [],
   "source": [
    "def convert_col_with_value_to_one(df, col):\n",
    "    df[col]"
   ]
  },
  {
   "cell_type": "code",
   "execution_count": 21,
   "metadata": {},
   "outputs": [
    {
     "data": {
      "text/html": "<div>\n<style scoped>\n    .dataframe tbody tr th:only-of-type {\n        vertical-align: middle;\n    }\n\n    .dataframe tbody tr th {\n        vertical-align: top;\n    }\n\n    .dataframe thead th {\n        text-align: right;\n    }\n</style>\n<table border=\"1\" class=\"dataframe\">\n  <thead>\n    <tr style=\"text-align: right;\">\n      <th></th>\n      <th>host_response_time</th>\n      <th>host_response_rate</th>\n      <th>host_is_superhost</th>\n      <th>host_listings_count</th>\n      <th>host_total_listings_count</th>\n      <th>host_has_profile_pic</th>\n      <th>host_identity_verified</th>\n      <th>latitude</th>\n      <th>longitude</th>\n      <th>is_location_exact</th>\n      <th>room_type</th>\n      <th>accommodates</th>\n      <th>bathrooms</th>\n      <th>bedrooms</th>\n      <th>beds</th>\n      <th>bed_type</th>\n      <th>price</th>\n      <th>security_deposit</th>\n      <th>cleaning_fee</th>\n      <th>guests_included</th>\n      <th>extra_people</th>\n      <th>minimum_nights</th>\n      <th>maximum_nights</th>\n      <th>minimum_nights_avg_ntm</th>\n      <th>maximum_nights_avg_ntm</th>\n      <th>availability_30</th>\n      <th>availability_60</th>\n      <th>availability_90</th>\n      <th>availability_365</th>\n      <th>number_of_reviews</th>\n      <th>number_of_reviews_ltm</th>\n      <th>review_scores_rating</th>\n      <th>review_scores_accuracy</th>\n      <th>review_scores_cleanliness</th>\n      <th>review_scores_checkin</th>\n      <th>review_scores_communication</th>\n      <th>review_scores_location</th>\n      <th>review_scores_value</th>\n      <th>instant_bookable</th>\n      <th>cancellation_policy</th>\n      <th>require_guest_profile_picture</th>\n      <th>require_guest_phone_verification</th>\n      <th>calculated_host_listings_count</th>\n      <th>calculated_host_listings_count_entire_homes</th>\n      <th>calculated_host_listings_count_private_rooms</th>\n      <th>calculated_host_listings_count_shared_rooms</th>\n    </tr>\n  </thead>\n  <tbody>\n    <tr>\n      <th>0</th>\n      <td>within an hour</td>\n      <td>0.99</td>\n      <td>0</td>\n      <td>46.0</td>\n      <td>46.0</td>\n      <td>1</td>\n      <td>1</td>\n      <td>41.40889</td>\n      <td>2.18555</td>\n      <td>1</td>\n      <td>Entire home/apt</td>\n      <td>6.0</td>\n      <td>1.0</td>\n      <td>2.0</td>\n      <td>4.0</td>\n      <td>Real Bed</td>\n      <td>130.0</td>\n      <td>150.0</td>\n      <td>42.0</td>\n      <td>2.0</td>\n      <td>25.0</td>\n      <td>3.0</td>\n      <td>730.0</td>\n      <td>3.0</td>\n      <td>730.0</td>\n      <td>0.0</td>\n      <td>0.0</td>\n      <td>29.0</td>\n      <td>304.0</td>\n      <td>1.0</td>\n      <td>0.0</td>\n      <td>80.0</td>\n      <td>10.0</td>\n      <td>10.0</td>\n      <td>2.0</td>\n      <td>10.0</td>\n      <td>10.0</td>\n      <td>8.0</td>\n      <td>0</td>\n      <td>flexible</td>\n      <td>0</td>\n      <td>0</td>\n      <td>30.0</td>\n      <td>30.0</td>\n      <td>0.0</td>\n      <td>0.0</td>\n    </tr>\n    <tr>\n      <th>1</th>\n      <td>within an hour</td>\n      <td>0.99</td>\n      <td>0</td>\n      <td>46.0</td>\n      <td>46.0</td>\n      <td>1</td>\n      <td>1</td>\n      <td>41.40420</td>\n      <td>2.17306</td>\n      <td>1</td>\n      <td>Entire home/apt</td>\n      <td>8.0</td>\n      <td>2.0</td>\n      <td>3.0</td>\n      <td>6.0</td>\n      <td>Real Bed</td>\n      <td>60.0</td>\n      <td>150.0</td>\n      <td>50.0</td>\n      <td>2.0</td>\n      <td>30.0</td>\n      <td>1.0</td>\n      <td>1125.0</td>\n      <td>3.9</td>\n      <td>1125.0</td>\n      <td>15.0</td>\n      <td>24.0</td>\n      <td>50.0</td>\n      <td>312.0</td>\n      <td>20.0</td>\n      <td>15.0</td>\n      <td>87.0</td>\n      <td>9.0</td>\n      <td>9.0</td>\n      <td>10.0</td>\n      <td>10.0</td>\n      <td>9.0</td>\n      <td>9.0</td>\n      <td>1</td>\n      <td>strict_14_with_grace_period</td>\n      <td>0</td>\n      <td>0</td>\n      <td>30.0</td>\n      <td>30.0</td>\n      <td>0.0</td>\n      <td>0.0</td>\n    </tr>\n    <tr>\n      <th>2</th>\n      <td>within an hour</td>\n      <td>1.00</td>\n      <td>1</td>\n      <td>5.0</td>\n      <td>5.0</td>\n      <td>1</td>\n      <td>1</td>\n      <td>41.41203</td>\n      <td>2.22114</td>\n      <td>0</td>\n      <td>Entire home/apt</td>\n      <td>6.0</td>\n      <td>2.0</td>\n      <td>3.0</td>\n      <td>5.0</td>\n      <td>Real Bed</td>\n      <td>210.0</td>\n      <td>300.0</td>\n      <td>80.0</td>\n      <td>3.0</td>\n      <td>10.0</td>\n      <td>3.0</td>\n      <td>30.0</td>\n      <td>3.1</td>\n      <td>1125.0</td>\n      <td>29.0</td>\n      <td>59.0</td>\n      <td>89.0</td>\n      <td>359.0</td>\n      <td>51.0</td>\n      <td>17.0</td>\n      <td>95.0</td>\n      <td>10.0</td>\n      <td>10.0</td>\n      <td>10.0</td>\n      <td>10.0</td>\n      <td>9.0</td>\n      <td>9.0</td>\n      <td>1</td>\n      <td>strict_14_with_grace_period</td>\n      <td>0</td>\n      <td>1</td>\n      <td>2.0</td>\n      <td>2.0</td>\n      <td>0.0</td>\n      <td>0.0</td>\n    </tr>\n    <tr>\n      <th>3</th>\n      <td>within an hour</td>\n      <td>1.00</td>\n      <td>1</td>\n      <td>1.0</td>\n      <td>1.0</td>\n      <td>1</td>\n      <td>1</td>\n      <td>41.40145</td>\n      <td>2.15645</td>\n      <td>1</td>\n      <td>Private room</td>\n      <td>2.0</td>\n      <td>1.0</td>\n      <td>1.0</td>\n      <td>1.0</td>\n      <td>Real Bed</td>\n      <td>32.0</td>\n      <td>0.0</td>\n      <td>0.0</td>\n      <td>1.0</td>\n      <td>25.0</td>\n      <td>1.0</td>\n      <td>730.0</td>\n      <td>1.0</td>\n      <td>730.0</td>\n      <td>13.0</td>\n      <td>13.0</td>\n      <td>13.0</td>\n      <td>46.0</td>\n      <td>268.0</td>\n      <td>44.0</td>\n      <td>95.0</td>\n      <td>10.0</td>\n      <td>9.0</td>\n      <td>10.0</td>\n      <td>10.0</td>\n      <td>10.0</td>\n      <td>10.0</td>\n      <td>1</td>\n      <td>strict_14_with_grace_period</td>\n      <td>1</td>\n      <td>1</td>\n      <td>1.0</td>\n      <td>0.0</td>\n      <td>1.0</td>\n      <td>0.0</td>\n    </tr>\n    <tr>\n      <th>4</th>\n      <td>within an hour</td>\n      <td>0.92</td>\n      <td>0</td>\n      <td>39.0</td>\n      <td>39.0</td>\n      <td>1</td>\n      <td>0</td>\n      <td>41.40950</td>\n      <td>2.15938</td>\n      <td>1</td>\n      <td>Entire home/apt</td>\n      <td>4.0</td>\n      <td>1.0</td>\n      <td>1.0</td>\n      <td>1.0</td>\n      <td>Real Bed</td>\n      <td>60.0</td>\n      <td>200.0</td>\n      <td>58.0</td>\n      <td>4.0</td>\n      <td>0.0</td>\n      <td>1.0</td>\n      <td>27.0</td>\n      <td>2.1</td>\n      <td>27.0</td>\n      <td>16.0</td>\n      <td>33.0</td>\n      <td>58.0</td>\n      <td>324.0</td>\n      <td>182.0</td>\n      <td>32.0</td>\n      <td>92.0</td>\n      <td>9.0</td>\n      <td>9.0</td>\n      <td>8.0</td>\n      <td>9.0</td>\n      <td>9.0</td>\n      <td>9.0</td>\n      <td>1</td>\n      <td>strict_14_with_grace_period</td>\n      <td>0</td>\n      <td>0</td>\n      <td>39.0</td>\n      <td>39.0</td>\n      <td>0.0</td>\n      <td>0.0</td>\n    </tr>\n  </tbody>\n</table>\n</div>",
      "text/plain": "  host_response_time  host_response_rate  host_is_superhost  \\\n0     within an hour                0.99                  0   \n1     within an hour                0.99                  0   \n2     within an hour                1.00                  1   \n3     within an hour                1.00                  1   \n4     within an hour                0.92                  0   \n\n   host_listings_count  host_total_listings_count  host_has_profile_pic  \\\n0                 46.0                       46.0                     1   \n1                 46.0                       46.0                     1   \n2                  5.0                        5.0                     1   \n3                  1.0                        1.0                     1   \n4                 39.0                       39.0                     1   \n\n   host_identity_verified  latitude  longitude  is_location_exact  \\\n0                       1  41.40889    2.18555                  1   \n1                       1  41.40420    2.17306                  1   \n2                       1  41.41203    2.22114                  0   \n3                       1  41.40145    2.15645                  1   \n4                       0  41.40950    2.15938                  1   \n\n         room_type  accommodates  bathrooms  bedrooms  beds  bed_type  price  \\\n0  Entire home/apt           6.0        1.0       2.0   4.0  Real Bed  130.0   \n1  Entire home/apt           8.0        2.0       3.0   6.0  Real Bed   60.0   \n2  Entire home/apt           6.0        2.0       3.0   5.0  Real Bed  210.0   \n3     Private room           2.0        1.0       1.0   1.0  Real Bed   32.0   \n4  Entire home/apt           4.0        1.0       1.0   1.0  Real Bed   60.0   \n\n   security_deposit  cleaning_fee  guests_included  extra_people  \\\n0             150.0          42.0              2.0          25.0   \n1             150.0          50.0              2.0          30.0   \n2             300.0          80.0              3.0          10.0   \n3               0.0           0.0              1.0          25.0   \n4             200.0          58.0              4.0           0.0   \n\n   minimum_nights  maximum_nights  minimum_nights_avg_ntm  \\\n0             3.0           730.0                     3.0   \n1             1.0          1125.0                     3.9   \n2             3.0            30.0                     3.1   \n3             1.0           730.0                     1.0   \n4             1.0            27.0                     2.1   \n\n   maximum_nights_avg_ntm  availability_30  availability_60  availability_90  \\\n0                   730.0              0.0              0.0             29.0   \n1                  1125.0             15.0             24.0             50.0   \n2                  1125.0             29.0             59.0             89.0   \n3                   730.0             13.0             13.0             13.0   \n4                    27.0             16.0             33.0             58.0   \n\n   availability_365  number_of_reviews  number_of_reviews_ltm  \\\n0             304.0                1.0                    0.0   \n1             312.0               20.0                   15.0   \n2             359.0               51.0                   17.0   \n3              46.0              268.0                   44.0   \n4             324.0              182.0                   32.0   \n\n   review_scores_rating  review_scores_accuracy  review_scores_cleanliness  \\\n0                  80.0                    10.0                       10.0   \n1                  87.0                     9.0                        9.0   \n2                  95.0                    10.0                       10.0   \n3                  95.0                    10.0                        9.0   \n4                  92.0                     9.0                        9.0   \n\n   review_scores_checkin  review_scores_communication  review_scores_location  \\\n0                    2.0                         10.0                    10.0   \n1                   10.0                         10.0                     9.0   \n2                   10.0                         10.0                     9.0   \n3                   10.0                         10.0                    10.0   \n4                    8.0                          9.0                     9.0   \n\n   review_scores_value  instant_bookable          cancellation_policy  \\\n0                  8.0                 0                     flexible   \n1                  9.0                 1  strict_14_with_grace_period   \n2                  9.0                 1  strict_14_with_grace_period   \n3                 10.0                 1  strict_14_with_grace_period   \n4                  9.0                 1  strict_14_with_grace_period   \n\n   require_guest_profile_picture  require_guest_phone_verification  \\\n0                              0                                 0   \n1                              0                                 0   \n2                              0                                 1   \n3                              1                                 1   \n4                              0                                 0   \n\n   calculated_host_listings_count  \\\n0                            30.0   \n1                            30.0   \n2                             2.0   \n3                             1.0   \n4                            39.0   \n\n   calculated_host_listings_count_entire_homes  \\\n0                                         30.0   \n1                                         30.0   \n2                                          2.0   \n3                                          0.0   \n4                                         39.0   \n\n   calculated_host_listings_count_private_rooms  \\\n0                                           0.0   \n1                                           0.0   \n2                                           0.0   \n3                                           1.0   \n4                                           0.0   \n\n   calculated_host_listings_count_shared_rooms  \n0                                          0.0  \n1                                          0.0  \n2                                          0.0  \n3                                          0.0  \n4                                          0.0  "
     },
     "execution_count": 21,
     "metadata": {},
     "output_type": "execute_result"
    }
   ],
   "source": [
    "dropped_cols_rows_df.head()"
   ]
  },
  {
   "cell_type": "code",
   "execution_count": 22,
   "metadata": {},
   "outputs": [
    {
     "data": {
      "text/plain": "0    13871\n1     6494\nName: host_identity_verified, dtype: int64"
     },
     "execution_count": 22,
     "metadata": {},
     "output_type": "execute_result"
    }
   ],
   "source": [
    "dropped_cols_rows_df.host_identity_verified.value_counts()"
   ]
  },
  {
   "cell_type": "code",
   "execution_count": 23,
   "metadata": {},
   "outputs": [],
   "source": [
    "import numpy as np\n",
    "from sklearn.impute import SimpleImputer\n",
    "def fill_missing_data_with_mean():\n",
    "    cols_filled_with_nums = [\"review_scores_rating\",\"review_scores_accuracy\",\"review_scores_cleanliness\",\"review_scores_checkin\",\"review_scores_communication\",\"review_scores_location\",\"review_scores_value\"]\n",
    "    imp = SimpleImputer(missing_values=np.nan, strategy='mean')\n",
    "    dropped_cols_rows_df[cols_filled_with_nums] = imp.fit_transform(dropped_cols_rows_df[cols_filled_with_nums])\n",
    "    return\n",
    "\n",
    "fill_missing_data_with_mean()"
   ]
  },
  {
   "cell_type": "code",
   "execution_count": 24,
   "metadata": {},
   "outputs": [],
   "source": [
    "def one_hot_encoding():\n",
    "    dropped_cols_rows_encoding_df = pd.get_dummies(dropped_cols_rows_df, columns=['host_response_time'], prefix = ['host_response_time'])\n",
    "    dropped_cols_rows_encoding_df = pd.get_dummies(dropped_cols_rows_encoding_df, columns=['bed_type'], prefix = ['bed_type'])\n",
    "    dropped_cols_rows_encoding_df = pd.get_dummies(dropped_cols_rows_encoding_df, columns=['room_type'], prefix = ['room_type'])\n",
    "    dropped_cols_rows_encoding_df = pd.get_dummies(dropped_cols_rows_encoding_df, columns=['cancellation_policy'], prefix = ['cancellation_policy'])\n",
    "    return dropped_cols_rows_encoding_df\n",
    "    "
   ]
  },
  {
   "cell_type": "code",
   "execution_count": 25,
   "metadata": {},
   "outputs": [],
   "source": [
    "dropped_cols_rows_encoding_df = one_hot_encoding()\n"
   ]
  },
  {
   "cell_type": "code",
   "execution_count": 26,
   "metadata": {},
   "outputs": [
    {
     "data": {
      "text/html": "<div>\n<style scoped>\n    .dataframe tbody tr th:only-of-type {\n        vertical-align: middle;\n    }\n\n    .dataframe tbody tr th {\n        vertical-align: top;\n    }\n\n    .dataframe thead th {\n        text-align: right;\n    }\n</style>\n<table border=\"1\" class=\"dataframe\">\n  <thead>\n    <tr style=\"text-align: right;\">\n      <th></th>\n      <th>host_response_rate</th>\n      <th>host_is_superhost</th>\n      <th>host_listings_count</th>\n      <th>host_total_listings_count</th>\n      <th>host_has_profile_pic</th>\n      <th>host_identity_verified</th>\n      <th>latitude</th>\n      <th>longitude</th>\n      <th>is_location_exact</th>\n      <th>accommodates</th>\n      <th>bathrooms</th>\n      <th>bedrooms</th>\n      <th>beds</th>\n      <th>price</th>\n      <th>security_deposit</th>\n      <th>cleaning_fee</th>\n      <th>guests_included</th>\n      <th>extra_people</th>\n      <th>minimum_nights</th>\n      <th>maximum_nights</th>\n      <th>minimum_nights_avg_ntm</th>\n      <th>maximum_nights_avg_ntm</th>\n      <th>availability_30</th>\n      <th>availability_60</th>\n      <th>availability_90</th>\n      <th>availability_365</th>\n      <th>number_of_reviews</th>\n      <th>number_of_reviews_ltm</th>\n      <th>review_scores_rating</th>\n      <th>review_scores_accuracy</th>\n      <th>review_scores_cleanliness</th>\n      <th>review_scores_checkin</th>\n      <th>review_scores_communication</th>\n      <th>review_scores_location</th>\n      <th>review_scores_value</th>\n      <th>instant_bookable</th>\n      <th>require_guest_profile_picture</th>\n      <th>require_guest_phone_verification</th>\n      <th>calculated_host_listings_count</th>\n      <th>calculated_host_listings_count_entire_homes</th>\n      <th>calculated_host_listings_count_private_rooms</th>\n      <th>calculated_host_listings_count_shared_rooms</th>\n      <th>host_response_time_N/A</th>\n      <th>host_response_time_a few days or more</th>\n      <th>host_response_time_within a day</th>\n      <th>host_response_time_within a few hours</th>\n      <th>host_response_time_within an hour</th>\n      <th>bed_type_Airbed</th>\n      <th>bed_type_Couch</th>\n      <th>bed_type_Futon</th>\n      <th>bed_type_Pull-out Sofa</th>\n      <th>bed_type_Real Bed</th>\n      <th>room_type_Entire home/apt</th>\n      <th>room_type_Hotel room</th>\n      <th>room_type_Private room</th>\n      <th>room_type_Shared room</th>\n      <th>cancellation_policy_flexible</th>\n      <th>cancellation_policy_moderate</th>\n      <th>cancellation_policy_strict</th>\n      <th>cancellation_policy_strict_14_with_grace_period</th>\n      <th>cancellation_policy_super_strict_30</th>\n      <th>cancellation_policy_super_strict_60</th>\n    </tr>\n  </thead>\n  <tbody>\n    <tr>\n      <th>0</th>\n      <td>0.99</td>\n      <td>0</td>\n      <td>46.0</td>\n      <td>46.0</td>\n      <td>1</td>\n      <td>1</td>\n      <td>41.40889</td>\n      <td>2.18555</td>\n      <td>1</td>\n      <td>6.0</td>\n      <td>1.0</td>\n      <td>2.0</td>\n      <td>4.0</td>\n      <td>130.0</td>\n      <td>150.0</td>\n      <td>42.0</td>\n      <td>2.0</td>\n      <td>25.0</td>\n      <td>3.0</td>\n      <td>730.0</td>\n      <td>3.0</td>\n      <td>730.0</td>\n      <td>0.0</td>\n      <td>0.0</td>\n      <td>29.0</td>\n      <td>304.0</td>\n      <td>1.0</td>\n      <td>0.0</td>\n      <td>80.0</td>\n      <td>10.0</td>\n      <td>10.0</td>\n      <td>2.0</td>\n      <td>10.0</td>\n      <td>10.0</td>\n      <td>8.0</td>\n      <td>0</td>\n      <td>0</td>\n      <td>0</td>\n      <td>30.0</td>\n      <td>30.0</td>\n      <td>0.0</td>\n      <td>0.0</td>\n      <td>0</td>\n      <td>0</td>\n      <td>0</td>\n      <td>0</td>\n      <td>1</td>\n      <td>0</td>\n      <td>0</td>\n      <td>0</td>\n      <td>0</td>\n      <td>1</td>\n      <td>1</td>\n      <td>0</td>\n      <td>0</td>\n      <td>0</td>\n      <td>1</td>\n      <td>0</td>\n      <td>0</td>\n      <td>0</td>\n      <td>0</td>\n      <td>0</td>\n    </tr>\n    <tr>\n      <th>1</th>\n      <td>0.99</td>\n      <td>0</td>\n      <td>46.0</td>\n      <td>46.0</td>\n      <td>1</td>\n      <td>1</td>\n      <td>41.40420</td>\n      <td>2.17306</td>\n      <td>1</td>\n      <td>8.0</td>\n      <td>2.0</td>\n      <td>3.0</td>\n      <td>6.0</td>\n      <td>60.0</td>\n      <td>150.0</td>\n      <td>50.0</td>\n      <td>2.0</td>\n      <td>30.0</td>\n      <td>1.0</td>\n      <td>1125.0</td>\n      <td>3.9</td>\n      <td>1125.0</td>\n      <td>15.0</td>\n      <td>24.0</td>\n      <td>50.0</td>\n      <td>312.0</td>\n      <td>20.0</td>\n      <td>15.0</td>\n      <td>87.0</td>\n      <td>9.0</td>\n      <td>9.0</td>\n      <td>10.0</td>\n      <td>10.0</td>\n      <td>9.0</td>\n      <td>9.0</td>\n      <td>1</td>\n      <td>0</td>\n      <td>0</td>\n      <td>30.0</td>\n      <td>30.0</td>\n      <td>0.0</td>\n      <td>0.0</td>\n      <td>0</td>\n      <td>0</td>\n      <td>0</td>\n      <td>0</td>\n      <td>1</td>\n      <td>0</td>\n      <td>0</td>\n      <td>0</td>\n      <td>0</td>\n      <td>1</td>\n      <td>1</td>\n      <td>0</td>\n      <td>0</td>\n      <td>0</td>\n      <td>0</td>\n      <td>0</td>\n      <td>0</td>\n      <td>1</td>\n      <td>0</td>\n      <td>0</td>\n    </tr>\n    <tr>\n      <th>2</th>\n      <td>1.00</td>\n      <td>1</td>\n      <td>5.0</td>\n      <td>5.0</td>\n      <td>1</td>\n      <td>1</td>\n      <td>41.41203</td>\n      <td>2.22114</td>\n      <td>0</td>\n      <td>6.0</td>\n      <td>2.0</td>\n      <td>3.0</td>\n      <td>5.0</td>\n      <td>210.0</td>\n      <td>300.0</td>\n      <td>80.0</td>\n      <td>3.0</td>\n      <td>10.0</td>\n      <td>3.0</td>\n      <td>30.0</td>\n      <td>3.1</td>\n      <td>1125.0</td>\n      <td>29.0</td>\n      <td>59.0</td>\n      <td>89.0</td>\n      <td>359.0</td>\n      <td>51.0</td>\n      <td>17.0</td>\n      <td>95.0</td>\n      <td>10.0</td>\n      <td>10.0</td>\n      <td>10.0</td>\n      <td>10.0</td>\n      <td>9.0</td>\n      <td>9.0</td>\n      <td>1</td>\n      <td>0</td>\n      <td>1</td>\n      <td>2.0</td>\n      <td>2.0</td>\n      <td>0.0</td>\n      <td>0.0</td>\n      <td>0</td>\n      <td>0</td>\n      <td>0</td>\n      <td>0</td>\n      <td>1</td>\n      <td>0</td>\n      <td>0</td>\n      <td>0</td>\n      <td>0</td>\n      <td>1</td>\n      <td>1</td>\n      <td>0</td>\n      <td>0</td>\n      <td>0</td>\n      <td>0</td>\n      <td>0</td>\n      <td>0</td>\n      <td>1</td>\n      <td>0</td>\n      <td>0</td>\n    </tr>\n    <tr>\n      <th>3</th>\n      <td>1.00</td>\n      <td>1</td>\n      <td>1.0</td>\n      <td>1.0</td>\n      <td>1</td>\n      <td>1</td>\n      <td>41.40145</td>\n      <td>2.15645</td>\n      <td>1</td>\n      <td>2.0</td>\n      <td>1.0</td>\n      <td>1.0</td>\n      <td>1.0</td>\n      <td>32.0</td>\n      <td>0.0</td>\n      <td>0.0</td>\n      <td>1.0</td>\n      <td>25.0</td>\n      <td>1.0</td>\n      <td>730.0</td>\n      <td>1.0</td>\n      <td>730.0</td>\n      <td>13.0</td>\n      <td>13.0</td>\n      <td>13.0</td>\n      <td>46.0</td>\n      <td>268.0</td>\n      <td>44.0</td>\n      <td>95.0</td>\n      <td>10.0</td>\n      <td>9.0</td>\n      <td>10.0</td>\n      <td>10.0</td>\n      <td>10.0</td>\n      <td>10.0</td>\n      <td>1</td>\n      <td>1</td>\n      <td>1</td>\n      <td>1.0</td>\n      <td>0.0</td>\n      <td>1.0</td>\n      <td>0.0</td>\n      <td>0</td>\n      <td>0</td>\n      <td>0</td>\n      <td>0</td>\n      <td>1</td>\n      <td>0</td>\n      <td>0</td>\n      <td>0</td>\n      <td>0</td>\n      <td>1</td>\n      <td>0</td>\n      <td>0</td>\n      <td>1</td>\n      <td>0</td>\n      <td>0</td>\n      <td>0</td>\n      <td>0</td>\n      <td>1</td>\n      <td>0</td>\n      <td>0</td>\n    </tr>\n    <tr>\n      <th>4</th>\n      <td>0.92</td>\n      <td>0</td>\n      <td>39.0</td>\n      <td>39.0</td>\n      <td>1</td>\n      <td>0</td>\n      <td>41.40950</td>\n      <td>2.15938</td>\n      <td>1</td>\n      <td>4.0</td>\n      <td>1.0</td>\n      <td>1.0</td>\n      <td>1.0</td>\n      <td>60.0</td>\n      <td>200.0</td>\n      <td>58.0</td>\n      <td>4.0</td>\n      <td>0.0</td>\n      <td>1.0</td>\n      <td>27.0</td>\n      <td>2.1</td>\n      <td>27.0</td>\n      <td>16.0</td>\n      <td>33.0</td>\n      <td>58.0</td>\n      <td>324.0</td>\n      <td>182.0</td>\n      <td>32.0</td>\n      <td>92.0</td>\n      <td>9.0</td>\n      <td>9.0</td>\n      <td>8.0</td>\n      <td>9.0</td>\n      <td>9.0</td>\n      <td>9.0</td>\n      <td>1</td>\n      <td>0</td>\n      <td>0</td>\n      <td>39.0</td>\n      <td>39.0</td>\n      <td>0.0</td>\n      <td>0.0</td>\n      <td>0</td>\n      <td>0</td>\n      <td>0</td>\n      <td>0</td>\n      <td>1</td>\n      <td>0</td>\n      <td>0</td>\n      <td>0</td>\n      <td>0</td>\n      <td>1</td>\n      <td>1</td>\n      <td>0</td>\n      <td>0</td>\n      <td>0</td>\n      <td>0</td>\n      <td>0</td>\n      <td>0</td>\n      <td>1</td>\n      <td>0</td>\n      <td>0</td>\n    </tr>\n  </tbody>\n</table>\n</div>",
      "text/plain": "   host_response_rate  host_is_superhost  host_listings_count  \\\n0                0.99                  0                 46.0   \n1                0.99                  0                 46.0   \n2                1.00                  1                  5.0   \n3                1.00                  1                  1.0   \n4                0.92                  0                 39.0   \n\n   host_total_listings_count  host_has_profile_pic  host_identity_verified  \\\n0                       46.0                     1                       1   \n1                       46.0                     1                       1   \n2                        5.0                     1                       1   \n3                        1.0                     1                       1   \n4                       39.0                     1                       0   \n\n   latitude  longitude  is_location_exact  accommodates  bathrooms  bedrooms  \\\n0  41.40889    2.18555                  1           6.0        1.0       2.0   \n1  41.40420    2.17306                  1           8.0        2.0       3.0   \n2  41.41203    2.22114                  0           6.0        2.0       3.0   \n3  41.40145    2.15645                  1           2.0        1.0       1.0   \n4  41.40950    2.15938                  1           4.0        1.0       1.0   \n\n   beds  price  security_deposit  cleaning_fee  guests_included  extra_people  \\\n0   4.0  130.0             150.0          42.0              2.0          25.0   \n1   6.0   60.0             150.0          50.0              2.0          30.0   \n2   5.0  210.0             300.0          80.0              3.0          10.0   \n3   1.0   32.0               0.0           0.0              1.0          25.0   \n4   1.0   60.0             200.0          58.0              4.0           0.0   \n\n   minimum_nights  maximum_nights  minimum_nights_avg_ntm  \\\n0             3.0           730.0                     3.0   \n1             1.0          1125.0                     3.9   \n2             3.0            30.0                     3.1   \n3             1.0           730.0                     1.0   \n4             1.0            27.0                     2.1   \n\n   maximum_nights_avg_ntm  availability_30  availability_60  availability_90  \\\n0                   730.0              0.0              0.0             29.0   \n1                  1125.0             15.0             24.0             50.0   \n2                  1125.0             29.0             59.0             89.0   \n3                   730.0             13.0             13.0             13.0   \n4                    27.0             16.0             33.0             58.0   \n\n   availability_365  number_of_reviews  number_of_reviews_ltm  \\\n0             304.0                1.0                    0.0   \n1             312.0               20.0                   15.0   \n2             359.0               51.0                   17.0   \n3              46.0              268.0                   44.0   \n4             324.0              182.0                   32.0   \n\n   review_scores_rating  review_scores_accuracy  review_scores_cleanliness  \\\n0                  80.0                    10.0                       10.0   \n1                  87.0                     9.0                        9.0   \n2                  95.0                    10.0                       10.0   \n3                  95.0                    10.0                        9.0   \n4                  92.0                     9.0                        9.0   \n\n   review_scores_checkin  review_scores_communication  review_scores_location  \\\n0                    2.0                         10.0                    10.0   \n1                   10.0                         10.0                     9.0   \n2                   10.0                         10.0                     9.0   \n3                   10.0                         10.0                    10.0   \n4                    8.0                          9.0                     9.0   \n\n   review_scores_value  instant_bookable  require_guest_profile_picture  \\\n0                  8.0                 0                              0   \n1                  9.0                 1                              0   \n2                  9.0                 1                              0   \n3                 10.0                 1                              1   \n4                  9.0                 1                              0   \n\n   require_guest_phone_verification  calculated_host_listings_count  \\\n0                                 0                            30.0   \n1                                 0                            30.0   \n2                                 1                             2.0   \n3                                 1                             1.0   \n4                                 0                            39.0   \n\n   calculated_host_listings_count_entire_homes  \\\n0                                         30.0   \n1                                         30.0   \n2                                          2.0   \n3                                          0.0   \n4                                         39.0   \n\n   calculated_host_listings_count_private_rooms  \\\n0                                           0.0   \n1                                           0.0   \n2                                           0.0   \n3                                           1.0   \n4                                           0.0   \n\n   calculated_host_listings_count_shared_rooms  host_response_time_N/A  \\\n0                                          0.0                       0   \n1                                          0.0                       0   \n2                                          0.0                       0   \n3                                          0.0                       0   \n4                                          0.0                       0   \n\n   host_response_time_a few days or more  host_response_time_within a day  \\\n0                                      0                                0   \n1                                      0                                0   \n2                                      0                                0   \n3                                      0                                0   \n4                                      0                                0   \n\n   host_response_time_within a few hours  host_response_time_within an hour  \\\n0                                      0                                  1   \n1                                      0                                  1   \n2                                      0                                  1   \n3                                      0                                  1   \n4                                      0                                  1   \n\n   bed_type_Airbed  bed_type_Couch  bed_type_Futon  bed_type_Pull-out Sofa  \\\n0                0               0               0                       0   \n1                0               0               0                       0   \n2                0               0               0                       0   \n3                0               0               0                       0   \n4                0               0               0                       0   \n\n   bed_type_Real Bed  room_type_Entire home/apt  room_type_Hotel room  \\\n0                  1                          1                     0   \n1                  1                          1                     0   \n2                  1                          1                     0   \n3                  1                          0                     0   \n4                  1                          1                     0   \n\n   room_type_Private room  room_type_Shared room  \\\n0                       0                      0   \n1                       0                      0   \n2                       0                      0   \n3                       1                      0   \n4                       0                      0   \n\n   cancellation_policy_flexible  cancellation_policy_moderate  \\\n0                             1                             0   \n1                             0                             0   \n2                             0                             0   \n3                             0                             0   \n4                             0                             0   \n\n   cancellation_policy_strict  \\\n0                           0   \n1                           0   \n2                           0   \n3                           0   \n4                           0   \n\n   cancellation_policy_strict_14_with_grace_period  \\\n0                                                0   \n1                                                1   \n2                                                1   \n3                                                1   \n4                                                1   \n\n   cancellation_policy_super_strict_30  cancellation_policy_super_strict_60  \n0                                    0                                    0  \n1                                    0                                    0  \n2                                    0                                    0  \n3                                    0                                    0  \n4                                    0                                    0  "
     },
     "execution_count": 26,
     "metadata": {},
     "output_type": "execute_result"
    }
   ],
   "source": [
    "dropped_cols_rows_encoding_df.head()"
   ]
  },
  {
   "cell_type": "code",
   "execution_count": null,
   "metadata": {},
   "outputs": [],
   "source": [
    "import matplotlib.pyplot as plt\n",
    "import seaborn as sns\n"
   ]
  },
  {
   "cell_type": "code",
   "execution_count": null,
   "metadata": {},
   "outputs": [],
   "source": []
  }
 ],
 "metadata": {
  "kernelspec": {
   "display_name": "Python 3",
   "language": "python",
   "name": "python3"
  },
  "language_info": {
   "codemirror_mode": {
    "name": "ipython",
    "version": 3
   },
   "file_extension": ".py",
   "mimetype": "text/x-python",
   "name": "python",
   "nbconvert_exporter": "python",
   "pygments_lexer": "ipython3",
   "version": "3.6.6-final"
  }
 },
 "nbformat": 4,
 "nbformat_minor": 4
}