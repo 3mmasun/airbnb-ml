{
 "cells": [
  {
   "cell_type": "code",
   "execution_count": 100,
   "metadata": {},
   "outputs": [
    {
     "name": "stdout",
     "output_type": "stream",
     "text": "/Users/sgcindy.zhang/Documents\n"
    }
   ],
   "source": [
    "cd .."
   ]
  },
  {
   "cell_type": "code",
   "execution_count": 101,
   "metadata": {},
   "outputs": [],
   "source": [
    "import src.transform as trans"
   ]
  },
  {
   "cell_type": "code",
   "execution_count": 102,
   "metadata": {},
   "outputs": [],
   "source": [
    "import s3fs\n",
    "import pyarrow.parquet as pq\n",
    "# import missingno as msno\n",
    "\n",
    "s3 = s3fs.S3FileSystem()\n",
    "\n",
    "df = pq.ParquetDataset('s3://airbnb-barcelona/valid/currentDate=2020-03-11', filesystem=s3).read_pandas().to_pandas()"
   ]
  },
  {
   "cell_type": "code",
   "execution_count": 103,
   "metadata": {},
   "outputs": [],
   "source": [
    "import pandas as pd\n",
    "pd.set_option('display.max_columns', None)\n",
    "pd.set_option('display.max_rows', None)"
   ]
  },
  {
   "cell_type": "code",
   "execution_count": 104,
   "metadata": {},
   "outputs": [],
   "source": [
    "from sklearn.linear_model import LinearRegression\n",
    "from sklearn.model_selection import GridSearchCV\n",
    "\n",
    "def linear_reg_model_training(X_train, y_train, X_test):\n",
    "    params={}\n",
    "    linear=LinearRegression(fit_intercept=True)\n",
    "    grid_search=GridSearchCV(linear, params, cv=5, scoring=('r2'), n_jobs=-1)\n",
    "    grid_search.fit(X_train, y_train)\n",
    "    best_model =grid_search.best_estimator_\n",
    "    return best_model.predict(X_test)"
   ]
  },
  {
   "cell_type": "code",
   "execution_count": 105,
   "metadata": {},
   "outputs": [],
   "source": [
    "# df.head()"
   ]
  },
  {
   "cell_type": "code",
   "execution_count": 106,
   "metadata": {},
   "outputs": [],
   "source": [
    "# has_availability: True, same value\n",
    "# license: TODO\n",
    "# amenities: TODO\n",
    "# property_type: TODO\n",
    "# host_verifications: TODO"
   ]
  },
  {
   "cell_type": "code",
   "execution_count": 107,
   "metadata": {},
   "outputs": [],
   "source": [
    "df = df.loc[df['market'] == \"Barcelona\"]\n",
    "\n",
    "dropped_cols_df = trans.drop_columns(df)\n",
    "dropped_cols_df.shape\n",
    "\n",
    "dropped_cols_rows_df = trans.drop_rows(dropped_cols_df)\n",
    "dropped_cols_rows_df.shape\n",
    "\n",
    "dropped_cols_rows_df = trans.fill_missing_data(dropped_cols_rows_df)"
   ]
  },
  {
   "cell_type": "code",
   "execution_count": 108,
   "metadata": {},
   "outputs": [],
   "source": [
    "# cols = [\"host_has_profile_pic\",\"host_identity_verified\"]\n",
    "# for col in cols:\n",
    "#     dropped_cols_rows_df[col] = pd.to_numeric(dropped_cols_rows_df[col]).astype('int64')\n",
    "\n",
    "# dropped_cols_rows_df[\"host_identity_verified\"].value_counts()"
   ]
  },
  {
   "cell_type": "code",
   "execution_count": 109,
   "metadata": {},
   "outputs": [
    {
     "data": {
      "text/html": "<div>\n<style scoped>\n    .dataframe tbody tr th:only-of-type {\n        vertical-align: middle;\n    }\n\n    .dataframe tbody tr th {\n        vertical-align: top;\n    }\n\n    .dataframe thead th {\n        text-align: right;\n    }\n</style>\n<table border=\"1\" class=\"dataframe\">\n  <thead>\n    <tr style=\"text-align: right;\">\n      <th></th>\n      <th>host_response_time</th>\n      <th>host_response_rate</th>\n      <th>host_is_superhost</th>\n      <th>host_listings_count</th>\n      <th>host_total_listings_count</th>\n      <th>host_has_profile_pic</th>\n      <th>host_identity_verified</th>\n      <th>latitude</th>\n      <th>longitude</th>\n      <th>is_location_exact</th>\n      <th>room_type</th>\n      <th>accommodates</th>\n      <th>bathrooms</th>\n      <th>bedrooms</th>\n      <th>beds</th>\n      <th>bed_type</th>\n      <th>price</th>\n      <th>security_deposit</th>\n      <th>cleaning_fee</th>\n      <th>guests_included</th>\n      <th>extra_people</th>\n      <th>minimum_nights</th>\n      <th>maximum_nights</th>\n      <th>minimum_nights_avg_ntm</th>\n      <th>maximum_nights_avg_ntm</th>\n      <th>availability_30</th>\n      <th>availability_60</th>\n      <th>availability_90</th>\n      <th>availability_365</th>\n      <th>number_of_reviews</th>\n      <th>number_of_reviews_ltm</th>\n      <th>review_scores_rating</th>\n      <th>review_scores_accuracy</th>\n      <th>review_scores_cleanliness</th>\n      <th>review_scores_checkin</th>\n      <th>review_scores_communication</th>\n      <th>review_scores_location</th>\n      <th>review_scores_value</th>\n      <th>instant_bookable</th>\n      <th>cancellation_policy</th>\n      <th>require_guest_profile_picture</th>\n      <th>require_guest_phone_verification</th>\n      <th>calculated_host_listings_count</th>\n      <th>calculated_host_listings_count_entire_homes</th>\n      <th>calculated_host_listings_count_private_rooms</th>\n      <th>calculated_host_listings_count_shared_rooms</th>\n    </tr>\n  </thead>\n  <tbody>\n    <tr>\n      <th>0</th>\n      <td>within an hour</td>\n      <td>0.99</td>\n      <td>0</td>\n      <td>46.0</td>\n      <td>46.0</td>\n      <td>1</td>\n      <td>1</td>\n      <td>41.40889</td>\n      <td>2.18555</td>\n      <td>1</td>\n      <td>Entire home/apt</td>\n      <td>6.0</td>\n      <td>1.0</td>\n      <td>2.0</td>\n      <td>4.0</td>\n      <td>Real Bed</td>\n      <td>130.0</td>\n      <td>150.0</td>\n      <td>42.0</td>\n      <td>2.0</td>\n      <td>25.0</td>\n      <td>3.0</td>\n      <td>730.0</td>\n      <td>3.0</td>\n      <td>730.0</td>\n      <td>0.0</td>\n      <td>0.0</td>\n      <td>29.0</td>\n      <td>304.0</td>\n      <td>1.0</td>\n      <td>0.0</td>\n      <td>80.0</td>\n      <td>10.0</td>\n      <td>10.0</td>\n      <td>2.0</td>\n      <td>10.0</td>\n      <td>10.0</td>\n      <td>8.0</td>\n      <td>0</td>\n      <td>flexible</td>\n      <td>0</td>\n      <td>0</td>\n      <td>30.0</td>\n      <td>30.0</td>\n      <td>0.0</td>\n      <td>0.0</td>\n    </tr>\n    <tr>\n      <th>1</th>\n      <td>within an hour</td>\n      <td>0.99</td>\n      <td>0</td>\n      <td>46.0</td>\n      <td>46.0</td>\n      <td>1</td>\n      <td>1</td>\n      <td>41.40420</td>\n      <td>2.17306</td>\n      <td>1</td>\n      <td>Entire home/apt</td>\n      <td>8.0</td>\n      <td>2.0</td>\n      <td>3.0</td>\n      <td>6.0</td>\n      <td>Real Bed</td>\n      <td>60.0</td>\n      <td>150.0</td>\n      <td>50.0</td>\n      <td>2.0</td>\n      <td>30.0</td>\n      <td>1.0</td>\n      <td>1125.0</td>\n      <td>3.9</td>\n      <td>1125.0</td>\n      <td>15.0</td>\n      <td>24.0</td>\n      <td>50.0</td>\n      <td>312.0</td>\n      <td>20.0</td>\n      <td>15.0</td>\n      <td>87.0</td>\n      <td>9.0</td>\n      <td>9.0</td>\n      <td>10.0</td>\n      <td>10.0</td>\n      <td>9.0</td>\n      <td>9.0</td>\n      <td>1</td>\n      <td>strict_14_with_grace_period</td>\n      <td>0</td>\n      <td>0</td>\n      <td>30.0</td>\n      <td>30.0</td>\n      <td>0.0</td>\n      <td>0.0</td>\n    </tr>\n    <tr>\n      <th>2</th>\n      <td>within an hour</td>\n      <td>1.00</td>\n      <td>1</td>\n      <td>5.0</td>\n      <td>5.0</td>\n      <td>1</td>\n      <td>1</td>\n      <td>41.41203</td>\n      <td>2.22114</td>\n      <td>0</td>\n      <td>Entire home/apt</td>\n      <td>6.0</td>\n      <td>2.0</td>\n      <td>3.0</td>\n      <td>5.0</td>\n      <td>Real Bed</td>\n      <td>210.0</td>\n      <td>300.0</td>\n      <td>80.0</td>\n      <td>3.0</td>\n      <td>10.0</td>\n      <td>3.0</td>\n      <td>30.0</td>\n      <td>3.1</td>\n      <td>1125.0</td>\n      <td>29.0</td>\n      <td>59.0</td>\n      <td>89.0</td>\n      <td>359.0</td>\n      <td>51.0</td>\n      <td>17.0</td>\n      <td>95.0</td>\n      <td>10.0</td>\n      <td>10.0</td>\n      <td>10.0</td>\n      <td>10.0</td>\n      <td>9.0</td>\n      <td>9.0</td>\n      <td>1</td>\n      <td>strict_14_with_grace_period</td>\n      <td>0</td>\n      <td>1</td>\n      <td>2.0</td>\n      <td>2.0</td>\n      <td>0.0</td>\n      <td>0.0</td>\n    </tr>\n    <tr>\n      <th>3</th>\n      <td>within an hour</td>\n      <td>1.00</td>\n      <td>1</td>\n      <td>1.0</td>\n      <td>1.0</td>\n      <td>1</td>\n      <td>1</td>\n      <td>41.40145</td>\n      <td>2.15645</td>\n      <td>1</td>\n      <td>Private room</td>\n      <td>2.0</td>\n      <td>1.0</td>\n      <td>1.0</td>\n      <td>1.0</td>\n      <td>Real Bed</td>\n      <td>32.0</td>\n      <td>0.0</td>\n      <td>0.0</td>\n      <td>1.0</td>\n      <td>25.0</td>\n      <td>1.0</td>\n      <td>730.0</td>\n      <td>1.0</td>\n      <td>730.0</td>\n      <td>13.0</td>\n      <td>13.0</td>\n      <td>13.0</td>\n      <td>46.0</td>\n      <td>268.0</td>\n      <td>44.0</td>\n      <td>95.0</td>\n      <td>10.0</td>\n      <td>9.0</td>\n      <td>10.0</td>\n      <td>10.0</td>\n      <td>10.0</td>\n      <td>10.0</td>\n      <td>1</td>\n      <td>strict_14_with_grace_period</td>\n      <td>1</td>\n      <td>1</td>\n      <td>1.0</td>\n      <td>0.0</td>\n      <td>1.0</td>\n      <td>0.0</td>\n    </tr>\n    <tr>\n      <th>4</th>\n      <td>within an hour</td>\n      <td>0.92</td>\n      <td>0</td>\n      <td>39.0</td>\n      <td>39.0</td>\n      <td>1</td>\n      <td>0</td>\n      <td>41.40950</td>\n      <td>2.15938</td>\n      <td>1</td>\n      <td>Entire home/apt</td>\n      <td>4.0</td>\n      <td>1.0</td>\n      <td>1.0</td>\n      <td>1.0</td>\n      <td>Real Bed</td>\n      <td>60.0</td>\n      <td>200.0</td>\n      <td>58.0</td>\n      <td>4.0</td>\n      <td>0.0</td>\n      <td>1.0</td>\n      <td>27.0</td>\n      <td>2.1</td>\n      <td>27.0</td>\n      <td>16.0</td>\n      <td>33.0</td>\n      <td>58.0</td>\n      <td>324.0</td>\n      <td>182.0</td>\n      <td>32.0</td>\n      <td>92.0</td>\n      <td>9.0</td>\n      <td>9.0</td>\n      <td>8.0</td>\n      <td>9.0</td>\n      <td>9.0</td>\n      <td>9.0</td>\n      <td>1</td>\n      <td>strict_14_with_grace_period</td>\n      <td>0</td>\n      <td>0</td>\n      <td>39.0</td>\n      <td>39.0</td>\n      <td>0.0</td>\n      <td>0.0</td>\n    </tr>\n  </tbody>\n</table>\n</div>",
      "text/plain": "  host_response_time  host_response_rate  host_is_superhost  \\\n0     within an hour                0.99                  0   \n1     within an hour                0.99                  0   \n2     within an hour                1.00                  1   \n3     within an hour                1.00                  1   \n4     within an hour                0.92                  0   \n\n   host_listings_count  host_total_listings_count  host_has_profile_pic  \\\n0                 46.0                       46.0                     1   \n1                 46.0                       46.0                     1   \n2                  5.0                        5.0                     1   \n3                  1.0                        1.0                     1   \n4                 39.0                       39.0                     1   \n\n   host_identity_verified  latitude  longitude  is_location_exact  \\\n0                       1  41.40889    2.18555                  1   \n1                       1  41.40420    2.17306                  1   \n2                       1  41.41203    2.22114                  0   \n3                       1  41.40145    2.15645                  1   \n4                       0  41.40950    2.15938                  1   \n\n         room_type  accommodates  bathrooms  bedrooms  beds  bed_type  price  \\\n0  Entire home/apt           6.0        1.0       2.0   4.0  Real Bed  130.0   \n1  Entire home/apt           8.0        2.0       3.0   6.0  Real Bed   60.0   \n2  Entire home/apt           6.0        2.0       3.0   5.0  Real Bed  210.0   \n3     Private room           2.0        1.0       1.0   1.0  Real Bed   32.0   \n4  Entire home/apt           4.0        1.0       1.0   1.0  Real Bed   60.0   \n\n   security_deposit  cleaning_fee  guests_included  extra_people  \\\n0             150.0          42.0              2.0          25.0   \n1             150.0          50.0              2.0          30.0   \n2             300.0          80.0              3.0          10.0   \n3               0.0           0.0              1.0          25.0   \n4             200.0          58.0              4.0           0.0   \n\n   minimum_nights  maximum_nights  minimum_nights_avg_ntm  \\\n0             3.0           730.0                     3.0   \n1             1.0          1125.0                     3.9   \n2             3.0            30.0                     3.1   \n3             1.0           730.0                     1.0   \n4             1.0            27.0                     2.1   \n\n   maximum_nights_avg_ntm  availability_30  availability_60  availability_90  \\\n0                   730.0              0.0              0.0             29.0   \n1                  1125.0             15.0             24.0             50.0   \n2                  1125.0             29.0             59.0             89.0   \n3                   730.0             13.0             13.0             13.0   \n4                    27.0             16.0             33.0             58.0   \n\n   availability_365  number_of_reviews  number_of_reviews_ltm  \\\n0             304.0                1.0                    0.0   \n1             312.0               20.0                   15.0   \n2             359.0               51.0                   17.0   \n3              46.0              268.0                   44.0   \n4             324.0              182.0                   32.0   \n\n   review_scores_rating  review_scores_accuracy  review_scores_cleanliness  \\\n0                  80.0                    10.0                       10.0   \n1                  87.0                     9.0                        9.0   \n2                  95.0                    10.0                       10.0   \n3                  95.0                    10.0                        9.0   \n4                  92.0                     9.0                        9.0   \n\n   review_scores_checkin  review_scores_communication  review_scores_location  \\\n0                    2.0                         10.0                    10.0   \n1                   10.0                         10.0                     9.0   \n2                   10.0                         10.0                     9.0   \n3                   10.0                         10.0                    10.0   \n4                    8.0                          9.0                     9.0   \n\n   review_scores_value  instant_bookable          cancellation_policy  \\\n0                  8.0                 0                     flexible   \n1                  9.0                 1  strict_14_with_grace_period   \n2                  9.0                 1  strict_14_with_grace_period   \n3                 10.0                 1  strict_14_with_grace_period   \n4                  9.0                 1  strict_14_with_grace_period   \n\n   require_guest_profile_picture  require_guest_phone_verification  \\\n0                              0                                 0   \n1                              0                                 0   \n2                              0                                 1   \n3                              1                                 1   \n4                              0                                 0   \n\n   calculated_host_listings_count  \\\n0                            30.0   \n1                            30.0   \n2                             2.0   \n3                             1.0   \n4                            39.0   \n\n   calculated_host_listings_count_entire_homes  \\\n0                                         30.0   \n1                                         30.0   \n2                                          2.0   \n3                                          0.0   \n4                                         39.0   \n\n   calculated_host_listings_count_private_rooms  \\\n0                                           0.0   \n1                                           0.0   \n2                                           0.0   \n3                                           1.0   \n4                                           0.0   \n\n   calculated_host_listings_count_shared_rooms  \n0                                          0.0  \n1                                          0.0  \n2                                          0.0  \n3                                          0.0  \n4                                          0.0  "
     },
     "execution_count": 109,
     "metadata": {},
     "output_type": "execute_result"
    }
   ],
   "source": [
    "dropped_cols_rows_df = trans.convert_boolean_to_float(dropped_cols_rows_df)\n",
    "dropped_cols_rows_df.head()"
   ]
  },
  {
   "cell_type": "code",
   "execution_count": 110,
   "metadata": {},
   "outputs": [],
   "source": [
    "# dropped_cols_rows_df.host_identity_verified.value_counts()"
   ]
  },
  {
   "cell_type": "code",
   "execution_count": 111,
   "metadata": {},
   "outputs": [],
   "source": [
    "dropped_cols_rows_df = trans.fill_missing_data_with_mean(dropped_cols_rows_df)"
   ]
  },
  {
   "cell_type": "code",
   "execution_count": 112,
   "metadata": {},
   "outputs": [
    {
     "data": {
      "text/html": "<div>\n<style scoped>\n    .dataframe tbody tr th:only-of-type {\n        vertical-align: middle;\n    }\n\n    .dataframe tbody tr th {\n        vertical-align: top;\n    }\n\n    .dataframe thead th {\n        text-align: right;\n    }\n</style>\n<table border=\"1\" class=\"dataframe\">\n  <thead>\n    <tr style=\"text-align: right;\">\n      <th></th>\n      <th>host_response_rate</th>\n      <th>host_is_superhost</th>\n      <th>host_listings_count</th>\n      <th>host_total_listings_count</th>\n      <th>host_has_profile_pic</th>\n      <th>host_identity_verified</th>\n      <th>latitude</th>\n      <th>longitude</th>\n      <th>is_location_exact</th>\n      <th>accommodates</th>\n      <th>bathrooms</th>\n      <th>bedrooms</th>\n      <th>beds</th>\n      <th>price</th>\n      <th>security_deposit</th>\n      <th>cleaning_fee</th>\n      <th>guests_included</th>\n      <th>extra_people</th>\n      <th>minimum_nights</th>\n      <th>maximum_nights</th>\n      <th>minimum_nights_avg_ntm</th>\n      <th>maximum_nights_avg_ntm</th>\n      <th>availability_30</th>\n      <th>availability_60</th>\n      <th>availability_90</th>\n      <th>availability_365</th>\n      <th>number_of_reviews</th>\n      <th>number_of_reviews_ltm</th>\n      <th>review_scores_rating</th>\n      <th>review_scores_accuracy</th>\n      <th>review_scores_cleanliness</th>\n      <th>review_scores_checkin</th>\n      <th>review_scores_communication</th>\n      <th>review_scores_location</th>\n      <th>review_scores_value</th>\n      <th>instant_bookable</th>\n      <th>require_guest_profile_picture</th>\n      <th>require_guest_phone_verification</th>\n      <th>calculated_host_listings_count</th>\n      <th>calculated_host_listings_count_entire_homes</th>\n      <th>calculated_host_listings_count_private_rooms</th>\n      <th>calculated_host_listings_count_shared_rooms</th>\n      <th>host_response_time_N/A</th>\n      <th>host_response_time_a few days or more</th>\n      <th>host_response_time_within a day</th>\n      <th>host_response_time_within a few hours</th>\n      <th>host_response_time_within an hour</th>\n      <th>bed_type_Airbed</th>\n      <th>bed_type_Couch</th>\n      <th>bed_type_Futon</th>\n      <th>bed_type_Pull-out Sofa</th>\n      <th>bed_type_Real Bed</th>\n      <th>room_type_Entire home/apt</th>\n      <th>room_type_Hotel room</th>\n      <th>room_type_Private room</th>\n      <th>room_type_Shared room</th>\n      <th>cancellation_policy_flexible</th>\n      <th>cancellation_policy_moderate</th>\n      <th>cancellation_policy_strict</th>\n      <th>cancellation_policy_strict_14_with_grace_period</th>\n      <th>cancellation_policy_super_strict_30</th>\n      <th>cancellation_policy_super_strict_60</th>\n    </tr>\n  </thead>\n  <tbody>\n    <tr>\n      <th>0</th>\n      <td>0.99</td>\n      <td>0</td>\n      <td>46.0</td>\n      <td>46.0</td>\n      <td>1</td>\n      <td>1</td>\n      <td>41.40889</td>\n      <td>2.18555</td>\n      <td>1</td>\n      <td>6.0</td>\n      <td>1.0</td>\n      <td>2.0</td>\n      <td>4.0</td>\n      <td>130.0</td>\n      <td>150.0</td>\n      <td>42.0</td>\n      <td>2.0</td>\n      <td>25.0</td>\n      <td>3.0</td>\n      <td>730.0</td>\n      <td>3.0</td>\n      <td>730.0</td>\n      <td>0.0</td>\n      <td>0.0</td>\n      <td>29.0</td>\n      <td>304.0</td>\n      <td>1.0</td>\n      <td>0.0</td>\n      <td>80.0</td>\n      <td>10.0</td>\n      <td>10.0</td>\n      <td>2.0</td>\n      <td>10.0</td>\n      <td>10.0</td>\n      <td>8.0</td>\n      <td>0</td>\n      <td>0</td>\n      <td>0</td>\n      <td>30.0</td>\n      <td>30.0</td>\n      <td>0.0</td>\n      <td>0.0</td>\n      <td>0</td>\n      <td>0</td>\n      <td>0</td>\n      <td>0</td>\n      <td>1</td>\n      <td>0</td>\n      <td>0</td>\n      <td>0</td>\n      <td>0</td>\n      <td>1</td>\n      <td>1</td>\n      <td>0</td>\n      <td>0</td>\n      <td>0</td>\n      <td>1</td>\n      <td>0</td>\n      <td>0</td>\n      <td>0</td>\n      <td>0</td>\n      <td>0</td>\n    </tr>\n    <tr>\n      <th>1</th>\n      <td>0.99</td>\n      <td>0</td>\n      <td>46.0</td>\n      <td>46.0</td>\n      <td>1</td>\n      <td>1</td>\n      <td>41.40420</td>\n      <td>2.17306</td>\n      <td>1</td>\n      <td>8.0</td>\n      <td>2.0</td>\n      <td>3.0</td>\n      <td>6.0</td>\n      <td>60.0</td>\n      <td>150.0</td>\n      <td>50.0</td>\n      <td>2.0</td>\n      <td>30.0</td>\n      <td>1.0</td>\n      <td>1125.0</td>\n      <td>3.9</td>\n      <td>1125.0</td>\n      <td>15.0</td>\n      <td>24.0</td>\n      <td>50.0</td>\n      <td>312.0</td>\n      <td>20.0</td>\n      <td>15.0</td>\n      <td>87.0</td>\n      <td>9.0</td>\n      <td>9.0</td>\n      <td>10.0</td>\n      <td>10.0</td>\n      <td>9.0</td>\n      <td>9.0</td>\n      <td>1</td>\n      <td>0</td>\n      <td>0</td>\n      <td>30.0</td>\n      <td>30.0</td>\n      <td>0.0</td>\n      <td>0.0</td>\n      <td>0</td>\n      <td>0</td>\n      <td>0</td>\n      <td>0</td>\n      <td>1</td>\n      <td>0</td>\n      <td>0</td>\n      <td>0</td>\n      <td>0</td>\n      <td>1</td>\n      <td>1</td>\n      <td>0</td>\n      <td>0</td>\n      <td>0</td>\n      <td>0</td>\n      <td>0</td>\n      <td>0</td>\n      <td>1</td>\n      <td>0</td>\n      <td>0</td>\n    </tr>\n    <tr>\n      <th>2</th>\n      <td>1.00</td>\n      <td>1</td>\n      <td>5.0</td>\n      <td>5.0</td>\n      <td>1</td>\n      <td>1</td>\n      <td>41.41203</td>\n      <td>2.22114</td>\n      <td>0</td>\n      <td>6.0</td>\n      <td>2.0</td>\n      <td>3.0</td>\n      <td>5.0</td>\n      <td>210.0</td>\n      <td>300.0</td>\n      <td>80.0</td>\n      <td>3.0</td>\n      <td>10.0</td>\n      <td>3.0</td>\n      <td>30.0</td>\n      <td>3.1</td>\n      <td>1125.0</td>\n      <td>29.0</td>\n      <td>59.0</td>\n      <td>89.0</td>\n      <td>359.0</td>\n      <td>51.0</td>\n      <td>17.0</td>\n      <td>95.0</td>\n      <td>10.0</td>\n      <td>10.0</td>\n      <td>10.0</td>\n      <td>10.0</td>\n      <td>9.0</td>\n      <td>9.0</td>\n      <td>1</td>\n      <td>0</td>\n      <td>1</td>\n      <td>2.0</td>\n      <td>2.0</td>\n      <td>0.0</td>\n      <td>0.0</td>\n      <td>0</td>\n      <td>0</td>\n      <td>0</td>\n      <td>0</td>\n      <td>1</td>\n      <td>0</td>\n      <td>0</td>\n      <td>0</td>\n      <td>0</td>\n      <td>1</td>\n      <td>1</td>\n      <td>0</td>\n      <td>0</td>\n      <td>0</td>\n      <td>0</td>\n      <td>0</td>\n      <td>0</td>\n      <td>1</td>\n      <td>0</td>\n      <td>0</td>\n    </tr>\n    <tr>\n      <th>3</th>\n      <td>1.00</td>\n      <td>1</td>\n      <td>1.0</td>\n      <td>1.0</td>\n      <td>1</td>\n      <td>1</td>\n      <td>41.40145</td>\n      <td>2.15645</td>\n      <td>1</td>\n      <td>2.0</td>\n      <td>1.0</td>\n      <td>1.0</td>\n      <td>1.0</td>\n      <td>32.0</td>\n      <td>0.0</td>\n      <td>0.0</td>\n      <td>1.0</td>\n      <td>25.0</td>\n      <td>1.0</td>\n      <td>730.0</td>\n      <td>1.0</td>\n      <td>730.0</td>\n      <td>13.0</td>\n      <td>13.0</td>\n      <td>13.0</td>\n      <td>46.0</td>\n      <td>268.0</td>\n      <td>44.0</td>\n      <td>95.0</td>\n      <td>10.0</td>\n      <td>9.0</td>\n      <td>10.0</td>\n      <td>10.0</td>\n      <td>10.0</td>\n      <td>10.0</td>\n      <td>1</td>\n      <td>1</td>\n      <td>1</td>\n      <td>1.0</td>\n      <td>0.0</td>\n      <td>1.0</td>\n      <td>0.0</td>\n      <td>0</td>\n      <td>0</td>\n      <td>0</td>\n      <td>0</td>\n      <td>1</td>\n      <td>0</td>\n      <td>0</td>\n      <td>0</td>\n      <td>0</td>\n      <td>1</td>\n      <td>0</td>\n      <td>0</td>\n      <td>1</td>\n      <td>0</td>\n      <td>0</td>\n      <td>0</td>\n      <td>0</td>\n      <td>1</td>\n      <td>0</td>\n      <td>0</td>\n    </tr>\n    <tr>\n      <th>4</th>\n      <td>0.92</td>\n      <td>0</td>\n      <td>39.0</td>\n      <td>39.0</td>\n      <td>1</td>\n      <td>0</td>\n      <td>41.40950</td>\n      <td>2.15938</td>\n      <td>1</td>\n      <td>4.0</td>\n      <td>1.0</td>\n      <td>1.0</td>\n      <td>1.0</td>\n      <td>60.0</td>\n      <td>200.0</td>\n      <td>58.0</td>\n      <td>4.0</td>\n      <td>0.0</td>\n      <td>1.0</td>\n      <td>27.0</td>\n      <td>2.1</td>\n      <td>27.0</td>\n      <td>16.0</td>\n      <td>33.0</td>\n      <td>58.0</td>\n      <td>324.0</td>\n      <td>182.0</td>\n      <td>32.0</td>\n      <td>92.0</td>\n      <td>9.0</td>\n      <td>9.0</td>\n      <td>8.0</td>\n      <td>9.0</td>\n      <td>9.0</td>\n      <td>9.0</td>\n      <td>1</td>\n      <td>0</td>\n      <td>0</td>\n      <td>39.0</td>\n      <td>39.0</td>\n      <td>0.0</td>\n      <td>0.0</td>\n      <td>0</td>\n      <td>0</td>\n      <td>0</td>\n      <td>0</td>\n      <td>1</td>\n      <td>0</td>\n      <td>0</td>\n      <td>0</td>\n      <td>0</td>\n      <td>1</td>\n      <td>1</td>\n      <td>0</td>\n      <td>0</td>\n      <td>0</td>\n      <td>0</td>\n      <td>0</td>\n      <td>0</td>\n      <td>1</td>\n      <td>0</td>\n      <td>0</td>\n    </tr>\n  </tbody>\n</table>\n</div>",
      "text/plain": "   host_response_rate  host_is_superhost  host_listings_count  \\\n0                0.99                  0                 46.0   \n1                0.99                  0                 46.0   \n2                1.00                  1                  5.0   \n3                1.00                  1                  1.0   \n4                0.92                  0                 39.0   \n\n   host_total_listings_count  host_has_profile_pic  host_identity_verified  \\\n0                       46.0                     1                       1   \n1                       46.0                     1                       1   \n2                        5.0                     1                       1   \n3                        1.0                     1                       1   \n4                       39.0                     1                       0   \n\n   latitude  longitude  is_location_exact  accommodates  bathrooms  bedrooms  \\\n0  41.40889    2.18555                  1           6.0        1.0       2.0   \n1  41.40420    2.17306                  1           8.0        2.0       3.0   \n2  41.41203    2.22114                  0           6.0        2.0       3.0   \n3  41.40145    2.15645                  1           2.0        1.0       1.0   \n4  41.40950    2.15938                  1           4.0        1.0       1.0   \n\n   beds  price  security_deposit  cleaning_fee  guests_included  extra_people  \\\n0   4.0  130.0             150.0          42.0              2.0          25.0   \n1   6.0   60.0             150.0          50.0              2.0          30.0   \n2   5.0  210.0             300.0          80.0              3.0          10.0   \n3   1.0   32.0               0.0           0.0              1.0          25.0   \n4   1.0   60.0             200.0          58.0              4.0           0.0   \n\n   minimum_nights  maximum_nights  minimum_nights_avg_ntm  \\\n0             3.0           730.0                     3.0   \n1             1.0          1125.0                     3.9   \n2             3.0            30.0                     3.1   \n3             1.0           730.0                     1.0   \n4             1.0            27.0                     2.1   \n\n   maximum_nights_avg_ntm  availability_30  availability_60  availability_90  \\\n0                   730.0              0.0              0.0             29.0   \n1                  1125.0             15.0             24.0             50.0   \n2                  1125.0             29.0             59.0             89.0   \n3                   730.0             13.0             13.0             13.0   \n4                    27.0             16.0             33.0             58.0   \n\n   availability_365  number_of_reviews  number_of_reviews_ltm  \\\n0             304.0                1.0                    0.0   \n1             312.0               20.0                   15.0   \n2             359.0               51.0                   17.0   \n3              46.0              268.0                   44.0   \n4             324.0              182.0                   32.0   \n\n   review_scores_rating  review_scores_accuracy  review_scores_cleanliness  \\\n0                  80.0                    10.0                       10.0   \n1                  87.0                     9.0                        9.0   \n2                  95.0                    10.0                       10.0   \n3                  95.0                    10.0                        9.0   \n4                  92.0                     9.0                        9.0   \n\n   review_scores_checkin  review_scores_communication  review_scores_location  \\\n0                    2.0                         10.0                    10.0   \n1                   10.0                         10.0                     9.0   \n2                   10.0                         10.0                     9.0   \n3                   10.0                         10.0                    10.0   \n4                    8.0                          9.0                     9.0   \n\n   review_scores_value  instant_bookable  require_guest_profile_picture  \\\n0                  8.0                 0                              0   \n1                  9.0                 1                              0   \n2                  9.0                 1                              0   \n3                 10.0                 1                              1   \n4                  9.0                 1                              0   \n\n   require_guest_phone_verification  calculated_host_listings_count  \\\n0                                 0                            30.0   \n1                                 0                            30.0   \n2                                 1                             2.0   \n3                                 1                             1.0   \n4                                 0                            39.0   \n\n   calculated_host_listings_count_entire_homes  \\\n0                                         30.0   \n1                                         30.0   \n2                                          2.0   \n3                                          0.0   \n4                                         39.0   \n\n   calculated_host_listings_count_private_rooms  \\\n0                                           0.0   \n1                                           0.0   \n2                                           0.0   \n3                                           1.0   \n4                                           0.0   \n\n   calculated_host_listings_count_shared_rooms  host_response_time_N/A  \\\n0                                          0.0                       0   \n1                                          0.0                       0   \n2                                          0.0                       0   \n3                                          0.0                       0   \n4                                          0.0                       0   \n\n   host_response_time_a few days or more  host_response_time_within a day  \\\n0                                      0                                0   \n1                                      0                                0   \n2                                      0                                0   \n3                                      0                                0   \n4                                      0                                0   \n\n   host_response_time_within a few hours  host_response_time_within an hour  \\\n0                                      0                                  1   \n1                                      0                                  1   \n2                                      0                                  1   \n3                                      0                                  1   \n4                                      0                                  1   \n\n   bed_type_Airbed  bed_type_Couch  bed_type_Futon  bed_type_Pull-out Sofa  \\\n0                0               0               0                       0   \n1                0               0               0                       0   \n2                0               0               0                       0   \n3                0               0               0                       0   \n4                0               0               0                       0   \n\n   bed_type_Real Bed  room_type_Entire home/apt  room_type_Hotel room  \\\n0                  1                          1                     0   \n1                  1                          1                     0   \n2                  1                          1                     0   \n3                  1                          0                     0   \n4                  1                          1                     0   \n\n   room_type_Private room  room_type_Shared room  \\\n0                       0                      0   \n1                       0                      0   \n2                       0                      0   \n3                       1                      0   \n4                       0                      0   \n\n   cancellation_policy_flexible  cancellation_policy_moderate  \\\n0                             1                             0   \n1                             0                             0   \n2                             0                             0   \n3                             0                             0   \n4                             0                             0   \n\n   cancellation_policy_strict  \\\n0                           0   \n1                           0   \n2                           0   \n3                           0   \n4                           0   \n\n   cancellation_policy_strict_14_with_grace_period  \\\n0                                                0   \n1                                                1   \n2                                                1   \n3                                                1   \n4                                                1   \n\n   cancellation_policy_super_strict_30  cancellation_policy_super_strict_60  \n0                                    0                                    0  \n1                                    0                                    0  \n2                                    0                                    0  \n3                                    0                                    0  \n4                                    0                                    0  "
     },
     "execution_count": 112,
     "metadata": {},
     "output_type": "execute_result"
    }
   ],
   "source": [
    "dropped_cols_rows_encoding_df = trans.one_hot_encoding(dropped_cols_rows_df)\n",
    "dropped_cols_rows_encoding_df.head()"
   ]
  },
  {
   "cell_type": "code",
   "execution_count": 113,
   "metadata": {},
   "outputs": [],
   "source": [
    "import matplotlib.pyplot as plt\n",
    "import seaborn as sns\n"
   ]
  },
  {
   "cell_type": "code",
   "execution_count": 114,
   "metadata": {},
   "outputs": [],
   "source": [
    "# show_df = dropped_cols_rows_encoding_df.iloc[:,60:70]\n",
    "# show_df.head()"
   ]
  },
  {
   "cell_type": "code",
   "execution_count": 115,
   "metadata": {},
   "outputs": [],
   "source": [
    "# sns.pairplot(show_df)\n",
    "# plt.show()"
   ]
  },
  {
   "cell_type": "code",
   "execution_count": 116,
   "metadata": {},
   "outputs": [],
   "source": [
    "# cmap=sns.diverging_palette(220, 10, sep=80, n=7)\n",
    "# fig, axes = plt.subplots(figsize=(15,10))\n",
    "# ax=sns.heatmap(show_df.corr(),annot=True, square=True, ax=axes, cmap=cmap)\n",
    "# bottom, top=ax.get_ylim()\n",
    "# ax.set_ylim(bottom+0.5, top-0.5)\n",
    "# plt.show()\n"
   ]
  },
  {
   "cell_type": "code",
   "execution_count": 117,
   "metadata": {},
   "outputs": [],
   "source": [
    "def drop_corr_cols():\n",
    "    dropped_columns = [\"bed_type_Pull-out Sofa\", \"room_type_Private room\", \"review_scores_communication\", \"review_scores_value\",'calculated_host_listings_count_entire_homes','availability_60','availability_90','number_of_reviews_ltm','review_scores_accuracy','host_total_listings_count']\n",
    "    return dropped_cols_rows_encoding_df.drop(dropped_columns, axis=1)"
   ]
  },
  {
   "cell_type": "code",
   "execution_count": 118,
   "metadata": {},
   "outputs": [
    {
     "data": {
      "text/html": "<div>\n<style scoped>\n    .dataframe tbody tr th:only-of-type {\n        vertical-align: middle;\n    }\n\n    .dataframe tbody tr th {\n        vertical-align: top;\n    }\n\n    .dataframe thead th {\n        text-align: right;\n    }\n</style>\n<table border=\"1\" class=\"dataframe\">\n  <thead>\n    <tr style=\"text-align: right;\">\n      <th></th>\n      <th>host_response_rate</th>\n      <th>host_is_superhost</th>\n      <th>host_listings_count</th>\n      <th>host_has_profile_pic</th>\n      <th>host_identity_verified</th>\n      <th>latitude</th>\n      <th>longitude</th>\n      <th>is_location_exact</th>\n      <th>accommodates</th>\n      <th>bathrooms</th>\n      <th>bedrooms</th>\n      <th>beds</th>\n      <th>price</th>\n      <th>security_deposit</th>\n      <th>cleaning_fee</th>\n      <th>guests_included</th>\n      <th>extra_people</th>\n      <th>minimum_nights</th>\n      <th>maximum_nights</th>\n      <th>minimum_nights_avg_ntm</th>\n      <th>maximum_nights_avg_ntm</th>\n      <th>availability_30</th>\n      <th>availability_365</th>\n      <th>number_of_reviews</th>\n      <th>review_scores_rating</th>\n      <th>review_scores_cleanliness</th>\n      <th>review_scores_checkin</th>\n      <th>review_scores_location</th>\n      <th>instant_bookable</th>\n      <th>require_guest_profile_picture</th>\n      <th>require_guest_phone_verification</th>\n      <th>calculated_host_listings_count</th>\n      <th>calculated_host_listings_count_private_rooms</th>\n      <th>calculated_host_listings_count_shared_rooms</th>\n      <th>host_response_time_N/A</th>\n      <th>host_response_time_a few days or more</th>\n      <th>host_response_time_within a day</th>\n      <th>host_response_time_within a few hours</th>\n      <th>host_response_time_within an hour</th>\n      <th>bed_type_Airbed</th>\n      <th>bed_type_Couch</th>\n      <th>bed_type_Futon</th>\n      <th>bed_type_Real Bed</th>\n      <th>room_type_Entire home/apt</th>\n      <th>room_type_Hotel room</th>\n      <th>room_type_Shared room</th>\n      <th>cancellation_policy_flexible</th>\n      <th>cancellation_policy_moderate</th>\n      <th>cancellation_policy_strict</th>\n      <th>cancellation_policy_strict_14_with_grace_period</th>\n      <th>cancellation_policy_super_strict_30</th>\n      <th>cancellation_policy_super_strict_60</th>\n    </tr>\n  </thead>\n  <tbody>\n    <tr>\n      <th>0</th>\n      <td>0.99</td>\n      <td>0</td>\n      <td>46.0</td>\n      <td>1</td>\n      <td>1</td>\n      <td>41.40889</td>\n      <td>2.18555</td>\n      <td>1</td>\n      <td>6.0</td>\n      <td>1.0</td>\n      <td>2.0</td>\n      <td>4.0</td>\n      <td>130.0</td>\n      <td>150.0</td>\n      <td>42.0</td>\n      <td>2.0</td>\n      <td>25.0</td>\n      <td>3.0</td>\n      <td>730.0</td>\n      <td>3.0</td>\n      <td>730.0</td>\n      <td>0.0</td>\n      <td>304.0</td>\n      <td>1.0</td>\n      <td>80.0</td>\n      <td>10.0</td>\n      <td>2.0</td>\n      <td>10.0</td>\n      <td>0</td>\n      <td>0</td>\n      <td>0</td>\n      <td>30.0</td>\n      <td>0.0</td>\n      <td>0.0</td>\n      <td>0</td>\n      <td>0</td>\n      <td>0</td>\n      <td>0</td>\n      <td>1</td>\n      <td>0</td>\n      <td>0</td>\n      <td>0</td>\n      <td>1</td>\n      <td>1</td>\n      <td>0</td>\n      <td>0</td>\n      <td>1</td>\n      <td>0</td>\n      <td>0</td>\n      <td>0</td>\n      <td>0</td>\n      <td>0</td>\n    </tr>\n    <tr>\n      <th>1</th>\n      <td>0.99</td>\n      <td>0</td>\n      <td>46.0</td>\n      <td>1</td>\n      <td>1</td>\n      <td>41.40420</td>\n      <td>2.17306</td>\n      <td>1</td>\n      <td>8.0</td>\n      <td>2.0</td>\n      <td>3.0</td>\n      <td>6.0</td>\n      <td>60.0</td>\n      <td>150.0</td>\n      <td>50.0</td>\n      <td>2.0</td>\n      <td>30.0</td>\n      <td>1.0</td>\n      <td>1125.0</td>\n      <td>3.9</td>\n      <td>1125.0</td>\n      <td>15.0</td>\n      <td>312.0</td>\n      <td>20.0</td>\n      <td>87.0</td>\n      <td>9.0</td>\n      <td>10.0</td>\n      <td>9.0</td>\n      <td>1</td>\n      <td>0</td>\n      <td>0</td>\n      <td>30.0</td>\n      <td>0.0</td>\n      <td>0.0</td>\n      <td>0</td>\n      <td>0</td>\n      <td>0</td>\n      <td>0</td>\n      <td>1</td>\n      <td>0</td>\n      <td>0</td>\n      <td>0</td>\n      <td>1</td>\n      <td>1</td>\n      <td>0</td>\n      <td>0</td>\n      <td>0</td>\n      <td>0</td>\n      <td>0</td>\n      <td>1</td>\n      <td>0</td>\n      <td>0</td>\n    </tr>\n    <tr>\n      <th>2</th>\n      <td>1.00</td>\n      <td>1</td>\n      <td>5.0</td>\n      <td>1</td>\n      <td>1</td>\n      <td>41.41203</td>\n      <td>2.22114</td>\n      <td>0</td>\n      <td>6.0</td>\n      <td>2.0</td>\n      <td>3.0</td>\n      <td>5.0</td>\n      <td>210.0</td>\n      <td>300.0</td>\n      <td>80.0</td>\n      <td>3.0</td>\n      <td>10.0</td>\n      <td>3.0</td>\n      <td>30.0</td>\n      <td>3.1</td>\n      <td>1125.0</td>\n      <td>29.0</td>\n      <td>359.0</td>\n      <td>51.0</td>\n      <td>95.0</td>\n      <td>10.0</td>\n      <td>10.0</td>\n      <td>9.0</td>\n      <td>1</td>\n      <td>0</td>\n      <td>1</td>\n      <td>2.0</td>\n      <td>0.0</td>\n      <td>0.0</td>\n      <td>0</td>\n      <td>0</td>\n      <td>0</td>\n      <td>0</td>\n      <td>1</td>\n      <td>0</td>\n      <td>0</td>\n      <td>0</td>\n      <td>1</td>\n      <td>1</td>\n      <td>0</td>\n      <td>0</td>\n      <td>0</td>\n      <td>0</td>\n      <td>0</td>\n      <td>1</td>\n      <td>0</td>\n      <td>0</td>\n    </tr>\n    <tr>\n      <th>3</th>\n      <td>1.00</td>\n      <td>1</td>\n      <td>1.0</td>\n      <td>1</td>\n      <td>1</td>\n      <td>41.40145</td>\n      <td>2.15645</td>\n      <td>1</td>\n      <td>2.0</td>\n      <td>1.0</td>\n      <td>1.0</td>\n      <td>1.0</td>\n      <td>32.0</td>\n      <td>0.0</td>\n      <td>0.0</td>\n      <td>1.0</td>\n      <td>25.0</td>\n      <td>1.0</td>\n      <td>730.0</td>\n      <td>1.0</td>\n      <td>730.0</td>\n      <td>13.0</td>\n      <td>46.0</td>\n      <td>268.0</td>\n      <td>95.0</td>\n      <td>9.0</td>\n      <td>10.0</td>\n      <td>10.0</td>\n      <td>1</td>\n      <td>1</td>\n      <td>1</td>\n      <td>1.0</td>\n      <td>1.0</td>\n      <td>0.0</td>\n      <td>0</td>\n      <td>0</td>\n      <td>0</td>\n      <td>0</td>\n      <td>1</td>\n      <td>0</td>\n      <td>0</td>\n      <td>0</td>\n      <td>1</td>\n      <td>0</td>\n      <td>0</td>\n      <td>0</td>\n      <td>0</td>\n      <td>0</td>\n      <td>0</td>\n      <td>1</td>\n      <td>0</td>\n      <td>0</td>\n    </tr>\n    <tr>\n      <th>4</th>\n      <td>0.92</td>\n      <td>0</td>\n      <td>39.0</td>\n      <td>1</td>\n      <td>0</td>\n      <td>41.40950</td>\n      <td>2.15938</td>\n      <td>1</td>\n      <td>4.0</td>\n      <td>1.0</td>\n      <td>1.0</td>\n      <td>1.0</td>\n      <td>60.0</td>\n      <td>200.0</td>\n      <td>58.0</td>\n      <td>4.0</td>\n      <td>0.0</td>\n      <td>1.0</td>\n      <td>27.0</td>\n      <td>2.1</td>\n      <td>27.0</td>\n      <td>16.0</td>\n      <td>324.0</td>\n      <td>182.0</td>\n      <td>92.0</td>\n      <td>9.0</td>\n      <td>8.0</td>\n      <td>9.0</td>\n      <td>1</td>\n      <td>0</td>\n      <td>0</td>\n      <td>39.0</td>\n      <td>0.0</td>\n      <td>0.0</td>\n      <td>0</td>\n      <td>0</td>\n      <td>0</td>\n      <td>0</td>\n      <td>1</td>\n      <td>0</td>\n      <td>0</td>\n      <td>0</td>\n      <td>1</td>\n      <td>1</td>\n      <td>0</td>\n      <td>0</td>\n      <td>0</td>\n      <td>0</td>\n      <td>0</td>\n      <td>1</td>\n      <td>0</td>\n      <td>0</td>\n    </tr>\n  </tbody>\n</table>\n</div>",
      "text/plain": "   host_response_rate  host_is_superhost  host_listings_count  \\\n0                0.99                  0                 46.0   \n1                0.99                  0                 46.0   \n2                1.00                  1                  5.0   \n3                1.00                  1                  1.0   \n4                0.92                  0                 39.0   \n\n   host_has_profile_pic  host_identity_verified  latitude  longitude  \\\n0                     1                       1  41.40889    2.18555   \n1                     1                       1  41.40420    2.17306   \n2                     1                       1  41.41203    2.22114   \n3                     1                       1  41.40145    2.15645   \n4                     1                       0  41.40950    2.15938   \n\n   is_location_exact  accommodates  bathrooms  bedrooms  beds  price  \\\n0                  1           6.0        1.0       2.0   4.0  130.0   \n1                  1           8.0        2.0       3.0   6.0   60.0   \n2                  0           6.0        2.0       3.0   5.0  210.0   \n3                  1           2.0        1.0       1.0   1.0   32.0   \n4                  1           4.0        1.0       1.0   1.0   60.0   \n\n   security_deposit  cleaning_fee  guests_included  extra_people  \\\n0             150.0          42.0              2.0          25.0   \n1             150.0          50.0              2.0          30.0   \n2             300.0          80.0              3.0          10.0   \n3               0.0           0.0              1.0          25.0   \n4             200.0          58.0              4.0           0.0   \n\n   minimum_nights  maximum_nights  minimum_nights_avg_ntm  \\\n0             3.0           730.0                     3.0   \n1             1.0          1125.0                     3.9   \n2             3.0            30.0                     3.1   \n3             1.0           730.0                     1.0   \n4             1.0            27.0                     2.1   \n\n   maximum_nights_avg_ntm  availability_30  availability_365  \\\n0                   730.0              0.0             304.0   \n1                  1125.0             15.0             312.0   \n2                  1125.0             29.0             359.0   \n3                   730.0             13.0              46.0   \n4                    27.0             16.0             324.0   \n\n   number_of_reviews  review_scores_rating  review_scores_cleanliness  \\\n0                1.0                  80.0                       10.0   \n1               20.0                  87.0                        9.0   \n2               51.0                  95.0                       10.0   \n3              268.0                  95.0                        9.0   \n4              182.0                  92.0                        9.0   \n\n   review_scores_checkin  review_scores_location  instant_bookable  \\\n0                    2.0                    10.0                 0   \n1                   10.0                     9.0                 1   \n2                   10.0                     9.0                 1   \n3                   10.0                    10.0                 1   \n4                    8.0                     9.0                 1   \n\n   require_guest_profile_picture  require_guest_phone_verification  \\\n0                              0                                 0   \n1                              0                                 0   \n2                              0                                 1   \n3                              1                                 1   \n4                              0                                 0   \n\n   calculated_host_listings_count  \\\n0                            30.0   \n1                            30.0   \n2                             2.0   \n3                             1.0   \n4                            39.0   \n\n   calculated_host_listings_count_private_rooms  \\\n0                                           0.0   \n1                                           0.0   \n2                                           0.0   \n3                                           1.0   \n4                                           0.0   \n\n   calculated_host_listings_count_shared_rooms  host_response_time_N/A  \\\n0                                          0.0                       0   \n1                                          0.0                       0   \n2                                          0.0                       0   \n3                                          0.0                       0   \n4                                          0.0                       0   \n\n   host_response_time_a few days or more  host_response_time_within a day  \\\n0                                      0                                0   \n1                                      0                                0   \n2                                      0                                0   \n3                                      0                                0   \n4                                      0                                0   \n\n   host_response_time_within a few hours  host_response_time_within an hour  \\\n0                                      0                                  1   \n1                                      0                                  1   \n2                                      0                                  1   \n3                                      0                                  1   \n4                                      0                                  1   \n\n   bed_type_Airbed  bed_type_Couch  bed_type_Futon  bed_type_Real Bed  \\\n0                0               0               0                  1   \n1                0               0               0                  1   \n2                0               0               0                  1   \n3                0               0               0                  1   \n4                0               0               0                  1   \n\n   room_type_Entire home/apt  room_type_Hotel room  room_type_Shared room  \\\n0                          1                     0                      0   \n1                          1                     0                      0   \n2                          1                     0                      0   \n3                          0                     0                      0   \n4                          1                     0                      0   \n\n   cancellation_policy_flexible  cancellation_policy_moderate  \\\n0                             1                             0   \n1                             0                             0   \n2                             0                             0   \n3                             0                             0   \n4                             0                             0   \n\n   cancellation_policy_strict  \\\n0                           0   \n1                           0   \n2                           0   \n3                           0   \n4                           0   \n\n   cancellation_policy_strict_14_with_grace_period  \\\n0                                                0   \n1                                                1   \n2                                                1   \n3                                                1   \n4                                                1   \n\n   cancellation_policy_super_strict_30  cancellation_policy_super_strict_60  \n0                                    0                                    0  \n1                                    0                                    0  \n2                                    0                                    0  \n3                                    0                                    0  \n4                                    0                                    0  "
     },
     "execution_count": 118,
     "metadata": {},
     "output_type": "execute_result"
    }
   ],
   "source": [
    "dropped_cols_rows_encoding_df = drop_corr_cols()\n",
    "dropped_cols_rows_encoding_df.head()"
   ]
  },
  {
   "cell_type": "code",
   "execution_count": 119,
   "metadata": {},
   "outputs": [],
   "source": [
    "review_y = dropped_cols_rows_encoding_df[[\"review_scores_rating\"]]\n",
    "review_X = dropped_cols_rows_encoding_df.loc[:, dropped_cols_rows_encoding_df.columns != 'review_scores_rating']\n"
   ]
  },
  {
   "cell_type": "code",
   "execution_count": 120,
   "metadata": {},
   "outputs": [],
   "source": [
    "from sklearn.model_selection import train_test_split\n",
    "from sklearn.metrics import r2_score\n",
    "from sklearn.metrics import mean_squared_error"
   ]
  },
  {
   "cell_type": "code",
   "execution_count": 121,
   "metadata": {},
   "outputs": [
    {
     "name": "stdout",
     "output_type": "stream",
     "text": "0.6779666871624148\n23.94452146566337\n"
    }
   ],
   "source": [
    "X_train, X_test, y_train, y_test = train_test_split(review_X, \n",
    "                                                    review_y, \n",
    "                                                    random_state=42, \n",
    "                                                    test_size=0.2)\n",
    "grid_y_pred = linear_reg_model_training(X_train, y_train, X_test)\n",
    "print(r2_score(y_test, grid_y_pred))\n",
    "print(mean_squared_error (y_test, grid_y_pred))"
   ]
  },
  {
   "cell_type": "code",
   "execution_count": 122,
   "metadata": {},
   "outputs": [
    {
     "name": "stdout",
     "output_type": "stream",
     "text": "0.6782825325680266\n23.921037040937673\n"
    }
   ],
   "source": [
    "sig_X = trans.get_sig_columns(review_X, review_y)\n",
    "X_train_sig, X_test_sig, y_train_sig, y_test_sig = train_test_split(sig_X, \n",
    "                                                    review_y, \n",
    "                                                    random_state=42, \n",
    "                                                    test_size=0.2)\n",
    "grid_y_pred_sig = linear_reg_model_training(X_train_sig, y_train_sig, X_test_sig)\n",
    "print(r2_score(y_test_sig, grid_y_pred_sig))\n",
    "print(mean_squared_error (y_test_sig, grid_y_pred_sig))                        "
   ]
  },
  {
   "cell_type": "code",
   "execution_count": 123,
   "metadata": {},
   "outputs": [],
   "source": [
    "# price prediction\n",
    "total_price_df = dropped_cols_rows_encoding_df.copy()\n",
    "total_price_df[\"total_price\"] = total_price_df[\"price\"] + total_price_df[\"cleaning_fee\"]\n",
    "total_price_df=total_price_df.drop([\"price\", \"cleaning_fee\"], axis=1)\n",
    "\n",
    "price_y = total_price_df[\"total_price\"]\n",
    "price_X = total_price_df.copy().drop([\"total_price\"], axis=1)"
   ]
  },
  {
   "cell_type": "code",
   "execution_count": 124,
   "metadata": {},
   "outputs": [
    {
     "name": "stdout",
     "output_type": "stream",
     "text": "0.12294979815555906\n143887.02541421296\n"
    }
   ],
   "source": [
    "X_train_price, X_test_price, y_train_price, y_test_price = train_test_split(price_X, \n",
    "                                                    price_y, \n",
    "                                                    random_state=42, \n",
    "                                                    test_size=0.2)\n",
    "grid_y_pred_price = linear_reg_model_training(X_train_price, y_train_price, X_test_price)\n",
    "print(r2_score(y_test_price, grid_y_pred_price))\n",
    "print(mean_squared_error (y_test_price, grid_y_pred_price))"
   ]
  },
  {
   "cell_type": "code",
   "execution_count": 125,
   "metadata": {},
   "outputs": [
    {
     "name": "stdout",
     "output_type": "stream",
     "text": "0.11568518538896722\n145078.8426209963\n"
    }
   ],
   "source": [
    "sig_X_price = trans.get_sig_columns(price_X, price_y)\n",
    "X_train_sig_price, X_test_sig_price, y_train_sig_price, y_test_sig_price = train_test_split(sig_X_price, \n",
    "                                                    price_y, \n",
    "                                                    random_state=42, \n",
    "                                                    test_size=0.2)\n",
    "grid_y_pred_sig_price = linear_reg_model_training(X_train_sig_price, y_train_sig_price, X_test_sig_price)\n",
    "print(r2_score(y_test_sig_price, grid_y_pred_sig_price))\n",
    "print(mean_squared_error (y_test_sig_price, grid_y_pred_sig_price))    "
   ]
  },
  {
   "cell_type": "code",
   "execution_count": 126,
   "metadata": {},
   "outputs": [],
   "source": [
    "def polynomial_model_training(X_train,X_test, y_train,  y_test):\n",
    "    learner=LinearRegression(fit_intercept=True, )\n",
    "    poly=PolynomialFeatures(degree=2)\n",
    "\n",
    "    X_train_poly=poly.fit_transform(X_train)\n",
    "    learner.fit(X_train_poly, y_train)\n",
    "\n",
    "    X_test_poly=poly.fit_transform(X_test)\n",
    "    y_test_pred=learner.predict(X_test_poly)\n",
    "\n",
    "    print(r2_score(y_test_pred, y_test))\n",
    "    print(mean_squared_error(y_test_pred, y_test))"
   ]
  },
  {
   "cell_type": "code",
   "execution_count": 127,
   "metadata": {},
   "outputs": [],
   "source": [
    "from sklearn.preprocessing import PolynomialFeatures\n",
    "# polynomial_model_training(X_train_price, X_test_price, y_train_price, y_test_price)"
   ]
  },
  {
   "cell_type": "code",
   "execution_count": 128,
   "metadata": {},
   "outputs": [],
   "source": [
    "# polynomial_model_training(X_train_sig_price, X_test_sig_price, y_train_sig_price, y_test_sig_price)"
   ]
  },
  {
   "cell_type": "code",
   "execution_count": 129,
   "metadata": {},
   "outputs": [],
   "source": [
    "from sklearn.tree import DecisionTreeClassifier, plot_tree, DecisionTreeRegressor\n",
    "\n",
    "def decision_tree_training(X_train,X_test, y_train,  y_test):\n",
    "    tree=DecisionTreeRegressor(min_samples_leaf=2)\n",
    "    tree.fit(X_train, y_train)\n",
    "    y_pred=tree.predict(X_test)\n",
    "\n",
    "    print(r2_score(y_pred, y_test))\n",
    "    print(mean_squared_error(y_pred, y_test))"
   ]
  },
  {
   "cell_type": "code",
   "execution_count": 130,
   "metadata": {},
   "outputs": [
    {
     "name": "stdout",
     "output_type": "stream",
     "text": "0.4890430870261071\n117877.23349733498\n"
    }
   ],
   "source": [
    "decision_tree_training(X_train_price,X_test_price, y_train_price, y_test_price)"
   ]
  },
  {
   "cell_type": "code",
   "execution_count": 131,
   "metadata": {},
   "outputs": [
    {
     "name": "stdout",
     "output_type": "stream",
     "text": "0.5804329172825959\n99565.95484246648\n"
    }
   ],
   "source": [
    "decision_tree_training(X_train_sig_price, X_test_sig_price, y_train_sig_price, y_test_sig_price)"
   ]
  },
  {
   "cell_type": "code",
   "execution_count": null,
   "metadata": {},
   "outputs": [],
   "source": []
  }
 ],
 "metadata": {
  "kernelspec": {
   "display_name": "Python 3",
   "language": "python",
   "name": "python3"
  },
  "language_info": {
   "codemirror_mode": {
    "name": "ipython",
    "version": 3
   },
   "file_extension": ".py",
   "mimetype": "text/x-python",
   "name": "python",
   "nbconvert_exporter": "python",
   "pygments_lexer": "ipython3",
   "version": "3.6.6-final"
  }
 },
 "nbformat": 4,
 "nbformat_minor": 4
}