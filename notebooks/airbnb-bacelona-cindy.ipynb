{
 "cells": [
  {
   "cell_type": "code",
   "execution_count": 413,
   "metadata": {},
   "outputs": [],
   "source": [
    "# cd .."
   ]
  },
  {
   "cell_type": "code",
   "execution_count": 414,
   "metadata": {},
   "outputs": [],
   "source": [
    "import s3fs\n",
    "import pyarrow.parquet as pq\n",
    "# import missingno as msno\n",
    "\n",
    "\n",
    "s3 = s3fs.S3FileSystem()\n",
    "\n",
    "df = pq.ParquetDataset('s3://airbnb-barcelona/valid/currentDate=2020-03-11', filesystem=s3).read_pandas().to_pandas()"
   ]
  },
  {
   "cell_type": "code",
   "execution_count": 415,
   "metadata": {},
   "outputs": [],
   "source": [
    "import pandas as pd\n",
    "pd.set_option('display.max_columns', None)\n",
    "pd.set_option('display.max_rows', None)"
   ]
  },
  {
   "cell_type": "code",
   "execution_count": 416,
   "metadata": {},
   "outputs": [],
   "source": [
    "def removeRowsWithValues(df , col, values):\n",
    "    return df[~df[col].isin(values)]"
   ]
  },
  {
   "cell_type": "code",
   "execution_count": 417,
   "metadata": {},
   "outputs": [],
   "source": [
    "# df.head()"
   ]
  },
  {
   "cell_type": "code",
   "execution_count": 418,
   "metadata": {},
   "outputs": [],
   "source": [
    "# has_availability: True, same value\n",
    "# license: TODO\n",
    "# amenities: TODO\n",
    "# property_type: TODO"
   ]
  },
  {
   "cell_type": "code",
   "execution_count": 419,
   "metadata": {},
   "outputs": [],
   "source": [
    "def only_barcelona_market():\n",
    "    return df.loc[df['market'] == \"Barcelona\"]\n",
    "df = only_barcelona_market()"
   ]
  },
  {
   "cell_type": "code",
   "execution_count": 420,
   "metadata": {},
   "outputs": [],
   "source": [
    "def drop_columns():\n",
    "    dropped_columns = [\"first_review\", \"last_review\", \"has_availability\", \"market\",'rowId','id','host_location','host_neighbourhood','street','neighbourhood','neighbourhood_cleansed','calendar_updated','license', 'amenities','property_type']\n",
    "    return df.drop(dropped_columns, axis=1)"
   ]
  },
  {
   "cell_type": "code",
   "execution_count": 421,
   "metadata": {},
   "outputs": [
    {
     "data": {
      "text/plain": "(20406, 66)"
     },
     "execution_count": 421,
     "metadata": {},
     "output_type": "execute_result"
    }
   ],
   "source": [
    "df.shape"
   ]
  },
  {
   "cell_type": "code",
   "execution_count": 422,
   "metadata": {},
   "outputs": [
    {
     "data": {
      "text/plain": "(20406, 51)"
     },
     "execution_count": 422,
     "metadata": {},
     "output_type": "execute_result"
    }
   ],
   "source": [
    "dropped_cols_df = drop_columns()\n",
    "dropped_cols_df.shape"
   ]
  },
  {
   "cell_type": "code",
   "execution_count": 423,
   "metadata": {},
   "outputs": [],
   "source": [
    "def drop_rows():\n",
    "    dropped_cols_rows_df = dropped_cols_df.dropna(subset=[\"bedrooms\"])\n",
    "    \n",
    "    dropped_host_response_time = [\"ES\",\"el Barri Gòtic\"]\n",
    "\n",
    "    dropped_cols_rows_df = removeRowsWithValues(dropped_cols_rows_df, \"host_response_time\", dropped_host_response_time)\n",
    "\n",
    "    # dropped_cols_rows_df = removeRowsWithValues(dropped_cols_rows_df, \"license\", [\"Example\"])\n",
    "    return dropped_cols_rows_df\n",
    "\n",
    "dropped_cols_rows_df = drop_rows()"
   ]
  },
  {
   "cell_type": "code",
   "execution_count": 424,
   "metadata": {},
   "outputs": [
    {
     "data": {
      "text/plain": "(20382, 51)"
     },
     "execution_count": 424,
     "metadata": {},
     "output_type": "execute_result"
    }
   ],
   "source": [
    "dropped_cols_rows_df.shape"
   ]
  },
  {
   "cell_type": "code",
   "execution_count": 425,
   "metadata": {},
   "outputs": [],
   "source": [
    "def fill_missing_data():\n",
    "    values = {'security_deposit': 0, 'cleaning_fee': 0, \"host_response_time\":\"N/A\", \"host_response_rate\": 0, \"host_has_profile_pic\": 0, \"host_identity_verified\": 0, \"host_is_superhost\": 0}\n",
    "    return dropped_cols_rows_df.fillna(value=values)\n",
    "\n",
    "dropped_cols_rows_df = fill_missing_data()"
   ]
  },
  {
   "cell_type": "code",
   "execution_count": 426,
   "metadata": {},
   "outputs": [],
   "source": [
    "# dropped_cols_rows_df[\"license\"].isna().sum() "
   ]
  },
  {
   "cell_type": "code",
   "execution_count": 427,
   "metadata": {},
   "outputs": [],
   "source": [
    "# dropped_cols_rows_df[\"license\"].value_counts()"
   ]
  },
  {
   "cell_type": "code",
   "execution_count": 428,
   "metadata": {},
   "outputs": [
    {
     "data": {
      "text/plain": "False    20150\nTrue       256\nName: require_guest_profile_picture, dtype: int64"
     },
     "execution_count": 428,
     "metadata": {},
     "output_type": "execute_result"
    }
   ],
   "source": [
    "df[\"require_guest_profile_picture\"].value_counts()"
   ]
  },
  {
   "cell_type": "code",
   "execution_count": 429,
   "metadata": {},
   "outputs": [],
   "source": [
    "# dropped_cols_rows_df[\"security_deposit\"].value_counts()"
   ]
  },
  {
   "cell_type": "code",
   "execution_count": 430,
   "metadata": {},
   "outputs": [
    {
     "data": {
      "text/plain": "0    13888\n1     6494\nName: host_identity_verified, dtype: int64"
     },
     "execution_count": 430,
     "metadata": {},
     "output_type": "execute_result"
    }
   ],
   "source": [
    "cols = [\"host_has_profile_pic\",\"host_identity_verified\"]\n",
    "for col in cols:\n",
    "    dropped_cols_rows_df[col] = pd.to_numeric(dropped_cols_rows_df[col]).astype('int64')\n",
    "# dropped_cols_rows_df[\"host_has_profile_pic\"] = pd.to_numeric(dropped_cols_rows_df[\"host_has_profile_pic\"])\n",
    "# dropped_cols_rows_df[\"host_has_profile_pic\"].value_counts()\n",
    "\n",
    "dropped_cols_rows_df[\"host_identity_verified\"].value_counts()"
   ]
  },
  {
   "cell_type": "code",
   "execution_count": 431,
   "metadata": {},
   "outputs": [],
   "source": [
    "def convert_boolean_to_float():\n",
    "    cols = [\"host_has_profile_pic\",\"host_identity_verified\", \"host_is_superhost\", \"is_location_exact\", \"instant_bookable\", \"require_guest_profile_picture\", \"require_guest_phone_verification\"]\n",
    "    for col in cols:\n",
    "        dropped_cols_rows_df[col] = pd.to_numeric(dropped_cols_rows_df[col]).astype('int64')\n",
    "\n",
    "convert_boolean_to_float()"
   ]
  },
  {
   "cell_type": "code",
   "execution_count": 432,
   "metadata": {},
   "outputs": [],
   "source": [
    "def convert_col_with_value_to_one(df, col):\n",
    "    df[col]"
   ]
  },
  {
   "cell_type": "code",
   "execution_count": 433,
   "metadata": {},
   "outputs": [
    {
     "data": {
      "text/html": "<div>\n<style scoped>\n    .dataframe tbody tr th:only-of-type {\n        vertical-align: middle;\n    }\n\n    .dataframe tbody tr th {\n        vertical-align: top;\n    }\n\n    .dataframe thead th {\n        text-align: right;\n    }\n</style>\n<table border=\"1\" class=\"dataframe\">\n  <thead>\n    <tr style=\"text-align: right;\">\n      <th></th>\n      <th>host_since</th>\n      <th>host_response_time</th>\n      <th>host_response_rate</th>\n      <th>host_is_superhost</th>\n      <th>host_listings_count</th>\n      <th>host_total_listings_count</th>\n      <th>host_verifications</th>\n      <th>host_has_profile_pic</th>\n      <th>host_identity_verified</th>\n      <th>neighbourhood_group_cleansed</th>\n      <th>zipcode</th>\n      <th>latitude</th>\n      <th>longitude</th>\n      <th>is_location_exact</th>\n      <th>room_type</th>\n      <th>accommodates</th>\n      <th>bathrooms</th>\n      <th>bedrooms</th>\n      <th>beds</th>\n      <th>bed_type</th>\n      <th>price</th>\n      <th>security_deposit</th>\n      <th>cleaning_fee</th>\n      <th>guests_included</th>\n      <th>extra_people</th>\n      <th>minimum_nights</th>\n      <th>maximum_nights</th>\n      <th>minimum_nights_avg_ntm</th>\n      <th>maximum_nights_avg_ntm</th>\n      <th>availability_30</th>\n      <th>availability_60</th>\n      <th>availability_90</th>\n      <th>availability_365</th>\n      <th>number_of_reviews</th>\n      <th>number_of_reviews_ltm</th>\n      <th>review_scores_rating</th>\n      <th>review_scores_accuracy</th>\n      <th>review_scores_cleanliness</th>\n      <th>review_scores_checkin</th>\n      <th>review_scores_communication</th>\n      <th>review_scores_location</th>\n      <th>review_scores_value</th>\n      <th>instant_bookable</th>\n      <th>cancellation_policy</th>\n      <th>require_guest_profile_picture</th>\n      <th>require_guest_phone_verification</th>\n      <th>calculated_host_listings_count</th>\n      <th>calculated_host_listings_count_entire_homes</th>\n      <th>calculated_host_listings_count_private_rooms</th>\n      <th>calculated_host_listings_count_shared_rooms</th>\n      <th>reviews_per_month</th>\n    </tr>\n  </thead>\n  <tbody>\n    <tr>\n      <th>0</th>\n      <td>2010-01-19</td>\n      <td>within an hour</td>\n      <td>0.99</td>\n      <td>0</td>\n      <td>46.0</td>\n      <td>46.0</td>\n      <td>['email', 'phone', 'reviews', 'jumio', 'govern...</td>\n      <td>1</td>\n      <td>1</td>\n      <td>Sant Martí</td>\n      <td>08026</td>\n      <td>41.40889</td>\n      <td>2.18555</td>\n      <td>1</td>\n      <td>Entire home/apt</td>\n      <td>6.0</td>\n      <td>1.0</td>\n      <td>2.0</td>\n      <td>4.0</td>\n      <td>Real Bed</td>\n      <td>130.0</td>\n      <td>150.0</td>\n      <td>42.0</td>\n      <td>2.0</td>\n      <td>25.0</td>\n      <td>3.0</td>\n      <td>730.0</td>\n      <td>3.0</td>\n      <td>730.0</td>\n      <td>0.0</td>\n      <td>0.0</td>\n      <td>29.0</td>\n      <td>304.0</td>\n      <td>1.0</td>\n      <td>0.0</td>\n      <td>80.0</td>\n      <td>10.0</td>\n      <td>10.0</td>\n      <td>2.0</td>\n      <td>10.0</td>\n      <td>10.0</td>\n      <td>8.0</td>\n      <td>0</td>\n      <td>flexible</td>\n      <td>0</td>\n      <td>0</td>\n      <td>30.0</td>\n      <td>30.0</td>\n      <td>0.0</td>\n      <td>0.0</td>\n      <td>0.02</td>\n    </tr>\n    <tr>\n      <th>1</th>\n      <td>2010-01-19</td>\n      <td>within an hour</td>\n      <td>0.99</td>\n      <td>0</td>\n      <td>46.0</td>\n      <td>46.0</td>\n      <td>['email', 'phone', 'reviews', 'jumio', 'govern...</td>\n      <td>1</td>\n      <td>1</td>\n      <td>Eixample</td>\n      <td>08025</td>\n      <td>41.40420</td>\n      <td>2.17306</td>\n      <td>1</td>\n      <td>Entire home/apt</td>\n      <td>8.0</td>\n      <td>2.0</td>\n      <td>3.0</td>\n      <td>6.0</td>\n      <td>Real Bed</td>\n      <td>60.0</td>\n      <td>150.0</td>\n      <td>50.0</td>\n      <td>2.0</td>\n      <td>30.0</td>\n      <td>1.0</td>\n      <td>1125.0</td>\n      <td>3.9</td>\n      <td>1125.0</td>\n      <td>15.0</td>\n      <td>24.0</td>\n      <td>50.0</td>\n      <td>312.0</td>\n      <td>20.0</td>\n      <td>15.0</td>\n      <td>87.0</td>\n      <td>9.0</td>\n      <td>9.0</td>\n      <td>10.0</td>\n      <td>10.0</td>\n      <td>9.0</td>\n      <td>9.0</td>\n      <td>1</td>\n      <td>strict_14_with_grace_period</td>\n      <td>0</td>\n      <td>0</td>\n      <td>30.0</td>\n      <td>30.0</td>\n      <td>0.0</td>\n      <td>0.0</td>\n      <td>0.25</td>\n    </tr>\n    <tr>\n      <th>2</th>\n      <td>2010-03-09</td>\n      <td>within an hour</td>\n      <td>1.00</td>\n      <td>1</td>\n      <td>5.0</td>\n      <td>5.0</td>\n      <td>['email', 'phone', 'reviews', 'jumio', 'offlin...</td>\n      <td>1</td>\n      <td>1</td>\n      <td>Sant Martí</td>\n      <td>08930</td>\n      <td>41.41203</td>\n      <td>2.22114</td>\n      <td>0</td>\n      <td>Entire home/apt</td>\n      <td>6.0</td>\n      <td>2.0</td>\n      <td>3.0</td>\n      <td>5.0</td>\n      <td>Real Bed</td>\n      <td>210.0</td>\n      <td>300.0</td>\n      <td>80.0</td>\n      <td>3.0</td>\n      <td>10.0</td>\n      <td>3.0</td>\n      <td>30.0</td>\n      <td>3.1</td>\n      <td>1125.0</td>\n      <td>29.0</td>\n      <td>59.0</td>\n      <td>89.0</td>\n      <td>359.0</td>\n      <td>51.0</td>\n      <td>17.0</td>\n      <td>95.0</td>\n      <td>10.0</td>\n      <td>10.0</td>\n      <td>10.0</td>\n      <td>10.0</td>\n      <td>9.0</td>\n      <td>9.0</td>\n      <td>1</td>\n      <td>strict_14_with_grace_period</td>\n      <td>0</td>\n      <td>1</td>\n      <td>2.0</td>\n      <td>2.0</td>\n      <td>0.0</td>\n      <td>0.0</td>\n      <td>0.48</td>\n    </tr>\n    <tr>\n      <th>3</th>\n      <td>2010-04-14</td>\n      <td>within an hour</td>\n      <td>1.00</td>\n      <td>1</td>\n      <td>1.0</td>\n      <td>1.0</td>\n      <td>['email', 'phone', 'reviews', 'jumio', 'offlin...</td>\n      <td>1</td>\n      <td>1</td>\n      <td>Gràcia</td>\n      <td>08012</td>\n      <td>41.40145</td>\n      <td>2.15645</td>\n      <td>1</td>\n      <td>Private room</td>\n      <td>2.0</td>\n      <td>1.0</td>\n      <td>1.0</td>\n      <td>1.0</td>\n      <td>Real Bed</td>\n      <td>32.0</td>\n      <td>0.0</td>\n      <td>0.0</td>\n      <td>1.0</td>\n      <td>25.0</td>\n      <td>1.0</td>\n      <td>730.0</td>\n      <td>1.0</td>\n      <td>730.0</td>\n      <td>13.0</td>\n      <td>13.0</td>\n      <td>13.0</td>\n      <td>46.0</td>\n      <td>268.0</td>\n      <td>44.0</td>\n      <td>95.0</td>\n      <td>10.0</td>\n      <td>9.0</td>\n      <td>10.0</td>\n      <td>10.0</td>\n      <td>10.0</td>\n      <td>10.0</td>\n      <td>1</td>\n      <td>strict_14_with_grace_period</td>\n      <td>1</td>\n      <td>1</td>\n      <td>1.0</td>\n      <td>0.0</td>\n      <td>1.0</td>\n      <td>0.0</td>\n      <td>2.38</td>\n    </tr>\n    <tr>\n      <th>4</th>\n      <td>2010-06-02</td>\n      <td>within an hour</td>\n      <td>0.92</td>\n      <td>0</td>\n      <td>39.0</td>\n      <td>39.0</td>\n      <td>['email', 'phone', 'facebook', 'reviews', 'jum...</td>\n      <td>1</td>\n      <td>0</td>\n      <td>Gràcia</td>\n      <td>08024</td>\n      <td>41.40950</td>\n      <td>2.15938</td>\n      <td>1</td>\n      <td>Entire home/apt</td>\n      <td>4.0</td>\n      <td>1.0</td>\n      <td>1.0</td>\n      <td>1.0</td>\n      <td>Real Bed</td>\n      <td>60.0</td>\n      <td>200.0</td>\n      <td>58.0</td>\n      <td>4.0</td>\n      <td>0.0</td>\n      <td>1.0</td>\n      <td>27.0</td>\n      <td>2.1</td>\n      <td>27.0</td>\n      <td>16.0</td>\n      <td>33.0</td>\n      <td>58.0</td>\n      <td>324.0</td>\n      <td>182.0</td>\n      <td>32.0</td>\n      <td>92.0</td>\n      <td>9.0</td>\n      <td>9.0</td>\n      <td>8.0</td>\n      <td>9.0</td>\n      <td>9.0</td>\n      <td>9.0</td>\n      <td>1</td>\n      <td>strict_14_with_grace_period</td>\n      <td>0</td>\n      <td>0</td>\n      <td>39.0</td>\n      <td>39.0</td>\n      <td>0.0</td>\n      <td>0.0</td>\n      <td>1.71</td>\n    </tr>\n  </tbody>\n</table>\n</div>",
      "text/plain": "   host_since host_response_time  host_response_rate  host_is_superhost  \\\n0  2010-01-19     within an hour                0.99                  0   \n1  2010-01-19     within an hour                0.99                  0   \n2  2010-03-09     within an hour                1.00                  1   \n3  2010-04-14     within an hour                1.00                  1   \n4  2010-06-02     within an hour                0.92                  0   \n\n   host_listings_count  host_total_listings_count  \\\n0                 46.0                       46.0   \n1                 46.0                       46.0   \n2                  5.0                        5.0   \n3                  1.0                        1.0   \n4                 39.0                       39.0   \n\n                                  host_verifications  host_has_profile_pic  \\\n0  ['email', 'phone', 'reviews', 'jumio', 'govern...                     1   \n1  ['email', 'phone', 'reviews', 'jumio', 'govern...                     1   \n2  ['email', 'phone', 'reviews', 'jumio', 'offlin...                     1   \n3  ['email', 'phone', 'reviews', 'jumio', 'offlin...                     1   \n4  ['email', 'phone', 'facebook', 'reviews', 'jum...                     1   \n\n   host_identity_verified neighbourhood_group_cleansed zipcode  latitude  \\\n0                       1                   Sant Martí   08026  41.40889   \n1                       1                     Eixample   08025  41.40420   \n2                       1                   Sant Martí   08930  41.41203   \n3                       1                       Gràcia   08012  41.40145   \n4                       0                       Gràcia   08024  41.40950   \n\n   longitude  is_location_exact        room_type  accommodates  bathrooms  \\\n0    2.18555                  1  Entire home/apt           6.0        1.0   \n1    2.17306                  1  Entire home/apt           8.0        2.0   \n2    2.22114                  0  Entire home/apt           6.0        2.0   \n3    2.15645                  1     Private room           2.0        1.0   \n4    2.15938                  1  Entire home/apt           4.0        1.0   \n\n   bedrooms  beds  bed_type  price  security_deposit  cleaning_fee  \\\n0       2.0   4.0  Real Bed  130.0             150.0          42.0   \n1       3.0   6.0  Real Bed   60.0             150.0          50.0   \n2       3.0   5.0  Real Bed  210.0             300.0          80.0   \n3       1.0   1.0  Real Bed   32.0               0.0           0.0   \n4       1.0   1.0  Real Bed   60.0             200.0          58.0   \n\n   guests_included  extra_people  minimum_nights  maximum_nights  \\\n0              2.0          25.0             3.0           730.0   \n1              2.0          30.0             1.0          1125.0   \n2              3.0          10.0             3.0            30.0   \n3              1.0          25.0             1.0           730.0   \n4              4.0           0.0             1.0            27.0   \n\n   minimum_nights_avg_ntm  maximum_nights_avg_ntm  availability_30  \\\n0                     3.0                   730.0              0.0   \n1                     3.9                  1125.0             15.0   \n2                     3.1                  1125.0             29.0   \n3                     1.0                   730.0             13.0   \n4                     2.1                    27.0             16.0   \n\n   availability_60  availability_90  availability_365  number_of_reviews  \\\n0              0.0             29.0             304.0                1.0   \n1             24.0             50.0             312.0               20.0   \n2             59.0             89.0             359.0               51.0   \n3             13.0             13.0              46.0              268.0   \n4             33.0             58.0             324.0              182.0   \n\n   number_of_reviews_ltm  review_scores_rating  review_scores_accuracy  \\\n0                    0.0                  80.0                    10.0   \n1                   15.0                  87.0                     9.0   \n2                   17.0                  95.0                    10.0   \n3                   44.0                  95.0                    10.0   \n4                   32.0                  92.0                     9.0   \n\n   review_scores_cleanliness  review_scores_checkin  \\\n0                       10.0                    2.0   \n1                        9.0                   10.0   \n2                       10.0                   10.0   \n3                        9.0                   10.0   \n4                        9.0                    8.0   \n\n   review_scores_communication  review_scores_location  review_scores_value  \\\n0                         10.0                    10.0                  8.0   \n1                         10.0                     9.0                  9.0   \n2                         10.0                     9.0                  9.0   \n3                         10.0                    10.0                 10.0   \n4                          9.0                     9.0                  9.0   \n\n   instant_bookable          cancellation_policy  \\\n0                 0                     flexible   \n1                 1  strict_14_with_grace_period   \n2                 1  strict_14_with_grace_period   \n3                 1  strict_14_with_grace_period   \n4                 1  strict_14_with_grace_period   \n\n   require_guest_profile_picture  require_guest_phone_verification  \\\n0                              0                                 0   \n1                              0                                 0   \n2                              0                                 1   \n3                              1                                 1   \n4                              0                                 0   \n\n   calculated_host_listings_count  \\\n0                            30.0   \n1                            30.0   \n2                             2.0   \n3                             1.0   \n4                            39.0   \n\n   calculated_host_listings_count_entire_homes  \\\n0                                         30.0   \n1                                         30.0   \n2                                          2.0   \n3                                          0.0   \n4                                         39.0   \n\n   calculated_host_listings_count_private_rooms  \\\n0                                           0.0   \n1                                           0.0   \n2                                           0.0   \n3                                           1.0   \n4                                           0.0   \n\n   calculated_host_listings_count_shared_rooms  reviews_per_month  \n0                                          0.0               0.02  \n1                                          0.0               0.25  \n2                                          0.0               0.48  \n3                                          0.0               2.38  \n4                                          0.0               1.71  "
     },
     "execution_count": 433,
     "metadata": {},
     "output_type": "execute_result"
    }
   ],
   "source": [
    "dropped_cols_rows_df.head()"
   ]
  },
  {
   "cell_type": "code",
   "execution_count": 434,
   "metadata": {},
   "outputs": [
    {
     "data": {
      "text/plain": "host_since                                       object\nhost_response_time                               object\nhost_response_rate                              float64\nhost_is_superhost                                 int64\nhost_listings_count                             float64\nhost_total_listings_count                       float64\nhost_verifications                               object\nhost_has_profile_pic                              int64\nhost_identity_verified                            int64\nneighbourhood_group_cleansed                     object\nzipcode                                          object\nlatitude                                        float64\nlongitude                                       float64\nis_location_exact                                 int64\nroom_type                                        object\naccommodates                                    float64\nbathrooms                                       float64\nbedrooms                                        float64\nbeds                                            float64\nbed_type                                         object\nprice                                           float64\nsecurity_deposit                                float64\ncleaning_fee                                    float64\nguests_included                                 float64\nextra_people                                    float64\nminimum_nights                                  float64\nmaximum_nights                                  float64\nminimum_nights_avg_ntm                          float64\nmaximum_nights_avg_ntm                          float64\navailability_30                                 float64\navailability_60                                 float64\navailability_90                                 float64\navailability_365                                float64\nnumber_of_reviews                               float64\nnumber_of_reviews_ltm                           float64\nreview_scores_rating                            float64\nreview_scores_accuracy                          float64\nreview_scores_cleanliness                       float64\nreview_scores_checkin                           float64\nreview_scores_communication                     float64\nreview_scores_location                          float64\nreview_scores_value                             float64\ninstant_bookable                                  int64\ncancellation_policy                              object\nrequire_guest_profile_picture                     int64\nrequire_guest_phone_verification                  int64\ncalculated_host_listings_count                  float64\ncalculated_host_listings_count_entire_homes     float64\ncalculated_host_listings_count_private_rooms    float64\ncalculated_host_listings_count_shared_rooms     float64\nreviews_per_month                               float64\ndtype: object"
     },
     "execution_count": 434,
     "metadata": {},
     "output_type": "execute_result"
    }
   ],
   "source": [
    "dropped_cols_rows_df.dtypes"
   ]
  },
  {
   "cell_type": "code",
   "execution_count": null,
   "metadata": {},
   "outputs": [],
   "source": []
  },
  {
   "cell_type": "code",
   "execution_count": null,
   "metadata": {},
   "outputs": [],
   "source": []
  },
  {
   "cell_type": "code",
   "execution_count": null,
   "metadata": {},
   "outputs": [],
   "source": []
  },
  {
   "cell_type": "code",
   "execution_count": 435,
   "metadata": {},
   "outputs": [
    {
     "data": {
      "text/plain": "0    13888\n1     6494\nName: host_identity_verified, dtype: int64"
     },
     "execution_count": 435,
     "metadata": {},
     "output_type": "execute_result"
    }
   ],
   "source": [
    "dropped_cols_rows_df.host_identity_verified.value_counts()"
   ]
  },
  {
   "cell_type": "code",
   "execution_count": 436,
   "metadata": {},
   "outputs": [],
   "source": [
    "import numpy as np\n",
    "from sklearn.impute import SimpleImputer\n",
    "def fill_missing_data_with_mean():\n",
    "    cols_filled_with_nums = [\"review_scores_rating\",\"review_scores_accuracy\",\"review_scores_cleanliness\",\"review_scores_checkin\",\"review_scores_communication\",\"review_scores_location\",\"review_scores_value\"]\n",
    "    imp = SimpleImputer(missing_values=np.nan, strategy='mean')\n",
    "    dropped_cols_rows_df[cols_filled_with_nums] = imp.fit_transform(dropped_cols_rows_df[cols_filled_with_nums])\n",
    "    return\n",
    "\n",
    "fill_missing_data_with_mean()"
   ]
  },
  {
   "cell_type": "code",
   "execution_count": 437,
   "metadata": {},
   "outputs": [],
   "source": [
    "def one_hot_encoding():\n",
    "    dropped_cols_rows_encoding_df = pd.get_dummies(dropped_cols_rows_df, columns=['host_response_time'], prefix = ['host_response_time_'])\n",
    "    dropped_cols_rows_encoding_df = pd.get_dummies(dropped_cols_rows_df, columns=['bed_type'], prefix = ['bed_type_'])\n",
    "    dropped_cols_rows_encoding_df = pd.get_dummies(dropped_cols_rows_df, columns=['room_type'], prefix = ['room_type_'])\n",
    "    \n",
    "\n",
    "    return dropped_cols_rows_encoding_df\n",
    "    "
   ]
  },
  {
   "cell_type": "code",
   "execution_count": 438,
   "metadata": {},
   "outputs": [],
   "source": [
    "dropped_cols_rows_encoding_df = one_hot_encoding()\n"
   ]
  },
  {
   "cell_type": "code",
   "execution_count": 439,
   "metadata": {},
   "outputs": [
    {
     "data": {
      "text/html": "<div>\n<style scoped>\n    .dataframe tbody tr th:only-of-type {\n        vertical-align: middle;\n    }\n\n    .dataframe tbody tr th {\n        vertical-align: top;\n    }\n\n    .dataframe thead th {\n        text-align: right;\n    }\n</style>\n<table border=\"1\" class=\"dataframe\">\n  <thead>\n    <tr style=\"text-align: right;\">\n      <th></th>\n      <th>host_since</th>\n      <th>host_response_rate</th>\n      <th>host_is_superhost</th>\n      <th>host_listings_count</th>\n      <th>host_total_listings_count</th>\n      <th>host_verifications</th>\n      <th>host_has_profile_pic</th>\n      <th>host_identity_verified</th>\n      <th>neighbourhood_group_cleansed</th>\n      <th>zipcode</th>\n      <th>latitude</th>\n      <th>longitude</th>\n      <th>is_location_exact</th>\n      <th>room_type</th>\n      <th>accommodates</th>\n      <th>bathrooms</th>\n      <th>bedrooms</th>\n      <th>beds</th>\n      <th>bed_type</th>\n      <th>price</th>\n      <th>security_deposit</th>\n      <th>cleaning_fee</th>\n      <th>guests_included</th>\n      <th>extra_people</th>\n      <th>minimum_nights</th>\n      <th>maximum_nights</th>\n      <th>minimum_nights_avg_ntm</th>\n      <th>maximum_nights_avg_ntm</th>\n      <th>availability_30</th>\n      <th>availability_60</th>\n      <th>availability_90</th>\n      <th>availability_365</th>\n      <th>number_of_reviews</th>\n      <th>number_of_reviews_ltm</th>\n      <th>review_scores_rating</th>\n      <th>review_scores_accuracy</th>\n      <th>review_scores_cleanliness</th>\n      <th>review_scores_checkin</th>\n      <th>review_scores_communication</th>\n      <th>review_scores_location</th>\n      <th>review_scores_value</th>\n      <th>instant_bookable</th>\n      <th>cancellation_policy</th>\n      <th>require_guest_profile_picture</th>\n      <th>require_guest_phone_verification</th>\n      <th>calculated_host_listings_count</th>\n      <th>calculated_host_listings_count_entire_homes</th>\n      <th>calculated_host_listings_count_private_rooms</th>\n      <th>calculated_host_listings_count_shared_rooms</th>\n      <th>reviews_per_month</th>\n      <th>host_response_time_N/A</th>\n      <th>host_response_time_a few days or more</th>\n      <th>host_response_time_within a day</th>\n      <th>host_response_time_within a few hours</th>\n      <th>host_response_time_within an hour</th>\n    </tr>\n  </thead>\n  <tbody>\n    <tr>\n      <th>0</th>\n      <td>2010-01-19</td>\n      <td>0.99</td>\n      <td>0</td>\n      <td>46.0</td>\n      <td>46.0</td>\n      <td>['email', 'phone', 'reviews', 'jumio', 'govern...</td>\n      <td>1</td>\n      <td>1</td>\n      <td>Sant Martí</td>\n      <td>08026</td>\n      <td>41.40889</td>\n      <td>2.18555</td>\n      <td>1</td>\n      <td>Entire home/apt</td>\n      <td>6.0</td>\n      <td>1.0</td>\n      <td>2.0</td>\n      <td>4.0</td>\n      <td>Real Bed</td>\n      <td>130.0</td>\n      <td>150.0</td>\n      <td>42.0</td>\n      <td>2.0</td>\n      <td>25.0</td>\n      <td>3.0</td>\n      <td>730.0</td>\n      <td>3.0</td>\n      <td>730.0</td>\n      <td>0.0</td>\n      <td>0.0</td>\n      <td>29.0</td>\n      <td>304.0</td>\n      <td>1.0</td>\n      <td>0.0</td>\n      <td>80.0</td>\n      <td>10.0</td>\n      <td>10.0</td>\n      <td>2.0</td>\n      <td>10.0</td>\n      <td>10.0</td>\n      <td>8.0</td>\n      <td>0</td>\n      <td>flexible</td>\n      <td>0</td>\n      <td>0</td>\n      <td>30.0</td>\n      <td>30.0</td>\n      <td>0.0</td>\n      <td>0.0</td>\n      <td>0.02</td>\n      <td>0</td>\n      <td>0</td>\n      <td>0</td>\n      <td>0</td>\n      <td>1</td>\n    </tr>\n    <tr>\n      <th>1</th>\n      <td>2010-01-19</td>\n      <td>0.99</td>\n      <td>0</td>\n      <td>46.0</td>\n      <td>46.0</td>\n      <td>['email', 'phone', 'reviews', 'jumio', 'govern...</td>\n      <td>1</td>\n      <td>1</td>\n      <td>Eixample</td>\n      <td>08025</td>\n      <td>41.40420</td>\n      <td>2.17306</td>\n      <td>1</td>\n      <td>Entire home/apt</td>\n      <td>8.0</td>\n      <td>2.0</td>\n      <td>3.0</td>\n      <td>6.0</td>\n      <td>Real Bed</td>\n      <td>60.0</td>\n      <td>150.0</td>\n      <td>50.0</td>\n      <td>2.0</td>\n      <td>30.0</td>\n      <td>1.0</td>\n      <td>1125.0</td>\n      <td>3.9</td>\n      <td>1125.0</td>\n      <td>15.0</td>\n      <td>24.0</td>\n      <td>50.0</td>\n      <td>312.0</td>\n      <td>20.0</td>\n      <td>15.0</td>\n      <td>87.0</td>\n      <td>9.0</td>\n      <td>9.0</td>\n      <td>10.0</td>\n      <td>10.0</td>\n      <td>9.0</td>\n      <td>9.0</td>\n      <td>1</td>\n      <td>strict_14_with_grace_period</td>\n      <td>0</td>\n      <td>0</td>\n      <td>30.0</td>\n      <td>30.0</td>\n      <td>0.0</td>\n      <td>0.0</td>\n      <td>0.25</td>\n      <td>0</td>\n      <td>0</td>\n      <td>0</td>\n      <td>0</td>\n      <td>1</td>\n    </tr>\n    <tr>\n      <th>2</th>\n      <td>2010-03-09</td>\n      <td>1.00</td>\n      <td>1</td>\n      <td>5.0</td>\n      <td>5.0</td>\n      <td>['email', 'phone', 'reviews', 'jumio', 'offlin...</td>\n      <td>1</td>\n      <td>1</td>\n      <td>Sant Martí</td>\n      <td>08930</td>\n      <td>41.41203</td>\n      <td>2.22114</td>\n      <td>0</td>\n      <td>Entire home/apt</td>\n      <td>6.0</td>\n      <td>2.0</td>\n      <td>3.0</td>\n      <td>5.0</td>\n      <td>Real Bed</td>\n      <td>210.0</td>\n      <td>300.0</td>\n      <td>80.0</td>\n      <td>3.0</td>\n      <td>10.0</td>\n      <td>3.0</td>\n      <td>30.0</td>\n      <td>3.1</td>\n      <td>1125.0</td>\n      <td>29.0</td>\n      <td>59.0</td>\n      <td>89.0</td>\n      <td>359.0</td>\n      <td>51.0</td>\n      <td>17.0</td>\n      <td>95.0</td>\n      <td>10.0</td>\n      <td>10.0</td>\n      <td>10.0</td>\n      <td>10.0</td>\n      <td>9.0</td>\n      <td>9.0</td>\n      <td>1</td>\n      <td>strict_14_with_grace_period</td>\n      <td>0</td>\n      <td>1</td>\n      <td>2.0</td>\n      <td>2.0</td>\n      <td>0.0</td>\n      <td>0.0</td>\n      <td>0.48</td>\n      <td>0</td>\n      <td>0</td>\n      <td>0</td>\n      <td>0</td>\n      <td>1</td>\n    </tr>\n    <tr>\n      <th>3</th>\n      <td>2010-04-14</td>\n      <td>1.00</td>\n      <td>1</td>\n      <td>1.0</td>\n      <td>1.0</td>\n      <td>['email', 'phone', 'reviews', 'jumio', 'offlin...</td>\n      <td>1</td>\n      <td>1</td>\n      <td>Gràcia</td>\n      <td>08012</td>\n      <td>41.40145</td>\n      <td>2.15645</td>\n      <td>1</td>\n      <td>Private room</td>\n      <td>2.0</td>\n      <td>1.0</td>\n      <td>1.0</td>\n      <td>1.0</td>\n      <td>Real Bed</td>\n      <td>32.0</td>\n      <td>0.0</td>\n      <td>0.0</td>\n      <td>1.0</td>\n      <td>25.0</td>\n      <td>1.0</td>\n      <td>730.0</td>\n      <td>1.0</td>\n      <td>730.0</td>\n      <td>13.0</td>\n      <td>13.0</td>\n      <td>13.0</td>\n      <td>46.0</td>\n      <td>268.0</td>\n      <td>44.0</td>\n      <td>95.0</td>\n      <td>10.0</td>\n      <td>9.0</td>\n      <td>10.0</td>\n      <td>10.0</td>\n      <td>10.0</td>\n      <td>10.0</td>\n      <td>1</td>\n      <td>strict_14_with_grace_period</td>\n      <td>1</td>\n      <td>1</td>\n      <td>1.0</td>\n      <td>0.0</td>\n      <td>1.0</td>\n      <td>0.0</td>\n      <td>2.38</td>\n      <td>0</td>\n      <td>0</td>\n      <td>0</td>\n      <td>0</td>\n      <td>1</td>\n    </tr>\n    <tr>\n      <th>4</th>\n      <td>2010-06-02</td>\n      <td>0.92</td>\n      <td>0</td>\n      <td>39.0</td>\n      <td>39.0</td>\n      <td>['email', 'phone', 'facebook', 'reviews', 'jum...</td>\n      <td>1</td>\n      <td>0</td>\n      <td>Gràcia</td>\n      <td>08024</td>\n      <td>41.40950</td>\n      <td>2.15938</td>\n      <td>1</td>\n      <td>Entire home/apt</td>\n      <td>4.0</td>\n      <td>1.0</td>\n      <td>1.0</td>\n      <td>1.0</td>\n      <td>Real Bed</td>\n      <td>60.0</td>\n      <td>200.0</td>\n      <td>58.0</td>\n      <td>4.0</td>\n      <td>0.0</td>\n      <td>1.0</td>\n      <td>27.0</td>\n      <td>2.1</td>\n      <td>27.0</td>\n      <td>16.0</td>\n      <td>33.0</td>\n      <td>58.0</td>\n      <td>324.0</td>\n      <td>182.0</td>\n      <td>32.0</td>\n      <td>92.0</td>\n      <td>9.0</td>\n      <td>9.0</td>\n      <td>8.0</td>\n      <td>9.0</td>\n      <td>9.0</td>\n      <td>9.0</td>\n      <td>1</td>\n      <td>strict_14_with_grace_period</td>\n      <td>0</td>\n      <td>0</td>\n      <td>39.0</td>\n      <td>39.0</td>\n      <td>0.0</td>\n      <td>0.0</td>\n      <td>1.71</td>\n      <td>0</td>\n      <td>0</td>\n      <td>0</td>\n      <td>0</td>\n      <td>1</td>\n    </tr>\n  </tbody>\n</table>\n</div>",
      "text/plain": "   host_since  host_response_rate  host_is_superhost  host_listings_count  \\\n0  2010-01-19                0.99                  0                 46.0   \n1  2010-01-19                0.99                  0                 46.0   \n2  2010-03-09                1.00                  1                  5.0   \n3  2010-04-14                1.00                  1                  1.0   \n4  2010-06-02                0.92                  0                 39.0   \n\n   host_total_listings_count  \\\n0                       46.0   \n1                       46.0   \n2                        5.0   \n3                        1.0   \n4                       39.0   \n\n                                  host_verifications  host_has_profile_pic  \\\n0  ['email', 'phone', 'reviews', 'jumio', 'govern...                     1   \n1  ['email', 'phone', 'reviews', 'jumio', 'govern...                     1   \n2  ['email', 'phone', 'reviews', 'jumio', 'offlin...                     1   \n3  ['email', 'phone', 'reviews', 'jumio', 'offlin...                     1   \n4  ['email', 'phone', 'facebook', 'reviews', 'jum...                     1   \n\n   host_identity_verified neighbourhood_group_cleansed zipcode  latitude  \\\n0                       1                   Sant Martí   08026  41.40889   \n1                       1                     Eixample   08025  41.40420   \n2                       1                   Sant Martí   08930  41.41203   \n3                       1                       Gràcia   08012  41.40145   \n4                       0                       Gràcia   08024  41.40950   \n\n   longitude  is_location_exact        room_type  accommodates  bathrooms  \\\n0    2.18555                  1  Entire home/apt           6.0        1.0   \n1    2.17306                  1  Entire home/apt           8.0        2.0   \n2    2.22114                  0  Entire home/apt           6.0        2.0   \n3    2.15645                  1     Private room           2.0        1.0   \n4    2.15938                  1  Entire home/apt           4.0        1.0   \n\n   bedrooms  beds  bed_type  price  security_deposit  cleaning_fee  \\\n0       2.0   4.0  Real Bed  130.0             150.0          42.0   \n1       3.0   6.0  Real Bed   60.0             150.0          50.0   \n2       3.0   5.0  Real Bed  210.0             300.0          80.0   \n3       1.0   1.0  Real Bed   32.0               0.0           0.0   \n4       1.0   1.0  Real Bed   60.0             200.0          58.0   \n\n   guests_included  extra_people  minimum_nights  maximum_nights  \\\n0              2.0          25.0             3.0           730.0   \n1              2.0          30.0             1.0          1125.0   \n2              3.0          10.0             3.0            30.0   \n3              1.0          25.0             1.0           730.0   \n4              4.0           0.0             1.0            27.0   \n\n   minimum_nights_avg_ntm  maximum_nights_avg_ntm  availability_30  \\\n0                     3.0                   730.0              0.0   \n1                     3.9                  1125.0             15.0   \n2                     3.1                  1125.0             29.0   \n3                     1.0                   730.0             13.0   \n4                     2.1                    27.0             16.0   \n\n   availability_60  availability_90  availability_365  number_of_reviews  \\\n0              0.0             29.0             304.0                1.0   \n1             24.0             50.0             312.0               20.0   \n2             59.0             89.0             359.0               51.0   \n3             13.0             13.0              46.0              268.0   \n4             33.0             58.0             324.0              182.0   \n\n   number_of_reviews_ltm  review_scores_rating  review_scores_accuracy  \\\n0                    0.0                  80.0                    10.0   \n1                   15.0                  87.0                     9.0   \n2                   17.0                  95.0                    10.0   \n3                   44.0                  95.0                    10.0   \n4                   32.0                  92.0                     9.0   \n\n   review_scores_cleanliness  review_scores_checkin  \\\n0                       10.0                    2.0   \n1                        9.0                   10.0   \n2                       10.0                   10.0   \n3                        9.0                   10.0   \n4                        9.0                    8.0   \n\n   review_scores_communication  review_scores_location  review_scores_value  \\\n0                         10.0                    10.0                  8.0   \n1                         10.0                     9.0                  9.0   \n2                         10.0                     9.0                  9.0   \n3                         10.0                    10.0                 10.0   \n4                          9.0                     9.0                  9.0   \n\n   instant_bookable          cancellation_policy  \\\n0                 0                     flexible   \n1                 1  strict_14_with_grace_period   \n2                 1  strict_14_with_grace_period   \n3                 1  strict_14_with_grace_period   \n4                 1  strict_14_with_grace_period   \n\n   require_guest_profile_picture  require_guest_phone_verification  \\\n0                              0                                 0   \n1                              0                                 0   \n2                              0                                 1   \n3                              1                                 1   \n4                              0                                 0   \n\n   calculated_host_listings_count  \\\n0                            30.0   \n1                            30.0   \n2                             2.0   \n3                             1.0   \n4                            39.0   \n\n   calculated_host_listings_count_entire_homes  \\\n0                                         30.0   \n1                                         30.0   \n2                                          2.0   \n3                                          0.0   \n4                                         39.0   \n\n   calculated_host_listings_count_private_rooms  \\\n0                                           0.0   \n1                                           0.0   \n2                                           0.0   \n3                                           1.0   \n4                                           0.0   \n\n   calculated_host_listings_count_shared_rooms  reviews_per_month  \\\n0                                          0.0               0.02   \n1                                          0.0               0.25   \n2                                          0.0               0.48   \n3                                          0.0               2.38   \n4                                          0.0               1.71   \n\n   host_response_time_N/A  host_response_time_a few days or more  \\\n0                       0                                      0   \n1                       0                                      0   \n2                       0                                      0   \n3                       0                                      0   \n4                       0                                      0   \n\n   host_response_time_within a day  host_response_time_within a few hours  \\\n0                                0                                      0   \n1                                0                                      0   \n2                                0                                      0   \n3                                0                                      0   \n4                                0                                      0   \n\n   host_response_time_within an hour  \n0                                  1  \n1                                  1  \n2                                  1  \n3                                  1  \n4                                  1  "
     },
     "execution_count": 439,
     "metadata": {},
     "output_type": "execute_result"
    }
   ],
   "source": [
    "dropped_cols_rows_encoding_df.head()"
   ]
  },
  {
   "cell_type": "code",
   "execution_count": 440,
   "metadata": {},
   "outputs": [],
   "source": [
    "# df.dtypes"
   ]
  },
  {
   "cell_type": "code",
   "execution_count": 441,
   "metadata": {},
   "outputs": [],
   "source": [
    "dropped_cols_rows_encoding_df.dtypes\n"
   ]
  }
 ],
 "metadata": {
  "kernelspec": {
   "display_name": "Python 3",
   "language": "python",
   "name": "python3"
  },
  "language_info": {
   "codemirror_mode": {
    "name": "ipython",
    "version": 3
   },
   "file_extension": ".py",
   "mimetype": "text/x-python",
   "name": "python",
   "nbconvert_exporter": "python",
   "pygments_lexer": "ipython3",
   "version": "3.6.6-final"
  }
 },
 "nbformat": 4,
 "nbformat_minor": 4
}