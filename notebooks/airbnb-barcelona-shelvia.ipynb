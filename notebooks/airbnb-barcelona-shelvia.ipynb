{
 "cells": [
  {
   "cell_type": "code",
   "execution_count": 1,
   "metadata": {},
   "outputs": [
    {
     "name": "stdout",
     "output_type": "stream",
     "text": "/Users/shelvia.hotama/IdeaProjects/airbnb-ml\n"
    }
   ],
   "source": [
    "cd .."
   ]
  },
  {
   "cell_type": "code",
   "execution_count": 2,
   "metadata": {},
   "outputs": [],
   "source": [
    "import numpy as np\n",
    "import pandas as pd\n",
    "import seaborn as sns\n",
    "import matplotlib.pyplot as plt\n",
    "import src.transform as trans\n",
    "\n",
    "pd.set_option('display.max_colwidth', None)\n",
    "pd.set_option('display.max_columns', None)\n",
    "pd.set_option('display.max_rows', None)"
   ]
  },
  {
   "cell_type": "code",
   "execution_count": 3,
   "metadata": {},
   "outputs": [],
   "source": [
    "from datetime import date, timedelta\n",
    "\n",
    "today = date.today() - timedelta(1)\n",
    "currentDate = today.strftime(\"%Y-%m-%d\")"
   ]
  },
  {
   "cell_type": "code",
   "execution_count": 4,
   "metadata": {},
   "outputs": [
    {
     "name": "stdout",
     "output_type": "stream",
     "text": "(20428, 56)\nfloat64    36\nobject     20\ndtype: int64\n"
    }
   ],
   "source": [
    "import s3fs\n",
    "import pyarrow.parquet as pq\n",
    "\n",
    "s3 = s3fs.S3FileSystem()\n",
    "\n",
    "filePath = 's3://airbnb-barcelona/valid/currentDate=%s' % currentDate\n",
    "airbnb_df = pq.ParquetDataset(filePath, filesystem=s3).read_pandas().to_pandas()\n",
    "\n",
    "airbnb_df = airbnb_df.drop(columns=[\n",
    "    'rowId',\n",
    "    'id',\n",
    "    'host_location',\n",
    "    'host_neighbourhood',\n",
    "    'street',\n",
    "    'neighbourhood',\n",
    "    'neighbourhood_cleansed',\n",
    "    'market',\n",
    "    'license',\n",
    "    'zipcode'\n",
    "])\n",
    "\n",
    "print(airbnb_df.shape)\n",
    "print(airbnb_df.dtypes.value_counts())"
   ]
  },
  {
   "cell_type": "markdown",
   "metadata": {},
   "source": [
    "## "
   ]
  },
  {
   "cell_type": "code",
   "execution_count": 10,
   "metadata": {},
   "outputs": [
    {
     "data": {
      "text/html": "<div>\n<style scoped>\n    .dataframe tbody tr th:only-of-type {\n        vertical-align: middle;\n    }\n\n    .dataframe tbody tr th {\n        vertical-align: top;\n    }\n\n    .dataframe thead th {\n        text-align: right;\n    }\n</style>\n<table border=\"1\" class=\"dataframe\">\n  <thead>\n    <tr style=\"text-align: right;\">\n      <th></th>\n      <th>host_since</th>\n      <th>host_response_time</th>\n      <th>host_response_rate</th>\n      <th>host_is_superhost</th>\n      <th>host_listings_count</th>\n      <th>host_total_listings_count</th>\n      <th>host_verifications</th>\n      <th>host_has_profile_pic</th>\n      <th>host_identity_verified</th>\n      <th>neighbourhood_group_cleansed</th>\n      <th>latitude</th>\n      <th>longitude</th>\n      <th>is_location_exact</th>\n      <th>property_type</th>\n      <th>room_type</th>\n      <th>accommodates</th>\n      <th>bathrooms</th>\n      <th>bedrooms</th>\n      <th>beds</th>\n      <th>bed_type</th>\n      <th>amenities</th>\n      <th>price</th>\n      <th>security_deposit</th>\n      <th>cleaning_fee</th>\n      <th>guests_included</th>\n      <th>extra_people</th>\n      <th>minimum_nights</th>\n      <th>maximum_nights</th>\n      <th>minimum_nights_avg_ntm</th>\n      <th>maximum_nights_avg_ntm</th>\n      <th>calendar_updated</th>\n      <th>has_availability</th>\n      <th>availability_30</th>\n      <th>availability_60</th>\n      <th>availability_90</th>\n      <th>availability_365</th>\n      <th>number_of_reviews</th>\n      <th>number_of_reviews_ltm</th>\n      <th>first_review</th>\n      <th>last_review</th>\n      <th>review_scores_rating</th>\n      <th>review_scores_accuracy</th>\n      <th>review_scores_cleanliness</th>\n      <th>review_scores_checkin</th>\n      <th>review_scores_communication</th>\n      <th>review_scores_location</th>\n      <th>review_scores_value</th>\n      <th>instant_bookable</th>\n      <th>cancellation_policy</th>\n      <th>require_guest_profile_picture</th>\n      <th>require_guest_phone_verification</th>\n      <th>calculated_host_listings_count</th>\n      <th>calculated_host_listings_count_entire_homes</th>\n      <th>calculated_host_listings_count_private_rooms</th>\n      <th>calculated_host_listings_count_shared_rooms</th>\n      <th>reviews_per_month</th>\n    </tr>\n  </thead>\n  <tbody>\n    <tr>\n      <th>0</th>\n      <td>2010-01-19</td>\n      <td>5</td>\n      <td>0.99</td>\n      <td>0.0</td>\n      <td>46.0</td>\n      <td>46.0</td>\n      <td>['email', 'phone', 'reviews', 'jumio', 'government_id']</td>\n      <td>1.0</td>\n      <td>1.0</td>\n      <td>8</td>\n      <td>41.40889</td>\n      <td>2.18555</td>\n      <td>1.0</td>\n      <td>2</td>\n      <td>1</td>\n      <td>6.0</td>\n      <td>1.0</td>\n      <td>2.0</td>\n      <td>4.0</td>\n      <td>5</td>\n      <td>{TV,Internet,Wifi,\"Air conditioning\",\"Wheelchair accessible\",Kitchen,Elevator,\"Free street parking\",Heating,\"Family/kid friendly\",Washer,Dryer,Essentials,Shampoo,\"Hair dryer\",\"Hot water\",\"Host greets you\",\"Paid parking on premises\"}</td>\n      <td>130.0</td>\n      <td>150.0</td>\n      <td>42.0</td>\n      <td>2.0</td>\n      <td>25.0</td>\n      <td>3.0</td>\n      <td>730.0</td>\n      <td>3.0</td>\n      <td>730.0</td>\n      <td>3 months ago</td>\n      <td>1.0</td>\n      <td>0.0</td>\n      <td>0.0</td>\n      <td>29.0</td>\n      <td>304.0</td>\n      <td>1.0</td>\n      <td>0.0</td>\n      <td>2015-10-10</td>\n      <td>2015-10-10</td>\n      <td>80.0</td>\n      <td>10.0</td>\n      <td>10.0</td>\n      <td>2.0</td>\n      <td>10.0</td>\n      <td>10.0</td>\n      <td>8.0</td>\n      <td>0.0</td>\n      <td>1</td>\n      <td>0.0</td>\n      <td>0.0</td>\n      <td>30.0</td>\n      <td>30.0</td>\n      <td>0.0</td>\n      <td>0.0</td>\n      <td>0.02</td>\n    </tr>\n  </tbody>\n</table>\n</div>",
      "text/plain": "   host_since  host_response_time  host_response_rate  host_is_superhost  \\\n0  2010-01-19                   5                0.99                0.0   \n\n   host_listings_count  host_total_listings_count  \\\n0                 46.0                       46.0   \n\n                                        host_verifications  \\\n0  ['email', 'phone', 'reviews', 'jumio', 'government_id']   \n\n   host_has_profile_pic  host_identity_verified  neighbourhood_group_cleansed  \\\n0                   1.0                     1.0                             8   \n\n   latitude  longitude  is_location_exact  property_type  room_type  \\\n0  41.40889    2.18555                1.0              2          1   \n\n   accommodates  bathrooms  bedrooms  beds  bed_type  \\\n0           6.0        1.0       2.0   4.0         5   \n\n                                                                                                                                                                                                                                  amenities  \\\n0  {TV,Internet,Wifi,\"Air conditioning\",\"Wheelchair accessible\",Kitchen,Elevator,\"Free street parking\",Heating,\"Family/kid friendly\",Washer,Dryer,Essentials,Shampoo,\"Hair dryer\",\"Hot water\",\"Host greets you\",\"Paid parking on premises\"}   \n\n   price  security_deposit  cleaning_fee  guests_included  extra_people  \\\n0  130.0             150.0          42.0              2.0          25.0   \n\n   minimum_nights  maximum_nights  minimum_nights_avg_ntm  \\\n0             3.0           730.0                     3.0   \n\n   maximum_nights_avg_ntm calendar_updated  has_availability  availability_30  \\\n0                   730.0     3 months ago               1.0              0.0   \n\n   availability_60  availability_90  availability_365  number_of_reviews  \\\n0              0.0             29.0             304.0                1.0   \n\n   number_of_reviews_ltm first_review last_review  review_scores_rating  \\\n0                    0.0   2015-10-10  2015-10-10                  80.0   \n\n   review_scores_accuracy  review_scores_cleanliness  review_scores_checkin  \\\n0                    10.0                       10.0                    2.0   \n\n   review_scores_communication  review_scores_location  review_scores_value  \\\n0                         10.0                    10.0                  8.0   \n\n   instant_bookable  cancellation_policy  require_guest_profile_picture  \\\n0               0.0                    1                            0.0   \n\n   require_guest_phone_verification  calculated_host_listings_count  \\\n0                               0.0                            30.0   \n\n   calculated_host_listings_count_entire_homes  \\\n0                                         30.0   \n\n   calculated_host_listings_count_private_rooms  \\\n0                                           0.0   \n\n   calculated_host_listings_count_shared_rooms  reviews_per_month  \n0                                          0.0               0.02  "
     },
     "execution_count": 10,
     "metadata": {},
     "output_type": "execute_result"
    }
   ],
   "source": [
    "# drop outliers\n",
    "airbnb_df = trans.drop_rows_occurs_less_than(airbnb_df, \"cancellation_policy\", 2)\n",
    "airbnb_df = trans.drop_rows_occurs_less_than(airbnb_df, \"host_response_time\", 1)\n",
    "# boolean to float\n",
    "airbnb_df = trans.encode_boolean_to_float(airbnb_df, \"host_is_superhost\")\n",
    "airbnb_df = trans.encode_boolean_to_float(airbnb_df, \"host_has_profile_pic\")\n",
    "airbnb_df = trans.encode_boolean_to_float(airbnb_df, \"host_identity_verified\")\n",
    "airbnb_df = trans.encode_boolean_to_float(airbnb_df, \"is_location_exact\")\n",
    "airbnb_df = trans.encode_boolean_to_float(airbnb_df, \"has_availability\")\n",
    "airbnb_df = trans.encode_boolean_to_float(airbnb_df, \"instant_bookable\")\n",
    "airbnb_df = trans.encode_boolean_to_float(airbnb_df, \"require_guest_profile_picture\")\n",
    "airbnb_df = trans.encode_boolean_to_float(airbnb_df, \"require_guest_phone_verification\")\n",
    "# fillna\n",
    "airbnb_df = trans.fillna_with_lowest_occurance(airbnb_df, \"host_since\")\n",
    "airbnb_df = trans.fillna_with_lowest_occurance(airbnb_df, \"host_response_time\")\n",
    "airbnb_df = trans.fillna_with_lowest_occurance(airbnb_df, \"host_is_superhost\")\n",
    "airbnb_df = trans.fillna_with_lowest_occurance(airbnb_df, \"host_has_profile_pic\")\n",
    "airbnb_df = trans.fillna_with_lowest_occurance(airbnb_df, \"host_identity_verified\")\n",
    "airbnb_df = trans.fillna_with_lowest_occurance(airbnb_df, \"first_review\")\n",
    "airbnb_df = trans.fillna_with_lowest_occurance(airbnb_df, \"last_review\")\n",
    "# category encode\n",
    "category_encoder = trans.encode_category_dic(airbnb_df)\n",
    "category_columns = [\n",
    "    \"neighbourhood_group_cleansed\",\n",
    "    \"property_type\",\n",
    "    \"room_type\",\n",
    "    \"bed_type\",\n",
    "    \"cancellation_policy\"\n",
    "]\n",
    "category_dic = trans.foldleft(category_encoder, {}, category_columns)\n",
    "dic_host_response_time = {'host_response_time': {'N/A': 1, 'a few days or more': 2, 'within a day': 3, 'within a few hours': 4, 'within an hour': 5}}\n",
    "category_dic = dict(dic_host_response_time, **category_dic)\n",
    "airbnb_df = airbnb_df.replace(category_dic)\n",
    "airbnb_df.head(1)"
   ]
  },
  {
   "cell_type": "markdown",
   "metadata": {},
   "source": [
    "## One Hot Encoding for amenities and host_verifications"
   ]
  },
  {
   "cell_type": "code",
   "execution_count": 13,
   "metadata": {},
   "outputs": [],
   "source": [
    "all_amenities_series = airbnb_df['amenities'].apply(trans.explode_string_to_list, pattern_to_remove='[{}\"\"]')\n",
    "irrelevant_amenities = ['', \n",
    "                        'translation missing: en.hosting_amenity_49', \n",
    "                        'translation missing: en.hosting_amenity_50']\n",
    "amenities_to_remove = irrelevant_amenities + trans.get_keys_below_threshold(all_amenities_series, 51) \n",
    "\n",
    "ohe_amenities_df = trans.get_one_hot_encoded_df(all_amenities_series).drop(columns=amenities_to_remove)"
   ]
  },
  {
   "cell_type": "code",
   "execution_count": 14,
   "metadata": {},
   "outputs": [],
   "source": [
    "\n",
    "all_host_verifications_series = airbnb_df['host_verifications'].apply(trans.explode_string_to_list, pattern_to_remove='[\\[\\]\\']|[\\'\\s]')\n",
    "invalid_verifications = ['','none']\n",
    "verifications_to_remove = invalid_verifications + trans.get_keys_below_threshold(all_host_verifications_series, 51) \n",
    "\n",
    "ohe_host_verifications_df = trans.get_one_hot_encoded_df(all_host_verifications_series).drop(columns=verifications_to_remove)"
   ]
  },
  {
   "cell_type": "code",
   "execution_count": 15,
   "metadata": {},
   "outputs": [],
   "source": [
    "ohe_airbnb_df = airbnb_df.join(ohe_amenities_df).join(ohe_host_verifications_df).drop(columns=['amenities', 'host_verifications'])"
   ]
  },
  {
   "cell_type": "markdown",
   "metadata": {},
   "source": [
    "## Feature Selection"
   ]
  },
  {
   "cell_type": "markdown",
   "metadata": {},
   "source": [
    "## p-value analysis"
   ]
  }
 ],
 "metadata": {
  "kernelspec": {
   "display_name": "Python 3.7.6 64-bit ('airbnb-ml': venv)",
   "language": "python",
   "name": "python37664bitairbnbmlvenvd3c02c53c70a48deac7ade4c2dc44e6b"
  },
  "language_info": {
   "codemirror_mode": {
    "name": "ipython",
    "version": 3
   },
   "file_extension": ".py",
   "mimetype": "text/x-python",
   "name": "python",
   "nbconvert_exporter": "python",
   "pygments_lexer": "ipython3",
   "version": "3.7.6-final"
  }
 },
 "nbformat": 4,
 "nbformat_minor": 4
}