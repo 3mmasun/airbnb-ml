{
 "cells": [
  {
   "cell_type": "code",
   "execution_count": 1,
   "metadata": {},
   "outputs": [
    {
     "name": "stdout",
     "output_type": "stream",
     "text": "/Users/shelvia.hotama/IdeaProjects/airbnb-ml\n"
    }
   ],
   "source": [
    "cd .."
   ]
  },
  {
   "cell_type": "code",
   "execution_count": 15,
   "metadata": {},
   "outputs": [],
   "source": [
    "import numpy as np\n",
    "import pandas as pd\n",
    "import seaborn as sns\n",
    "import matplotlib.pyplot as plt\n",
    "import src.transform as trans\n",
    "\n",
    "pd.set_option('display.max_colwidth', None)\n",
    "pd.set_option('display.max_columns', None)\n",
    "pd.set_option('display.max_rows', None)"
   ]
  },
  {
   "cell_type": "code",
   "execution_count": 16,
   "metadata": {},
   "outputs": [],
   "source": [
    "from datetime import date, timedelta\n",
    "\n",
    "today = date.today() - timedelta(1)\n",
    "currentDate = today.strftime(\"%Y-%m-%d\")"
   ]
  },
  {
   "cell_type": "code",
   "execution_count": 17,
   "metadata": {},
   "outputs": [
    {
     "name": "stdout",
     "output_type": "stream",
     "text": "(20428, 66)\nfloat64    36\nobject     30\ndtype: int64\n"
    }
   ],
   "source": [
    "import s3fs\n",
    "import pyarrow.parquet as pq\n",
    "\n",
    "s3 = s3fs.S3FileSystem()\n",
    "\n",
    "filePath = 's3://airbnb-barcelona/valid/currentDate=%s' % currentDate\n",
    "airbnb_df = pq.ParquetDataset(filePath, filesystem=s3).read_pandas().to_pandas()\n",
    "\n",
    "airbnb = airbnb_df.drop(columns=[\n",
    "    'rowId',\n",
    "    'id',\n",
    "    'host_location',\n",
    "    'host_neighbourhood',\n",
    "    'street',\n",
    "    'neighbourhood',\n",
    "    'neighbourhood_cleansed',\n",
    "    'market',\n",
    "    'license',\n",
    "    'zipcode'\n",
    "])\n",
    "\n",
    "print(airbnb_df.shape)\n",
    "print(airbnb_df.dtypes.value_counts())"
   ]
  },
  {
   "cell_type": "code",
   "execution_count": 18,
   "metadata": {},
   "outputs": [],
   "source": [
    "from collections import Counter\n",
    "\n",
    "exploded_amenities_df = airbnb_df['amenities'].apply(trans.explode_amenities_string)\n",
    "amenities_dict = dict(Counter(trans.flatten(exploded_amenities_df.values)))"
   ]
  },
  {
   "cell_type": "code",
   "execution_count": 24,
   "metadata": {},
   "outputs": [],
   "source": [
    "import pandas as pd\n",
    "from sklearn.preprocessing import MultiLabelBinarizer\n",
    "\n",
    "mlb = MultiLabelBinarizer()\n",
    "one_hot_encoded_amenities = pd.DataFrame(mlb.fit_transform(exploded_amenities_df),\n",
    "                   columns=mlb.classes_,\n",
    "                   index=exploded_amenities_df.index)"
   ]
  },
  {
   "cell_type": "code",
   "execution_count": null,
   "metadata": {},
   "outputs": [],
   "source": [
    "def remove_item_from_dict(dictionary, keys_to_remove):\n",
    "    for key in keys_to_remove:\n",
    "        del dictionary[key]"
   ]
  },
  {
   "cell_type": "code",
   "execution_count": null,
   "metadata": {},
   "outputs": [],
   "source": [
    "keys_to_remove = []\n",
    "for amenity, count in amenities_dict.items():\n",
    "    if count < 51:\n",
    "        keys_to_remove.append(amenity)\n",
    "        "
   ]
  },
  {
   "cell_type": "code",
   "execution_count": null,
   "metadata": {},
   "outputs": [],
   "source": [
    "irrelevant_amenities = ['1125', '1', '', 'translation missing: en.hosting_amenity_49', 'translation missing: en.hosting_amenity_50']\n",
    "keys_to_remove += irrelevant_amenities\n",
    "amenities_df = one_hot_encoded_amenities.drop(keys_to_remove, axis=1)\n",
    "amenities_df.head(5)"
   ]
  },
  {
   "cell_type": "code",
   "execution_count": null,
   "metadata": {},
   "outputs": [],
   "source": [
    "airbnb_df['amenities']"
   ]
  },
  {
   "cell_type": "code",
   "execution_count": 27,
   "metadata": {},
   "outputs": [
    {
     "data": {
      "text/plain": "array([list(['TV', 'Internet', 'Wifi', 'Air conditioning', 'Wheelchair accessible', 'Kitchen', 'Elevator', 'Free street parking', 'Heating', 'Family/kid friendly', 'Washer', 'Dryer', 'Essentials', 'Shampoo', 'Hair dryer', 'Hot water', 'Host greets you', 'Paid parking on premises']),\n       list(['TV', 'Internet', 'Wifi', 'Air conditioning', 'Wheelchair accessible', 'Kitchen', 'Elevator', 'Free street parking', 'Buzzer/wireless intercom', 'Heating', 'Family/kid friendly', 'Washer', 'Essentials', 'Shampoo', 'Hangers', 'Hair dryer', 'Iron', 'Laptop friendly workspace', 'Crib', 'Hot water', 'Host greets you', 'Paid parking on premises']),\n       list(['TV', 'Internet', 'Wifi', 'Wheelchair accessible', 'Kitchen', 'Paid parking off premises', 'Elevator', 'Buzzer/wireless intercom', 'Heating', 'Family/kid friendly', 'Washer', 'Dryer', 'Smoke detector', 'Carbon monoxide detector', 'Fire extinguisher', 'Essentials', 'Shampoo', 'Hangers', 'Hair dryer', 'Iron', 'Laptop friendly workspace', 'High chair', 'Crib', 'Pack ’n Play/travel crib', 'Hot water', 'Bed linens', 'Microwave', 'Coffee maker', 'Refrigerator', 'Dishwasher', 'Dishes and silverware', 'Cooking basics', 'Oven', 'Stove', 'Patio or balcony', 'Luggage dropoff allowed', 'Long term stays allowed', 'Wide hallways', 'No stairs or steps to enter', 'Wide entrance for guests', 'Flat path to guest entrance', 'Well-lit path to entrance', 'No stairs or steps to enter', 'Wide entryway', 'Host greets you', 'Paid parking on premises']),\n       ...,\n       list(['TV', 'Cable TV', 'Wifi', 'Air conditioning', 'Pool', 'Kitchen', 'Free parking on premises', 'Hot tub', 'Indoor fireplace', 'Heating', 'Suitable for events', 'Washer', 'Dryer', 'Smoke detector', 'Carbon monoxide detector', 'First aid kit', 'Shampoo', 'Lock on bedroom door', 'Hangers', 'Hair dryer', 'Iron', 'Laptop friendly workspace', 'Private living room', 'Bathtub', 'High chair', 'Hot water', 'Bed linens', 'Extra pillows and blankets', 'Microwave', 'Coffee maker', 'Refrigerator', 'Dishwasher', 'Cooking basics', 'Oven', 'Stove', 'BBQ grill', 'Patio or balcony', 'Other', 'Handheld shower head']),\n       list(['TV', 'Wifi', 'Kitchen', 'Free parking on premises', 'Paid parking off premises', 'Elevator', 'Free street parking', 'Heating', 'Washer', 'Smoke detector', 'Carbon monoxide detector', 'Essentials', 'Shampoo', 'Hangers', 'Hair dryer', 'Iron', 'Laptop friendly workspace', 'Private entrance', 'Room-darkening shades', 'Hot water', 'Bed linens', 'Extra pillows and blankets', 'Ethernet connection', 'Microwave', 'Coffee maker', 'Refrigerator', 'Dishwasher', 'Dishes and silverware', 'Cooking basics', 'Stove', 'Luggage dropoff allowed', 'Long term stays allowed', 'Paid parking on premises']),\n       list(['TV', 'Wifi', 'Air conditioning', 'Kitchen', 'Elevator', 'Heating', 'Washer', 'Essentials', 'Shampoo', 'Hangers', 'Iron', 'Laptop friendly workspace'])],\n      dtype=object)"
     },
     "execution_count": 27,
     "metadata": {},
     "output_type": "execute_result"
    }
   ],
   "source": [
    "exploded_amenities_df.values"
   ]
  },
  {
   "cell_type": "code",
   "execution_count": null,
   "metadata": {},
   "outputs": [],
   "source": []
  }
 ],
 "metadata": {
  "kernelspec": {
   "display_name": "Python 3.7.6 64-bit ('airbnb-ml': venv)",
   "language": "python",
   "name": "python37664bitairbnbmlvenvd3c02c53c70a48deac7ade4c2dc44e6b"
  },
  "language_info": {
   "codemirror_mode": {
    "name": "ipython",
    "version": 3
   },
   "file_extension": ".py",
   "mimetype": "text/x-python",
   "name": "python",
   "nbconvert_exporter": "python",
   "pygments_lexer": "ipython3",
   "version": "3.7.6-final"
  }
 },
 "nbformat": 4,
 "nbformat_minor": 4
}